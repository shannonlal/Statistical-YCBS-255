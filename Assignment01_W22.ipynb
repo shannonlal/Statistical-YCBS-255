{
  "cells": [
    {
      "cell_type": "markdown",
      "metadata": {
        "id": "view-in-github",
        "colab_type": "text"
      },
      "source": [
        "<a href=\"https://colab.research.google.com/github/shannonlal/Statistical-YCBS-255/blob/main/Assignment01_W22.ipynb\" target=\"_parent\"><img src=\"https://colab.research.google.com/assets/colab-badge.svg\" alt=\"Open In Colab\"/></a>"
      ]
    },
    {
      "cell_type": "markdown",
      "metadata": {
        "id": "wHIJXuml3JLf"
      },
      "source": [
        "# Assignment 1 **<font color=\"blue\"> (15 points )<font>**\n",
        "\n",
        "------\n",
        "### Notes and Instructions\n",
        "  + You may need additional libraries besides the Python standard library to solve some questions. Import only necessary libraries. \n",
        "  + If more than one library exist for a same purpose, choose the one you wish as long as it does the task properly. \n",
        "  + If we want you to use a specific library, then we will state it clearly. \n",
        "  + Use the exact variable names asked in the questions. When no clear instructions given, feel free to do it the way you would like to.\n",
        "  + After each question, add the needed number of new cells and place your answers inside the cells. \n",
        "  + Use text cells for explanations. Use explanation and plain text as much as possible. \n",
        "  + Do not remove or modify the original cells provided by the instructor.\n",
        "  + In the following cell you will find some extra options to make your code more readable, including output colors RED, OKBLUE, or output text styles like BOLD or UNDERLINE that. Do not hesitate to use them. As an example, one may output text in red as follows: \n",
        "  ```python\n",
        "     print(bcolors.RED + \"your text\" + bcolors.ENDC)\n",
        "  ```\n",
        "  + Comment your code whenever needed using # sign at the beginning of the row.\n",
        "  + In some questions some of the details needed for solving the problem are **purposely** omitted to encourage additional self-directed research. This, especially, helps you develop some search skills for coding in Python (which is inevitable due to the inconsistent syntax of Python).\n",
        "  + Do not hesitate to communicate your questions to the TA's or instructors. Good luck!\n",
        "  "
      ]
    },
    {
      "cell_type": "markdown",
      "metadata": {
        "id": "8Pw5AC0_5LxC"
      },
      "source": [
        "###   Answer each question in the designated cell. You may create additional cells as needed, but the output (answer) should be in each question's designated cell as marked. For written comments and answers, please add them in a text cell. \n",
        "### <font color=\"blue\"> 1.5 points will be awarded for clean and clear code, and generating outputs in the designated cells.    \n",
        "</font>"
      ]
    },
    {
      "cell_type": "code",
      "execution_count": 3,
      "metadata": {
        "id": "tJS1lJsC3JLm"
      },
      "outputs": [],
      "source": [
        "# The following piece of code gives the opportunity to show multiple outputs\n",
        "# in one cell:\n",
        "from IPython.core.interactiveshell import InteractiveShell\n",
        "InteractiveShell.ast_node_interactivity = \"all\"\n",
        "\n",
        "# Colorful outputs\n",
        "class bcolors:\n",
        "    RED       = '\\033[91m'\n",
        "    OKBLUE    = '\\033[94m'\n",
        "    BOLD      = '\\033[1m'\n",
        "    UNDERLINE = '\\033[4m'\n",
        "    ENDC      = '\\033[0m'"
      ]
    },
    {
      "cell_type": "markdown",
      "metadata": {
        "id": "ctNRZFL03JLv"
      },
      "source": [
        "## Question 1 <font color=\"blue\">(4 points)</font>\n",
        "\n",
        "  1. **<font color=\"blue\">(2 points)</font>** Write a Python **function** that takes two **positive integers** and returns their **greatest common divisor**. In case you pass a negative integer to the function it must return the following string **in red**: <br> <font color=\"red\"> \"This function takes only positive integers!\" </font>\n",
        "  2. **<font color=\"blue\">(2 points)</font>** Write a function that prints all the prime numbers less than or equal to $n$, where $n$ is a parameter to be passed to the function. If $n \\leq 1$ the function returns <br>\n",
        "<font color=\"red\">\"No prime number was found!\"</span>."
      ]
    },
    {
      "cell_type": "code",
      "execution_count": null,
      "metadata": {
        "id": "XGIejOQf5LxE"
      },
      "outputs": [],
      "source": [
        "# Code for Q1.1\n",
        "\n",
        "# After doing some research on the internet I was able to get a definition of the Greatest Common Divisor (GCD) using  the Euclidean Algorithm.  \n",
        "# I used a couple of sources for defining this and I wanted to not them in my solution\n",
        "\n",
        "# Sources:\n",
        "## https://www.youtube.com/watch?v=p5gn2hj51hs\n",
        "## https://www.freecodecamp.org/news/euclidian-gcd-algorithm-greatest-common-divisor/\n",
        "\n",
        "## Validation:\n",
        "## https://www.calculatorsoup.com/calculators/math/gcf.php\n",
        "\n",
        "# Algorithm\n",
        "## 1. Verify the numbers are non-negative.  If they are return error message\n",
        "## 2. Determine the GCD given two numbers\n",
        "\n",
        "# GCD Algorithm\n",
        "## This will be a recurseive algoirthm that uses the mod function between two numbers.  Once the mod is equal to 0 the \n",
        "## the previous remainder is the GCD between two numbers:\n",
        "\n",
        "\n",
        "def gcd( a, b ):\n",
        "  if b == 0:\n",
        "    return a\n",
        "  else:\n",
        "    # The following is a recrusive call to GCD using the previous variable and mod function\n",
        "    return gcd( b, (a%b))\n",
        "\n",
        "def calculateGreatestCommonDivisor( a, b ):\n",
        "  if (a < 0 ) or ( b < 0):\n",
        "    return bcolors.RED+ \"This function takes only positive integers!\"\n",
        "  else:\n",
        "    return gcd( a,b)\n",
        "\n",
        "## Test Cases\n",
        "assert calculateGreatestCommonDivisor( 0, 0) == 0\n",
        "assert calculateGreatestCommonDivisor( 10, 0) == 10\n",
        "assert calculateGreatestCommonDivisor( 0, 10) == 10\n",
        "assert calculateGreatestCommonDivisor( 97, 4) == 1\n",
        "assert calculateGreatestCommonDivisor( 21, 21) == 21\n",
        "\n",
        "assert calculateGreatestCommonDivisor( -3, 4) == bcolors.RED+ \"This function takes only positive integers!\"\n",
        "assert calculateGreatestCommonDivisor( 4, -4) == bcolors.RED+ \"This function takes only positive integers!\"\n",
        "\n",
        "\n"
      ]
    },
    {
      "cell_type": "code",
      "execution_count": null,
      "metadata": {
        "id": "bEu_L-N75LxE"
      },
      "outputs": [],
      "source": [
        "# Code for Q1.2\n",
        "# After doing some research on the internet it looks like the Sieve of Eratosthenes is the most efficient way to calculate this.\n",
        "# Note: The key though is that this algorithm is efficient for numbers under 10,000,000.  The issue is that it creates an array and \n",
        "# beyond 10,000,000 the amount of memory required to calculate this needs to be factored into the algoirhtm.\n",
        "# For the purpose of this question we will assume the numbers are below 10,000,000\n",
        "\n",
        "# Sources:\n",
        "## https://en.wikipedia.org/wiki/Sieve_of_Atkin\n",
        "## https://stackoverflow.com/questions/11619942/print-series-of-prime-numbers-in-python\n",
        "\n",
        "\n",
        "# Validation: \n",
        "## https://www.mathsisfun.com/prime_numbers.html\n",
        "\n",
        "# Algorithm for calculating the list of primes given a number\n",
        "# 1. Create an array of size n-1 and set every value to TRUE\n",
        "# 2. Look at the the first item (i.e. normally 2) and attempt to divide each other element in the list by it.  If the remainder (i.e. mod ==0 ) then\n",
        "# it is divisible by the element and is not a prime and should be marked as FALSE\n",
        "# 3.  Repeat the process by finding the next element in the list that is TRUE and attempt to divide the all remaining elements \n",
        "\n",
        "def calculateListOfPrimes( n ):\n",
        "\n",
        "  # Create a boolean array of primes\n",
        "  primes = [True for i in range (n+1)]\n",
        "\n",
        "  #Note: start at 2 as is first prime\n",
        "  p = 2\n",
        "\n",
        "  while( p*p <= n):\n",
        "\n",
        "    if( primes[p] == True):\n",
        "\n",
        "      for i in range (p*p, n+1, p ):\n",
        "        primes[i] = False\n",
        "    \n",
        "    p+=1\n",
        "  \n",
        "  listOfPrimes = []\n",
        "  for p in range( 2, n+1):\n",
        "    if primes[p]:\n",
        "      listOfPrimes.append(p)\n",
        "  \n",
        "  return listOfPrimes\n",
        "\n",
        "\n",
        "\n",
        "assert calculateListOfPrimes(10) == [2,3,5,7]\n",
        "assert calculateListOfPrimes(2) == [2]\n",
        "assert calculateListOfPrimes(100) == [2, 3, 5, 7, 11, 13, 17, 19, 23, 29, 31, 37, 41, 43, 47, 53, 59, 61, 67, 71, 73, 79, 83, 89, 97]"
      ]
    },
    {
      "cell_type": "markdown",
      "metadata": {
        "id": "udPL4T8f3JLx"
      },
      "source": [
        "## Question 2 <font color=\"blue\">(10.5 points)</font>\n",
        "Let $\\mathbf X\\sim \\mbox{Exp}(\\lambda)$, with parameter $\\lambda = 1.2$.\n",
        "  1. **<font color=\"blue\">(1.5 points)</font>** Define the population mean and the sample mean. What is the population mean of the above described distribution. \n",
        "  2. **<font color=\"blue\">(2 point)</font>**  Generate $100$ different samples of $\\mathbf X$, namely, $S_{100}, S_{200}, S_{300}, \\dots, S_{10000}$, where indeces denote the number of observations (sample size) in each sample. \n",
        "  3. **<font color=\"blue\">(2 points)</font> Estimate** the population mean using each sample and explain the rationale behind your estimation. \n",
        "  4. **<font color=\"blue\">(2 point)</font>** Applying **appropriate** methods visualize and describe the values obtained in the previous step. \n",
        "  5. **<font color=\"blue\">(3 points)</font>** Finally, draw an inference about the population mean and its relation with sample means, based on visualized results in step 4."
      ]
    },
    {
      "cell_type": "code",
      "execution_count": null,
      "metadata": {
        "id": "qwvRMOJL5LxF",
        "colab": {
          "base_uri": "https://localhost:8080/"
        },
        "outputId": "e26f661b-f453-4d91-cda6-e1c4ceae494b"
      },
      "outputs": [
        {
          "output_type": "stream",
          "name": "stdout",
          "text": [
            "\u001b[91mPopulation Mean for Exponential Distrubition: %f 0.8333333333333334\n"
          ]
        }
      ],
      "source": [
        "# Code for Q2.1\n",
        "\n",
        "# Question: Does he want the formula or just a text defnition for sample and population mean\n",
        "\n",
        "# Example: To explain sample mean vs population I will use an example.  Let's say we were studying the amount of screen time each student \n",
        "# watched each week.  If there where 1000 students in each class and each class had about 30 students then the definitions would be as follows:\n",
        "# Population Mean: This represents the actual mean of the entire poplulation.  If the above example population mean would be :\n",
        "# (Sum of screen time for all students)/ (1000 -- total sutdent population)\n",
        "\n",
        "# Sample Mean: This represents the mean of the sample.  In the above sample the sample mean would be:\n",
        "# (Sum of the screen time for a class)/( 30 -- students in the class or sample)\n",
        "\n",
        "mu = 1.2\n",
        "population_mean = (1/mu)\n",
        "\n",
        "print( bcolors.RED + \"Population Mean for Exponential Distrubition: %f\", population_mean  )"
      ]
    },
    {
      "cell_type": "code",
      "execution_count": null,
      "metadata": {
        "id": "rZEiKt2N5LxF"
      },
      "outputs": [],
      "source": [
        "# Code for Q2.2\n",
        "# The goal of this question is to generate 100 different samples where each sample has a different size (i.e. 100, 200, 300....)\n",
        "# The out put of this function will be an array of arrays.  Each element in the array will contain an area of samples.  To accomplish this\n",
        "# We break this down into a couple of steps:\n",
        "# 1. Generate a function and create a sample set of n elements based on a range of 100,000 \n",
        "# 2. Call the above function to generate your samples and add it to an array\n",
        "from random import sample\n",
        "\n",
        "def generate_sample( sample_size ):\n",
        "  return sample(range( 100000),sample_size)\n",
        "\n",
        "## Test Cases - generate_sample\n",
        "assert len(generate_sample( 1 )) == 1\n",
        "assert len(generate_sample( 10 )) == 10\n",
        "\n",
        "def create_samples( number_of_samples, sample_size_increment):\n",
        "  sample_size = sample_size_increment\n",
        "  samples = []\n",
        "  for i in range(0, number_of_samples):\n",
        "    samples.append( generate_sample(sample_size) )\n",
        "    sample_size += sample_size_increment\n",
        "  \n",
        "  return samples\n",
        "\n",
        "## Test Cases for - create_samples\n",
        "q2_samples = create_samples( 100, 100)\n",
        "\n",
        "## Verify the over length of the main array and spot check sizes of the inner lists\n",
        "assert len( q2_samples ) == 100\n",
        "assert len( q2_samples[0] ) == 100\n",
        "assert len( q2_samples[40] ) == 4100\n",
        "assert len( q2_samples[99] ) == 10000\n",
        "\n",
        "\n",
        "\n",
        "\n",
        "\n",
        "\n"
      ]
    },
    {
      "cell_type": "code",
      "execution_count": null,
      "metadata": {
        "id": "3aNBSPFy5LxG",
        "colab": {
          "base_uri": "https://localhost:8080/"
        },
        "outputId": "6ab786ef-df60-43ae-e1cb-a0ac5c6b47a3"
      },
      "outputs": [
        {
          "output_type": "stream",
          "name": "stdout",
          "text": [
            "\u001b[91mPopulation Mean for Q2 Samples %f 50041.034045544555\n"
          ]
        }
      ],
      "source": [
        "# Code for Q2.3\n",
        "# To calculate the mean of a large number sample sizes will be very complicated since the sample sizes are all different; however,  \n",
        "# Central Limit Therom states that if you take sufficently large number of random samples from the population the distrubtion of the sample\n",
        "# means will be approximately.\n",
        "# Sample Mean is calculated as the Sum (of all obersavtions)/Number of samples\n",
        "\n",
        "# Algorithm:\n",
        "# 1. To calculate the this will need to get the sum of all the obersation in each sample and the number of elements \n",
        "# 2. Sum all obersavations/ total number of samples\n",
        "\n",
        "def get_sample_details( smple ):\n",
        "  result = []\n",
        "  sample_sum = 0\n",
        "  for i in smple:\n",
        "    sample_sum += i\n",
        "  \n",
        "  result.append( sample_sum )\n",
        "  result.append( len( smple ))\n",
        "\n",
        "  return result\n",
        "\n",
        "## Test Cases for - get sample details\n",
        "sample_details = get_sample_details([1,3,5,5,1,1,1,1])\n",
        "# Sum of all the elements\n",
        "assert sample_details[0] == 18\n",
        "# Count of all elements\n",
        "assert sample_details[1] == 8\n",
        "\n",
        "\n",
        "def calculate_population_means( expirements ):\n",
        "  mu = 0\n",
        "  samples_sum = 0\n",
        "  samples_size = 0\n",
        "\n",
        "  for i in expirements : \n",
        "    rst = get_sample_details( i )\n",
        "    samples_sum += rst[0]\n",
        "    samples_size += rst[1]\n",
        "  \n",
        "  mu = (samples_sum / samples_size)\n",
        "\n",
        "  return mu\n",
        "\n",
        "## Test Cases calculate_population_means\n",
        "assert calculate_population_means( [[2,2,2,2,2]] )  == 2.0\n",
        "assert calculate_population_means( [[1,1,1,1,1],[2],[1,1,1,1]] ) == 1.1\n",
        "\n",
        "\n",
        "## Calculate Population Mean for above expirements\n",
        "mean_for_q2_samples = calculate_population_means( q2_samples )\n",
        "print( bcolors.RED + \"Population Mean for Q2 Samples %f\", mean_for_q2_samples  )\n"
      ]
    },
    {
      "cell_type": "code",
      "execution_count": null,
      "metadata": {
        "id": "NdjMBWg35LxG"
      },
      "outputs": [],
      "source": [
        "# Code for Q2.4\n",
        "# The following question will build a chart based on the above data\n",
        "import matplotlib.pyplot as plt\n",
        "\n",
        "plt.subplots(figsize=(7,6), dpi=100)\n",
        "sns.distplot(mean_dice_value, color=\"Exponential Samples\")\n",
        "plt.title('Exponential Samples Plotted')\n",
        "plt.legend();\n",
        "\n",
        "# Questions to review\n",
        "# 1. Can you explain how the mean is calculated for samples of an exponential\n",
        "# 2. Can you review the different plotting technics\n",
        "# 3. "
      ]
    },
    {
      "cell_type": "code",
      "execution_count": null,
      "metadata": {
        "id": "EoiyqFCq5LxG"
      },
      "outputs": [],
      "source": [
        "# Code for Q2.5"
      ]
    },
    {
      "cell_type": "markdown",
      "metadata": {
        "id": "x7-bW60Eb151"
      },
      "source": [
        "## Question 3 <font color=\"blue\">(14 points)</font>\n",
        "In this exercise you will create some simulated data and will fit simple\n",
        "linear regression models to it. Make sure to fix the seed to $111$ prior to\n",
        "starting.\n",
        "  \n",
        "  1. **<font color=\"blue\">(1 point)</font>** Create a vector `x` containing $100$ observations drawn from a $\\mathcal{N}(0, 1)$ distribution as your feature. \n",
        "  2. **<font color=\"blue\">(1 point)</font>** Create a vector, `eps` (for $\\epsilon$), containing $100$ observations drawn from a $\\mathcal{N}(0, 0.25)$. \n",
        "  3. **<font color=\"blue\">(1 point)</font>** Using `x` and `eps` generate a vector `y` according to the model $y = −1 + 0.5x + \\epsilon$.\n",
        "  4. **<font color=\"blue\">(2 points)</font>** Create a scatterplot displaying the relationship between `x` and `y`. Comment on what you observe.\n",
        "  5. **<font color=\"blue\">(3 points)</font>** Fit a least squares linear model to predict `y` using `x` . Comment on the model obtained. How do $\\hat{\\beta}_0$ and $\\hat{\\beta}_1$ compare to $\\beta_0$ and $\\beta_1$?\n",
        "  6. **<font color=\"blue\">(2 point)</font>** Display the least squares line on the scatterplot obtained in part 4. Draw the population regression line on the plot, in a different color. Create an appropriate legend.\n",
        "  7. **<font color=\"blue\">(4 points)</font>** Explain how the result would change if you generate the data with less noise and repeat all steps 1 to 6? What about more noise? (Repeat experiments to support your answer)"
      ]
    },
    {
      "cell_type": "code",
      "source": [
        "## Imports for library\n",
        "import numpy as np\n",
        "import pandas as pd\n",
        "import matplotlib.pyplot as plt"
      ],
      "metadata": {
        "id": "Fomvmg5sDbfU"
      },
      "execution_count": 1,
      "outputs": []
    },
    {
      "cell_type": "code",
      "execution_count": 13,
      "metadata": {
        "id": "ggqksHPO5LxH",
        "colab": {
          "base_uri": "https://localhost:8080/"
        },
        "outputId": "ec79b79a-1778-49d4-8eaf-d91eb4f53db9"
      },
      "outputs": [
        {
          "output_type": "stream",
          "name": "stdout",
          "text": [
            "\u001b[91mThe generated Vector X\u001b[0m [-0.69532928 -1.13947187  0.17206296  0.8889196   0.88827415 -1.43612751\n",
            " -0.90861143  0.77157663 -0.58419619  0.67178493 -1.36828946 -0.31464557\n",
            " -0.75636578 -0.16306895 -1.35505203 -0.77974551  0.29682595 -0.38591305\n",
            "  0.04495301 -0.26959492  0.69376788 -0.5445632  -1.23993184 -1.34426536\n",
            "  0.96152845 -0.5865476   0.25012106 -1.88383851  0.8712255   0.07064567\n",
            "  0.74693213 -0.88358749 -0.49733793  0.11576037 -0.10761477 -0.15709266\n",
            "  1.30963629  0.34520318  0.65642635 -1.71569286 -0.55899173 -0.43345356\n",
            " -0.34673302  0.69232997  0.92932527  1.57841328  0.71803206  1.65489526\n",
            " -0.42334519  0.33526354 -1.43036541 -0.50115007  0.77220045 -0.55442666\n",
            " -0.37001579 -1.14870106  0.63317799 -0.11991669  0.56371027  0.23553653\n",
            " -0.97127989 -0.57664093 -1.11977005 -0.20478019  1.3189212  -0.12009552\n",
            "  0.69882092  1.15790125 -1.61602492  2.20555967 -1.226516    1.91667278\n",
            " -1.15070817 -0.16051526  1.0000381  -1.32376115 -0.4457388   0.28874799\n",
            "  0.74028975 -0.27654893 -0.14535536 -0.82207358 -0.980083    0.56081511\n",
            " -1.55437398  0.53862125  0.47085549  0.44477787  0.40962276 -0.2939017\n",
            "  1.887259    0.34123919  0.77883416 -1.79987836  0.1100746   0.14233813\n",
            " -0.25701803  0.15678435 -0.51271143  0.95739506]\n"
          ]
        }
      ],
      "source": [
        "# Code for Q3.1\n",
        "x = np.random.normal( 0, 1, 100)\n",
        "\n",
        "print( bcolors.RED + \"The generated Vector X\"+ bcolors.ENDC, x  )"
      ]
    },
    {
      "cell_type": "code",
      "execution_count": 14,
      "metadata": {
        "id": "pTJ_shIq5LxH",
        "colab": {
          "base_uri": "https://localhost:8080/"
        },
        "outputId": "0c6fec3b-6b77-4858-f84d-da53071b7121"
      },
      "outputs": [
        {
          "output_type": "stream",
          "name": "stdout",
          "text": [
            "\u001b[91mThe generated Vector eps\u001b[0m [-0.24095313  0.29624222  0.33594245  0.01965437 -0.25063127  0.17113523\n",
            " -0.71390563 -0.00524154  0.15996024  0.22392368  0.41754665  0.12581659\n",
            " -0.3252132  -0.40915766  0.40003849  0.32453025  0.11478842  0.02793547\n",
            " -0.06478351  0.12783132 -0.33617366 -0.17091848 -0.28191457 -0.06056214\n",
            " -0.5230946   0.06227241 -0.29961908  0.27464242  0.05943939  0.06519551\n",
            "  0.07497096  0.10935262  0.23905373  0.18671622  0.08403963  0.33793376\n",
            " -0.36032194  0.00818203  0.08136979 -0.21627406 -0.09520141 -0.10727836\n",
            "  0.26368348  0.09120683 -0.03501935  0.34523837 -0.1947793  -0.02570105\n",
            " -0.40144307 -0.20800132  0.0632159  -0.03257935  0.25622263  0.35932568\n",
            " -0.47197101 -0.00864474 -0.15384524  0.42281144  0.21339927 -0.17708818\n",
            "  0.23604268  0.259418    0.27698128 -0.15051142 -0.01955104 -0.19304541\n",
            "  0.00661889  0.38932923  0.13959559  0.16438969  0.00955483 -0.29525708\n",
            "  0.3285817   0.37409181 -0.29518157  0.07415871 -0.04448116 -0.14933427\n",
            "  0.18507233  0.30751556 -0.09954224 -0.02117964 -0.0556338  -0.0220919\n",
            "  0.24593083  0.08768082  0.28046606 -0.1703538  -0.13830537  0.36159455\n",
            "  0.12717876 -0.21604428 -0.27041135 -0.05612337 -0.3164705   0.30388083\n",
            " -0.33655664 -0.06233515 -0.0572316   0.09719441]\n"
          ]
        }
      ],
      "source": [
        "# Code for Q3.2\n",
        "eps = np.random.normal(0, 0.25, 100)\n",
        "\n",
        "print( bcolors.RED + \"The generated Vector eps\" + bcolors.ENDC, eps  )"
      ]
    },
    {
      "cell_type": "code",
      "execution_count": 15,
      "metadata": {
        "id": "0gckD1UG5LxH",
        "colab": {
          "base_uri": "https://localhost:8080/"
        },
        "outputId": "e74bf810-72c3-40c5-9054-a17d10228942"
      },
      "outputs": [
        {
          "output_type": "stream",
          "name": "stdout",
          "text": [
            "\u001b[91mThe calculated list of Y\u001b[0m [-0.24095313  0.29624222  0.33594245  0.01965437 -0.25063127  0.17113523\n",
            " -0.71390563 -0.00524154  0.15996024  0.22392368  0.41754665  0.12581659\n",
            " -0.3252132  -0.40915766  0.40003849  0.32453025  0.11478842  0.02793547\n",
            " -0.06478351  0.12783132 -0.33617366 -0.17091848 -0.28191457 -0.06056214\n",
            " -0.5230946   0.06227241 -0.29961908  0.27464242  0.05943939  0.06519551\n",
            "  0.07497096  0.10935262  0.23905373  0.18671622  0.08403963  0.33793376\n",
            " -0.36032194  0.00818203  0.08136979 -0.21627406 -0.09520141 -0.10727836\n",
            "  0.26368348  0.09120683 -0.03501935  0.34523837 -0.1947793  -0.02570105\n",
            " -0.40144307 -0.20800132  0.0632159  -0.03257935  0.25622263  0.35932568\n",
            " -0.47197101 -0.00864474 -0.15384524  0.42281144  0.21339927 -0.17708818\n",
            "  0.23604268  0.259418    0.27698128 -0.15051142 -0.01955104 -0.19304541\n",
            "  0.00661889  0.38932923  0.13959559  0.16438969  0.00955483 -0.29525708\n",
            "  0.3285817   0.37409181 -0.29518157  0.07415871 -0.04448116 -0.14933427\n",
            "  0.18507233  0.30751556 -0.09954224 -0.02117964 -0.0556338  -0.0220919\n",
            "  0.24593083  0.08768082  0.28046606 -0.1703538  -0.13830537  0.36159455\n",
            "  0.12717876 -0.21604428 -0.27041135 -0.05612337 -0.3164705   0.30388083\n",
            " -0.33655664 -0.06233515 -0.0572316   0.09719441]\n"
          ]
        }
      ],
      "source": [
        "# Code for Q3.3\n",
        "y = -1 + -.5*x + eps \n",
        "\n",
        "print(bcolors.RED + \"The calculated list of Y\" + bcolors.ENDC, eps )"
      ]
    },
    {
      "cell_type": "code",
      "execution_count": 16,
      "metadata": {
        "id": "Tkp_FYfr5LxH",
        "colab": {
          "base_uri": "https://localhost:8080/",
          "height": 408
        },
        "outputId": "12b7d7ac-aeba-4477-dac0-1936758af0fc"
      },
      "outputs": [
        {
          "output_type": "display_data",
          "data": {
            "image/png": "[encoded data removed]",
            "text/plain": [
              "<Figure size 720x432 with 1 Axes>"
            ]
          },
          "metadata": {
            "needs_background": "light"
          }
        }
      ],
      "source": [
        "# Code for Q3.4\n",
        "fig, ax = plt.subplots(figsize=(10, 6))\n",
        "_ = ax.plot(y , x, 'or', mfc='b')\n",
        "_ = ax.set_title('Scatter plot between y and x', fontsize=14)\n",
        "_ = ax.set_ylabel('Y', fontsize=12)\n",
        "_ = ax.set_xlabel('X', fontsize=12)\n",
        "\n",
        "# Comment on relationship between the relationship between X and Y\n",
        "# By looking at the relationship it is clear that there is a linear relationship betwen \n",
        "# Y and X.  It looks like the intercept on the Y axis will be around -2 and the \n",
        "# slope will be -2.  Based on a quick slope calculation the estimate equation for this line is:\n",
        "\n",
        "# y= -2x -2"
      ]
    },
    {
      "cell_type": "code",
      "execution_count": 19,
      "metadata": {
        "id": "evoMn7b45LxH",
        "colab": {
          "base_uri": "https://localhost:8080/",
          "height": 317
        },
        "outputId": "4feb2365-93f8-402a-b13d-528e855e718a"
      },
      "outputs": [
        {
          "output_type": "stream",
          "name": "stdout",
          "text": [
            "\u001b[91mThe estimated coefficent %f\u001b[0m -0.5361400352954706\n",
            "\u001b[91mThe estimated intercept %f\u001b[0m -0.9877841990294374\n"
          ]
        },
        {
          "output_type": "execute_result",
          "data": {
            "text/plain": [
              "[<matplotlib.lines.Line2D at 0x7f6799b64fd0>]"
            ]
          },
          "metadata": {},
          "execution_count": 19
        },
        {
          "output_type": "display_data",
          "data": {
            "image/png": "[encoded data removed]",
            "text/plain": [
              "<Figure size 432x288 with 1 Axes>"
            ]
          },
          "metadata": {
            "needs_background": "light"
          }
        }
      ],
      "source": [
        "# Code for Q3.5\n",
        "# To fit a line using least squares, I will follow the same model used in Workbook 2 \n",
        "\n",
        "## Calculate the X and Y bard\n",
        "y_bar = sum(y)/len(y)\n",
        "x_bar = sum(x)/len(x)\n",
        "\n",
        "a_num = sum([(x_i-x_bar)*(y_i-y_bar) for x_i,y_i in zip(x,y)])\n",
        "a_denom = sum([(x_i-x_bar)**2 for x_i in x])\n",
        "\n",
        "reg_coef = a_num/a_denom\n",
        "intercept = y_bar - reg_coef*x_bar\n",
        "\n",
        "print( bcolors.RED + \"The estimated coefficent %f\" + bcolors.ENDC, reg_coef  )\n",
        "print( bcolors.RED + \"The estimated intercept %f\" + bcolors.ENDC, intercept  )\n",
        "\n",
        "plt.plot(np.array(x),intercept +  reg_coef * np.array(x), color='blue')\n",
        "\n",
        "# The estimate coefficent and intercept are in line with what was estimated above; however,\n",
        "# they about half.  Looking at the chart we are getting the following equation for the line\n",
        "\n",
        "# y = -0.5x -1\n",
        "# This is about half of the values above."
      ]
    },
    {
      "cell_type": "code",
      "execution_count": 18,
      "metadata": {
        "id": "dmG9xzl75LxH",
        "colab": {
          "base_uri": "https://localhost:8080/",
          "height": 463
        },
        "outputId": "9a0eba09-82be-415b-d36d-c0047788f76a"
      },
      "outputs": [
        {
          "output_type": "execute_result",
          "data": {
            "text/plain": [
              "[<matplotlib.lines.Line2D at 0x7f6799bf6990>]"
            ]
          },
          "metadata": {},
          "execution_count": 18
        },
        {
          "output_type": "execute_result",
          "data": {
            "text/plain": [
              "[<matplotlib.lines.Line2D at 0x7f6799bf6d10>]"
            ]
          },
          "metadata": {},
          "execution_count": 18
        },
        {
          "output_type": "execute_result",
          "data": {
            "text/plain": [
              "Text(0.5, 1.0, 'Scatter plot between y and x')"
            ]
          },
          "metadata": {},
          "execution_count": 18
        },
        {
          "output_type": "execute_result",
          "data": {
            "text/plain": [
              "Text(0, 0.5, 'Y')"
            ]
          },
          "metadata": {},
          "execution_count": 18
        },
        {
          "output_type": "execute_result",
          "data": {
            "text/plain": [
              "Text(0.5, 0, 'X')"
            ]
          },
          "metadata": {},
          "execution_count": 18
        },
        {
          "output_type": "display_data",
          "data": {
            "image/png": "[encoded data removed]",
            "text/plain": [
              "<Figure size 720x432 with 1 Axes>"
            ]
          },
          "metadata": {
            "needs_background": "light"
          }
        }
      ],
      "source": [
        "# Code for Q3.6\n",
        "\n",
        "# To solve for question 6 I will recreate the above graph and overlay the line done in question 5\n",
        "fig, ax = plt.subplots(figsize=(10, 6))\n",
        "ax.plot(y , x, 'or', mfc='b')\n",
        "ax.plot(np.array(x),intercept +  reg_coef * np.array(x), color='blue')\n",
        "ax.set_title('Scatter plot between y and x', fontsize=14)\n",
        "ax.set_ylabel('Y', fontsize=12)\n",
        "ax.set_xlabel('X', fontsize=12)\n",
        "\n",
        "# What we are seeing is that the slope difference between the two lines is about half between the \n",
        "# Scatter plot and the estimated least squares method\n"
      ]
    },
    {
      "cell_type": "code",
      "execution_count": null,
      "metadata": {
        "id": "LVCDN2da5LxI"
      },
      "outputs": [],
      "source": [
        "# Code for Q3.7"
      ]
    }
  ],
  "metadata": {
    "colab": {
      "collapsed_sections": [],
      "name": "Assignment01-W22.ipynb",
      "provenance": [],
      "include_colab_link": true
    },
    "kernelspec": {
      "display_name": "Python 3",
      "language": "python",
      "name": "python3"
    },
    "language_info": {
      "codemirror_mode": {
        "name": "ipython",
        "version": 3
      },
      "file_extension": ".py",
      "mimetype": "text/x-python",
      "name": "python",
      "nbconvert_exporter": "python",
      "pygments_lexer": "ipython3",
      "version": "3.7.7"
    }
  },
  "nbformat": 4,
  "nbformat_minor": 0
}