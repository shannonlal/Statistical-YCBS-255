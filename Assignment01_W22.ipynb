{
  "cells": [
    {
      "cell_type": "markdown",
      "metadata": {
        "id": "view-in-github",
        "colab_type": "text"
      },
      "source": [
        "<a href=\"https://colab.research.google.com/github/shannonlal/Statistical-YCBS-255/blob/main/Assignment01_W22.ipynb\" target=\"_parent\"><img src=\"https://colab.research.google.com/assets/colab-badge.svg\" alt=\"Open In Colab\"/></a>"
      ]
    },
    {
      "cell_type": "markdown",
      "metadata": {
        "id": "wHIJXuml3JLf"
      },
      "source": [
        "# Assignment 1 **<font color=\"blue\"> (15 points )<font>**\n",
        "\n",
        "------\n",
        "### Notes and Instructions\n",
        "  + You may need additional libraries besides the Python standard library to solve some questions. Import only necessary libraries. \n",
        "  + If more than one library exist for a same purpose, choose the one you wish as long as it does the task properly. \n",
        "  + If we want you to use a specific library, then we will state it clearly. \n",
        "  + Use the exact variable names asked in the questions. When no clear instructions given, feel free to do it the way you would like to.\n",
        "  + After each question, add the needed number of new cells and place your answers inside the cells. \n",
        "  + Use text cells for explanations. Use explanation and plain text as much as possible. \n",
        "  + Do not remove or modify the original cells provided by the instructor.\n",
        "  + In the following cell you will find some extra options to make your code more readable, including output colors RED, OKBLUE, or output text styles like BOLD or UNDERLINE that. Do not hesitate to use them. As an example, one may output text in red as follows: \n",
        "  ```python\n",
        "     print(bcolors.RED + \"your text\" + bcolors.ENDC)\n",
        "  ```\n",
        "  + Comment your code whenever needed using # sign at the beginning of the row.\n",
        "  + In some questions some of the details needed for solving the problem are **purposely** omitted to encourage additional self-directed research. This, especially, helps you develop some search skills for coding in Python (which is inevitable due to the inconsistent syntax of Python).\n",
        "  + Do not hesitate to communicate your questions to the TA's or instructors. Good luck!\n",
        "  "
      ]
    },
    {
      "cell_type": "markdown",
      "metadata": {
        "id": "8Pw5AC0_5LxC"
      },
      "source": [
        "###   Answer each question in the designated cell. You may create additional cells as needed, but the output (answer) should be in each question's designated cell as marked. For written comments and answers, please add them in a text cell. \n",
        "### <font color=\"blue\"> 1.5 points will be awarded for clean and clear code, and generating outputs in the designated cells.    \n",
        "</font>"
      ]
    },
    {
      "cell_type": "code",
      "execution_count": 1,
      "metadata": {
        "id": "tJS1lJsC3JLm"
      },
      "outputs": [],
      "source": [
        "# The following piece of code gives the opportunity to show multiple outputs\n",
        "# in one cell:\n",
        "from IPython.core.interactiveshell import InteractiveShell\n",
        "InteractiveShell.ast_node_interactivity = \"all\"\n",
        "\n",
        "# Colorful outputs\n",
        "class bcolors:\n",
        "    RED       = '\\033[91m'\n",
        "    OKBLUE    = '\\033[94m'\n",
        "    BOLD      = '\\033[1m'\n",
        "    UNDERLINE = '\\033[4m'\n",
        "    ENDC      = '\\033[0m'"
      ]
    },
    {
      "cell_type": "markdown",
      "metadata": {
        "id": "ctNRZFL03JLv"
      },
      "source": [
        "## Question 1 <font color=\"blue\">(4 points)</font>\n",
        "\n",
        "  1. **<font color=\"blue\">(2 points)</font>** Write a Python **function** that takes two **positive integers** and returns their **greatest common divisor**. In case you pass a negative integer to the function it must return the following string **in red**: <br> <font color=\"red\"> \"This function takes only positive integers!\" </font>\n",
        "  2. **<font color=\"blue\">(2 points)</font>** Write a function that prints all the prime numbers less than or equal to $n$, where $n$ is a parameter to be passed to the function. If $n \\leq 1$ the function returns <br>\n",
        "<font color=\"red\">\"No prime number was found!\"</span>."
      ]
    },
    {
      "cell_type": "code",
      "execution_count": 19,
      "metadata": {
        "id": "XGIejOQf5LxE"
      },
      "outputs": [],
      "source": [
        "# Code for Q1.1\n",
        "\n",
        "# After doing some research on the internet I was able to get a definition of the Greatest Common Divisor (GCD) using  the Euclidean Algorithm.  \n",
        "# I used a couple of sources for defining this and I wanted to not them in my solution\n",
        "\n",
        "# Sources:\n",
        "## https://www.youtube.com/watch?v=p5gn2hj51hs\n",
        "## https://www.freecodecamp.org/news/euclidian-gcd-algorithm-greatest-common-divisor/\n",
        "\n",
        "## Validation:\n",
        "## https://www.calculatorsoup.com/calculators/math/gcf.php\n",
        "\n",
        "# Algorithm\n",
        "## 1. Verify the numbers are non-negative.  If they are return error message\n",
        "## 2. Determine the GCD given two numbers\n",
        "\n",
        "# GCD Algorithm\n",
        "## This will be a recurseive algoirthm that uses the mod function between two numbers.  Once the mod is equal to 0 the \n",
        "## the previous remainder is the GCD between two numbers:\n",
        "\n",
        "\n",
        "def gcd( a, b ):\n",
        "  if b == 0:\n",
        "    return a\n",
        "  else:\n",
        "    # The following is a recrusive call to GCD using the previous variable and mod function\n",
        "    return gcd( b, (a%b))\n",
        "\n",
        "def calculateGreatestCommonDivisor( a, b ):\n",
        "  if (a < 0 ) or ( b < 0):\n",
        "    return bcolors.RED+ \"This function takes only positive integers!\"\n",
        "  else:\n",
        "    return gcd( a,b)\n",
        "\n",
        "## Test Cases\n",
        "assert calculateGreatestCommonDivisor( 0, 0) == 0\n",
        "assert calculateGreatestCommonDivisor( 10, 0) == 10\n",
        "assert calculateGreatestCommonDivisor( 0, 10) == 10\n",
        "assert calculateGreatestCommonDivisor( 97, 4) == 1\n",
        "assert calculateGreatestCommonDivisor( 21, 21) == 21\n",
        "\n",
        "assert calculateGreatestCommonDivisor( -3, 4) == bcolors.RED+ \"This function takes only positive integers!\"\n",
        "assert calculateGreatestCommonDivisor( 4, -4) == bcolors.RED+ \"This function takes only positive integers!\"\n",
        "\n",
        "\n"
      ]
    },
    {
      "cell_type": "code",
      "execution_count": null,
      "metadata": {
        "id": "bEu_L-N75LxE"
      },
      "outputs": [],
      "source": [
        "# Code for Q1.2"
      ]
    },
    {
      "cell_type": "markdown",
      "metadata": {
        "id": "udPL4T8f3JLx"
      },
      "source": [
        "## Question 2 <font color=\"blue\">(10.5 points)</font>\n",
        "Let $\\mathbf X\\sim \\mbox{Exp}(\\lambda)$, with parameter $\\lambda = 1.2$.\n",
        "  1. **<font color=\"blue\">(1.5 points)</font>** Define the population mean and the sample mean. What is the population mean of the above described distribution. \n",
        "  2. **<font color=\"blue\">(2 point)</font>**  Generate $100$ different samples of $\\mathbf X$, namely, $S_{100}, S_{200}, S_{300}, \\dots, S_{10000}$, where indeces denote the number of observations (sample size) in each sample. \n",
        "  3. **<font color=\"blue\">(2 points)</font> Estimate** the population mean using each sample and explain the rationale behind your estimation. \n",
        "  4. **<font color=\"blue\">(2 point)</font>** Applying **appropriate** methods visualize and describe the values obtained in the previous step. \n",
        "  5. **<font color=\"blue\">(3 points)</font>** Finally, draw an inference about the population mean and its relation with sample means, based on visualized results in step 4."
      ]
    },
    {
      "cell_type": "code",
      "execution_count": null,
      "metadata": {
        "id": "qwvRMOJL5LxF"
      },
      "outputs": [],
      "source": [
        "# Code for Q2.1"
      ]
    },
    {
      "cell_type": "code",
      "execution_count": null,
      "metadata": {
        "id": "rZEiKt2N5LxF"
      },
      "outputs": [],
      "source": [
        "# Code for Q2.2"
      ]
    },
    {
      "cell_type": "code",
      "execution_count": null,
      "metadata": {
        "id": "3aNBSPFy5LxG"
      },
      "outputs": [],
      "source": [
        "# Code for Q2.3"
      ]
    },
    {
      "cell_type": "code",
      "execution_count": null,
      "metadata": {
        "id": "NdjMBWg35LxG"
      },
      "outputs": [],
      "source": [
        "# Code for Q2.4"
      ]
    },
    {
      "cell_type": "code",
      "execution_count": null,
      "metadata": {
        "id": "EoiyqFCq5LxG"
      },
      "outputs": [],
      "source": [
        "# Code for Q2.5"
      ]
    },
    {
      "cell_type": "markdown",
      "metadata": {
        "id": "x7-bW60Eb151"
      },
      "source": [
        "## Question 3 <font color=\"blue\">(14 points)</font>\n",
        "In this exercise you will create some simulated data and will fit simple\n",
        "linear regression models to it. Make sure to fix the seed to $111$ prior to\n",
        "starting.\n",
        "  \n",
        "  1. **<font color=\"blue\">(1 point)</font>** Create a vector `x` containing $100$ observations drawn from a $\\mathcal{N}(0, 1)$ distribution as your feature. \n",
        "  2. **<font color=\"blue\">(1 point)</font>** Create a vector, `eps` (for $\\epsilon$), containing $100$ observations drawn from a $\\mathcal{N}(0, 0.25)$. \n",
        "  3. **<font color=\"blue\">(1 point)</font>** Using `x` and `eps` generate a vector `y` according to the model $y = −1 + 0.5x + \\epsilon$.\n",
        "  4. **<font color=\"blue\">(2 points)</font>** Create a scatterplot displaying the relationship between `x` and `y`. Comment on what you observe.\n",
        "  5. **<font color=\"blue\">(3 points)</font>** Fit a least squares linear model to predict `y` using `x` . Comment on the model obtained. How do $\\hat{\\beta}_0$ and $\\hat{\\beta}_1$ compare to $\\beta_0$ and $\\beta_1$?\n",
        "  6. **<font color=\"blue\">(2 point)</font>** Display the least squares line on the scatterplot obtained in part 4. Draw the population regression line on the plot, in a different color. Create an appropriate legend.\n",
        "  7. **<font color=\"blue\">(4 points)</font>** Explain how the result would change if you generate the data with less noise and repeat all steps 1 to 6? What about more noise? (Repeat experiments to support your answer)"
      ]
    },
    {
      "cell_type": "code",
      "execution_count": null,
      "metadata": {
        "id": "ggqksHPO5LxH"
      },
      "outputs": [],
      "source": [
        "# Code for Q3.1"
      ]
    },
    {
      "cell_type": "code",
      "execution_count": null,
      "metadata": {
        "id": "pTJ_shIq5LxH"
      },
      "outputs": [],
      "source": [
        "# Code for Q3.2"
      ]
    },
    {
      "cell_type": "code",
      "execution_count": null,
      "metadata": {
        "id": "0gckD1UG5LxH"
      },
      "outputs": [],
      "source": [
        "# Code for Q3.3"
      ]
    },
    {
      "cell_type": "code",
      "execution_count": null,
      "metadata": {
        "id": "Tkp_FYfr5LxH"
      },
      "outputs": [],
      "source": [
        "# Code for Q3.4"
      ]
    },
    {
      "cell_type": "code",
      "execution_count": null,
      "metadata": {
        "id": "evoMn7b45LxH"
      },
      "outputs": [],
      "source": [
        "# Code for Q3.5"
      ]
    },
    {
      "cell_type": "code",
      "execution_count": null,
      "metadata": {
        "id": "dmG9xzl75LxH"
      },
      "outputs": [],
      "source": [
        "# Code for Q3.6"
      ]
    },
    {
      "cell_type": "code",
      "execution_count": null,
      "metadata": {
        "id": "LVCDN2da5LxI"
      },
      "outputs": [],
      "source": [
        "# Code for Q3.7"
      ]
    }
  ],
  "metadata": {
    "colab": {
      "collapsed_sections": [],
      "name": "Assignment01-W22.ipynb",
      "provenance": [],
      "include_colab_link": true
    },
    "kernelspec": {
      "display_name": "Python 3",
      "language": "python",
      "name": "python3"
    },
    "language_info": {
      "codemirror_mode": {
        "name": "ipython",
        "version": 3
      },
      "file_extension": ".py",
      "mimetype": "text/x-python",
      "name": "python",
      "nbconvert_exporter": "python",
      "pygments_lexer": "ipython3",
      "version": "3.7.7"
    }
  },
  "nbformat": 4,
  "nbformat_minor": 0
}