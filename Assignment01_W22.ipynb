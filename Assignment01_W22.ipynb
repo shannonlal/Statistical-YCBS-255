{
  "cells": [
    {
      "cell_type": "markdown",
      "metadata": {
        "id": "view-in-github",
        "colab_type": "text"
      },
      "source": [
        "<a href=\"https://colab.research.google.com/github/shannonlal/Statistical-YCBS-255/blob/main/Assignment01_W22.ipynb\" target=\"_parent\"><img src=\"https://colab.research.google.com/assets/colab-badge.svg\" alt=\"Open In Colab\"/></a>"
      ]
    },
    {
      "cell_type": "markdown",
      "metadata": {
        "id": "wHIJXuml3JLf"
      },
      "source": [
        "# Assignment 1 **<font color=\"blue\"> (15 points )<font>**\n",
        "\n",
        "------\n",
        "### Notes and Instructions\n",
        "  + You may need additional libraries besides the Python standard library to solve some questions. Import only necessary libraries. \n",
        "  + If more than one library exist for a same purpose, choose the one you wish as long as it does the task properly. \n",
        "  + If we want you to use a specific library, then we will state it clearly. \n",
        "  + Use the exact variable names asked in the questions. When no clear instructions given, feel free to do it the way you would like to.\n",
        "  + After each question, add the needed number of new cells and place your answers inside the cells. \n",
        "  + Use text cells for explanations. Use explanation and plain text as much as possible. \n",
        "  + Do not remove or modify the original cells provided by the instructor.\n",
        "  + In the following cell you will find some extra options to make your code more readable, including output colors RED, OKBLUE, or output text styles like BOLD or UNDERLINE that. Do not hesitate to use them. As an example, one may output text in red as follows: \n",
        "  ```python\n",
        "     print(bcolors.RED + \"your text\" + bcolors.ENDC)\n",
        "  ```\n",
        "  + Comment your code whenever needed using # sign at the beginning of the row.\n",
        "  + In some questions some of the details needed for solving the problem are **purposely** omitted to encourage additional self-directed research. This, especially, helps you develop some search skills for coding in Python (which is inevitable due to the inconsistent syntax of Python).\n",
        "  + Do not hesitate to communicate your questions to the TA's or instructors. Good luck!\n",
        "  "
      ]
    },
    {
      "cell_type": "markdown",
      "metadata": {
        "id": "8Pw5AC0_5LxC"
      },
      "source": [
        "###   Answer each question in the designated cell. You may create additional cells as needed, but the output (answer) should be in each question's designated cell as marked. For written comments and answers, please add them in a text cell. \n",
        "### <font color=\"blue\"> 1.5 points will be awarded for clean and clear code, and generating outputs in the designated cells.    \n",
        "</font>"
      ]
    },
    {
      "cell_type": "code",
      "execution_count": 31,
      "metadata": {
        "id": "tJS1lJsC3JLm"
      },
      "outputs": [],
      "source": [
        "# The following piece of code gives the opportunity to show multiple outputs\n",
        "# in one cell:\n",
        "from IPython.core.interactiveshell import InteractiveShell\n",
        "InteractiveShell.ast_node_interactivity = \"all\"\n",
        "\n",
        "# Colorful outputs\n",
        "class bcolors:\n",
        "    RED       = '\\033[91m'\n",
        "    OKBLUE    = '\\033[94m'\n",
        "    BOLD      = '\\033[1m'\n",
        "    UNDERLINE = '\\033[4m'\n",
        "    ENDC      = '\\033[0m'"
      ]
    },
    {
      "cell_type": "markdown",
      "metadata": {
        "id": "ctNRZFL03JLv"
      },
      "source": [
        "## Question 1 <font color=\"blue\">(4 points)</font>\n",
        "\n",
        "  1. **<font color=\"blue\">(2 points)</font>** Write a Python **function** that takes two **positive integers** and returns their **greatest common divisor**. In case you pass a negative integer to the function it must return the following string **in red**: <br> <font color=\"red\"> \"This function takes only positive integers!\" </font>\n",
        "  2. **<font color=\"blue\">(2 points)</font>** Write a function that prints all the prime numbers less than or equal to $n$, where $n$ is a parameter to be passed to the function. If $n \\leq 1$ the function returns <br>\n",
        "<font color=\"red\">\"No prime number was found!\"</span>."
      ]
    },
    {
      "cell_type": "code",
      "execution_count": 32,
      "metadata": {
        "id": "XGIejOQf5LxE"
      },
      "outputs": [],
      "source": [
        "# Code for Q1.1\n",
        "\n",
        "# After doing some research on the internet I was able to get a definition of the Greatest Common Divisor (GCD) using  the Euclidean Algorithm.  \n",
        "# I used a couple of sources for defining this and I wanted to not them in my solution\n",
        "\n",
        "# Sources:\n",
        "## https://www.youtube.com/watch?v=p5gn2hj51hs\n",
        "## https://www.freecodecamp.org/news/euclidian-gcd-algorithm-greatest-common-divisor/\n",
        "\n",
        "## Validation:\n",
        "## https://www.calculatorsoup.com/calculators/math/gcf.php\n",
        "\n",
        "# Algorithm\n",
        "## 1. Verify the numbers are non-negative.  If they are return error message\n",
        "## 2. Determine the GCD given two numbers\n",
        "\n",
        "# GCD Algorithm\n",
        "## This will be a recurseive algoirthm that uses the mod function between two numbers.  Once the mod is equal to 0 the \n",
        "## the previous remainder is the GCD between two numbers:\n",
        "\n",
        "\n",
        "def gcd( a, b ):\n",
        "  if b == 0:\n",
        "    return a\n",
        "  else:\n",
        "    # The following is a recrusive call to GCD using the previous variable and mod function\n",
        "    return gcd( b, (a%b))\n",
        "\n",
        "def calculateGreatestCommonDivisor( a, b ):\n",
        "  if (a < 0 ) or ( b < 0):\n",
        "    return bcolors.RED+ \"This function takes only positive integers!\"\n",
        "  else:\n",
        "    return gcd( a,b)\n",
        "\n",
        "## Test Cases\n",
        "assert calculateGreatestCommonDivisor( 0, 0) == 0\n",
        "assert calculateGreatestCommonDivisor( 10, 0) == 10\n",
        "assert calculateGreatestCommonDivisor( 0, 10) == 10\n",
        "assert calculateGreatestCommonDivisor( 97, 4) == 1\n",
        "assert calculateGreatestCommonDivisor( 21, 21) == 21\n",
        "\n",
        "assert calculateGreatestCommonDivisor( -3, 4) == bcolors.RED+ \"This function takes only positive integers!\"\n",
        "assert calculateGreatestCommonDivisor( 4, -4) == bcolors.RED+ \"This function takes only positive integers!\"\n",
        "\n",
        "\n"
      ]
    },
    {
      "cell_type": "code",
      "execution_count": 33,
      "metadata": {
        "id": "bEu_L-N75LxE"
      },
      "outputs": [],
      "source": [
        "# Code for Q1.2\n",
        "# After doing some research on the internet it looks like the Sieve of Eratosthenes is the most efficient way to calculate this.\n",
        "# Note: The key though is that this algorithm is efficient for numbers under 10,000,000.  The issue is that it creates an array and \n",
        "# beyond 10,000,000 the amount of memory required to calculate this needs to be factored into the algoirhtm.\n",
        "# For the purpose of this question we will assume the numbers are below 10,000,000\n",
        "\n",
        "# Sources:\n",
        "## https://en.wikipedia.org/wiki/Sieve_of_Atkin\n",
        "## https://stackoverflow.com/questions/11619942/print-series-of-prime-numbers-in-python\n",
        "\n",
        "\n",
        "# Validation: \n",
        "## https://www.mathsisfun.com/prime_numbers.html\n",
        "\n",
        "# Algorithm for calculating the list of primes given a number\n",
        "# 1. Create an array of size n-1 and set every value to TRUE\n",
        "# 2. Look at the the first item (i.e. normally 2) and attempt to divide each other element in the list by it.  If the remainder (i.e. mod ==0 ) then\n",
        "# it is divisible by the element and is not a prime and should be marked as FALSE\n",
        "# 3.  Repeat the process by finding the next element in the list that is TRUE and attempt to divide the all remaining elements \n",
        "\n",
        "def calculateListOfPrimes( n ):\n",
        "\n",
        "  # Create a boolean array of primes\n",
        "  primes = [True for i in range (n+1)]\n",
        "\n",
        "  #Note: start at 2 as is first prime\n",
        "  p = 2\n",
        "\n",
        "  while( p*p <= n):\n",
        "\n",
        "    if( primes[p] == True):\n",
        "\n",
        "      for i in range (p*p, n+1, p ):\n",
        "        primes[i] = False\n",
        "    \n",
        "    p+=1\n",
        "  \n",
        "  listOfPrimes = []\n",
        "  for p in range( 2, n+1):\n",
        "    if primes[p]:\n",
        "      listOfPrimes.append(p)\n",
        "  \n",
        "  if len(listOfPrimes) == 0 :\n",
        "    return bcolors.RED+ \"No prime number was found!\" + bcolors.ENDC\n",
        "  else:\n",
        "    return listOfPrimes\n",
        "\n",
        "\n",
        "\n",
        "assert calculateListOfPrimes(10) == [2,3,5,7]\n",
        "assert calculateListOfPrimes(2) == [2]\n",
        "assert calculateListOfPrimes(100) == [2, 3, 5, 7, 11, 13, 17, 19, 23, 29, 31, 37, 41, 43, 47, 53, 59, 61, 67, 71, 73, 79, 83, 89, 97]\n",
        "assert calculateListOfPrimes(1) == bcolors.RED+ \"No prime number was found!\" + bcolors.ENDC\n"
      ]
    },
    {
      "cell_type": "markdown",
      "metadata": {
        "id": "udPL4T8f3JLx"
      },
      "source": [
        "## Question 2 <font color=\"blue\">(10.5 points)</font>\n",
        "Let $\\mathbf X\\sim \\mbox{Exp}(\\lambda)$, with parameter $\\lambda = 1.2$.\n",
        "  1. **<font color=\"blue\">(1.5 points)</font>** Define the population mean and the sample mean. What is the population mean of the above described distribution. \n",
        "  2. **<font color=\"blue\">(2 point)</font>**  Generate $100$ different samples of $\\mathbf X$, namely, $S_{100}, S_{200}, S_{300}, \\dots, S_{10000}$, where indeces denote the number of observations (sample size) in each sample. \n",
        "  3. **<font color=\"blue\">(2 points)</font> Estimate** the population mean using each sample and explain the rationale behind your estimation. \n",
        "  4. **<font color=\"blue\">(2 point)</font>** Applying **appropriate** methods visualize and describe the values obtained in the previous step. \n",
        "  5. **<font color=\"blue\">(3 points)</font>** Finally, draw an inference about the population mean and its relation with sample means, based on visualized results in step 4."
      ]
    },
    {
      "cell_type": "code",
      "execution_count": 34,
      "metadata": {
        "id": "qwvRMOJL5LxF",
        "colab": {
          "base_uri": "https://localhost:8080/"
        },
        "outputId": "2be1a183-5d25-4f65-b287-73499cee596c"
      },
      "outputs": [
        {
          "output_type": "stream",
          "name": "stdout",
          "text": [
            "\u001b[91mPopulation Mean for Exponential Distrubition: \u001b[0m 0.8333333333333334\n"
          ]
        }
      ],
      "source": [
        "# Code for Q2.1\n",
        "\n",
        "# Question: Does he want the formula or just a text defnition for sample and population mean\n",
        "\n",
        "# Example: To explain sample mean vs population I will use an example.  Let's say we were studying the amount of screen time each student \n",
        "# watched each week.  If there where 1000 students in each class and each class had about 30 students then the definitions would be as follows:\n",
        "# Population Mean: This represents the actual mean of the entire poplulation.  If the above example population mean would be :\n",
        "# (Sum of screen time for all students)/ (1000 -- total sutdent population)\n",
        "\n",
        "# Sample Mean: This represents the mean of the sample.  In the above sample the sample mean would be:\n",
        "# (Sum of the screen time for a class)/( 30 -- students in the class or sample)\n",
        "\n",
        "mu = 1.2\n",
        "population_mean = (1/mu)\n",
        "\n",
        "print( bcolors.RED + \"Population Mean for Exponential Distrubition: \" + bcolors.ENDC, population_mean  )"
      ]
    },
    {
      "cell_type": "code",
      "execution_count": 35,
      "metadata": {
        "id": "rZEiKt2N5LxF"
      },
      "outputs": [],
      "source": [
        "# Code for Q2.2\n",
        "# The goal of this question is to generate 100 different samples where each sample has a different size (i.e. 100, 200, 300....)\n",
        "# The out put of this function will be an array of arrays.  Each element in the array will contain an area of samples.  To accomplish this\n",
        "# We break this down into a couple of steps:\n",
        "# 1. Generate a function and create a sample set of n elements based on a range of 100,000 \n",
        "# 2. Call the above function to generate your samples and add it to an array\n",
        "from random import sample\n",
        "\n",
        "def generate_sample( sample_size ):\n",
        "  return sample(range( 100000),sample_size)\n",
        "\n",
        "## Test Cases - generate_sample\n",
        "assert len(generate_sample( 1 )) == 1\n",
        "assert len(generate_sample( 10 )) == 10\n",
        "\n",
        "def create_samples( number_of_samples, sample_size_increment):\n",
        "  sample_size = sample_size_increment\n",
        "  samples = []\n",
        "  for i in range(0, number_of_samples):\n",
        "    samples.append( generate_sample(sample_size) )\n",
        "    sample_size += sample_size_increment\n",
        "  \n",
        "  return samples\n",
        "\n",
        "## Test Cases for - create_samples\n",
        "q2_samples = create_samples( 100, 100)\n",
        "\n",
        "## Verify the over length of the main array and spot check sizes of the inner lists\n",
        "assert len( q2_samples ) == 100\n",
        "assert len( q2_samples[0] ) == 100\n",
        "assert len( q2_samples[40] ) == 4100\n",
        "assert len( q2_samples[99] ) == 10000\n"
      ]
    },
    {
      "cell_type": "code",
      "execution_count": 37,
      "metadata": {
        "id": "3aNBSPFy5LxG",
        "colab": {
          "base_uri": "https://localhost:8080/"
        },
        "outputId": "a8ee46ab-648e-43b8-8ba5-8190fa154e49"
      },
      "outputs": [
        {
          "output_type": "execute_result",
          "data": {
            "text/plain": [
              "True"
            ]
          },
          "metadata": {},
          "execution_count": 37
        },
        {
          "output_type": "stream",
          "name": "stdout",
          "text": [
            "\u001b[91mPopulation Mean for Q2 Samples : \u001b[0m [52523.51, 48666.305, 46619.21333333333, 47992.6775, 49935.71, 50817.72, 49171.05142857143, 50758.1275, 49199.194444444445, 48512.527, 50280.99272727273, 51280.675833333335, 50323.78769230769, 49688.41142857143, 49468.652, 50354.71, 49152.85117647059, 49875.86888888889, 49372.14263157895, 50802.218, 50621.56952380952, 50665.957727272726, 50288.1647826087, 50029.53375, 49775.2748, 49507.32576923077, 49965.97777777778, 49649.30892857143, 49929.17310344827, 49953.57433333333, 50242.33903225807, 49726.5171875, 50418.10333333333, 50146.51, 49385.23428571429, 50146.39611111111, 50456.087297297294, 50012.175, 50132.10641025641, 49265.81, 49853.891463414635, 49610.89952380952, 50119.87139534884, 50352.97068181818, 49921.47777777778, 50379.202391304345, 50205.45723404255, 49494.09125, 49485.49163265306, 49833.8872, 50125.09019607843, 49578.76, 50356.85698113208, 50374.98092592593, 50595.475090909094, 50780.810535714285, 50064.724561403506, 49781.88293103448, 49996.592542372884, 49821.974, 50270.11918032787, 50348.462096774194, 49834.82174603175, 49836.6215625, 49876.75523076923, 50349.702575757576, 49531.634179104476, 50561.07691176471, 50398.566666666666, 49995.412142857145, 49878.469014084505, 50488.086388888885, 50091.43356164383, 50125.84851351351, 49799.16613333333, 49627.283289473686, 49733.14987012987, 49693.43820512821, 50068.353924050636, 49831.8645, 50140.90654320988, 50002.30268292683, 50142.2143373494, 49664.82345238095, 50242.06094117647, 50085.69441860465, 50120.816781609195, 49921.36670454546, 50066.48404494382, 49532.62944444444, 50344.90131868132, 50336.710760869566, 50063.01505376344, 50087.80138297872, 50136.50473684211, 50242.67114583333, 49638.17443298969, 49452.27612244898, 49999.63161616162, 49552.7322]\n",
            "\u001b[91m Total Population Mean for Samples :\u001b[0m 49959.61857867596\n"
          ]
        }
      ],
      "source": [
        "# Code for Q2.3\n",
        "# To calculate the mean of a large number sample sizes will be very complicated since the sample sizes are all different; however,  \n",
        "# Central Limit Therom states that if you take sufficently large number of random samples from the population the distrubtion of the sample\n",
        "# means will be approximately.\n",
        "# Sample Mean is calculated as the Sum (of all obersavtions)/Number of samples\n",
        "\n",
        "# Algorithm:\n",
        "# 1. To calculate the this will need to get the sum of all the obersation in each sample and the number of elements \n",
        "# 2. Sum all obersavations/ total number of samples\n",
        "\n",
        "def get_sample_details( smple ):\n",
        "  result = []\n",
        "  sample_sum = 0\n",
        "  for i in smple:\n",
        "    sample_sum += i\n",
        "  \n",
        "  result.append( sample_sum )\n",
        "  result.append( len( smple ))\n",
        "  result.append( (sample_sum)/len( smple ) )\n",
        "\n",
        "  return result\n",
        "\n",
        "## Test Cases for - get sample details\n",
        "sample_details = get_sample_details([1,3,5,5,1,1,1,1])\n",
        "# Sum of all the elements\n",
        "assert sample_details[0] == 18\n",
        "# Count of all elements\n",
        "assert sample_details[1] == 8\n",
        "\n",
        "assert sample_details[2] == (18/8)\n",
        "\n",
        "def calculate_population_means( expirements ):\n",
        "  mu = 0\n",
        "  samples_sum = 0\n",
        "  samples_size = 0\n",
        "  population_means = []\n",
        "\n",
        "  for i in expirements : \n",
        "    rst = get_sample_details( i )\n",
        "    population_means.append( rst[2])\n",
        "\n",
        "  return population_means\n",
        "\n",
        "def calculate_total_population_means( population_means ):\n",
        "  mu = 0\n",
        "  means_sum = 0\n",
        "  means_size = len(population_means)\n",
        "\n",
        "  for i in range(len(population_means)): \n",
        "    means_sum += population_means[i]\n",
        "  \n",
        "  mu = (means_sum / means_size)\n",
        "\n",
        "  return mu\n",
        "\n",
        "## Test Cases calculate_population_means\n",
        "assert calculate_population_means( [[2,2,2,2,2]] )[0] == 2.0\n",
        "calculate_population_means( [[1,1,1,1,1],[2],[1,1,1,1]] )[0] == 1.0\n",
        "\n",
        "\n",
        "## Calculate Population Mean for above expirements\n",
        "mean_for_q2_samples = calculate_population_means( q2_samples )\n",
        "print( bcolors.RED + \"Population Mean for Q2 Samples : \"+bcolors.ENDC, mean_for_q2_samples  )\n",
        "\n",
        "## Calculate Population Mean for everything\n",
        "print( bcolors.RED +\" Total Population Mean for Samples :\"+bcolors.ENDC, calculate_total_population_means(mean_for_q2_samples))\n"
      ]
    },
    {
      "cell_type": "code",
      "execution_count": 38,
      "metadata": {
        "id": "NdjMBWg35LxG",
        "colab": {
          "base_uri": "https://localhost:8080/",
          "height": 1000
        },
        "outputId": "3b6bf012-701d-44b0-d3d6-deda22ff1da3"
      },
      "outputs": [
        {
          "output_type": "execute_result",
          "data": {
            "text/plain": [
              "(<Figure size 700x600 with 1 Axes>,\n",
              " <matplotlib.axes._subplots.AxesSubplot at 0x7f82c119ff10>)"
            ]
          },
          "metadata": {},
          "execution_count": 38
        },
        {
          "output_type": "stream",
          "name": "stdout",
          "text": [
            "\u001b[91mCount for distribution : \u001b[0m 30\n",
            "\u001b[91mBins for distribution : \u001b[0m 31\n",
            "\u001b[91mIgnored for distribution : \u001b[0m 30\n"
          ]
        },
        {
          "output_type": "execute_result",
          "data": {
            "text/plain": [
              "(<Figure size 700x600 with 1 Axes>,\n",
              " <matplotlib.axes._subplots.AxesSubplot at 0x7f82c2101050>)"
            ]
          },
          "metadata": {},
          "execution_count": 38
        },
        {
          "output_type": "display_data",
          "data": {
            "image/png": "[encoded data removed]",
            "text/plain": [
              "<Figure size 700x600 with 1 Axes>"
            ]
          },
          "metadata": {
            "needs_background": "light"
          }
        },
        {
          "output_type": "display_data",
          "data": {
            "image/png": "[encoded data removed]",
            "text/plain": [
              "<Figure size 700x600 with 1 Axes>"
            ]
          },
          "metadata": {
            "needs_background": "light"
          }
        }
      ],
      "source": [
        "# Code for Q2.4\n",
        "# The following question will build a chart based on the above data\n",
        "import matplotlib.pyplot as plt\n",
        "\n",
        "plt.subplots(figsize=(7,6), dpi=100)\n",
        "\n",
        "# Non-density histogram\n",
        "count, bins, ignored = plt.hist(mean_for_q2_samples, 30, density=False, histtype='bar', cumulative=False)\n",
        "\n",
        "assert len(count) == 30\n",
        "assert len(bins) == 31\n",
        "assert len( ignored ) == 30\n",
        "\n",
        "print(bcolors.RED + \"Count for distribution : \"+ bcolors.ENDC, len(count) )\n",
        "print(bcolors.RED + \"Bins for distribution : \"+ bcolors.ENDC, len(bins) )\n",
        "print(bcolors.RED + \"Ignored for distribution : \"+ bcolors.ENDC, len(ignored) )\n",
        "\n",
        "# density histogram\n",
        "plt.subplots(figsize=(7,6), dpi=100)\n",
        "count, bins, ignored = plt.hist(mean_for_q2_samples, 30, density=True, histtype='bar', cumulative=False)\n",
        "\n"
      ]
    },
    {
      "cell_type": "code",
      "execution_count": 39,
      "metadata": {
        "id": "EoiyqFCq5LxG"
      },
      "outputs": [],
      "source": [
        "# Code for Q2.5\n",
        "\n",
        "# The inference we can draw from the above histograms is that the mean we calculated of 49932.55273663366\n",
        "# can visually be seen based on that above histogram (i.e. the center of the histogram is around 49932).  \n",
        "# Secondly we can see that the distribution of the samples above is in accordance with Central Limit\n",
        "# Theorm that states given a sufficiently large sample size the distribution of the mean will follow\n",
        "# a normal distribution"
      ]
    },
    {
      "cell_type": "markdown",
      "metadata": {
        "id": "x7-bW60Eb151"
      },
      "source": [
        "## Question 3 <font color=\"blue\">(14 points)</font>\n",
        "In this exercise you will create some simulated data and will fit simple\n",
        "linear regression models to it. Make sure to fix the seed to $111$ prior to\n",
        "starting.\n",
        "  \n",
        "  1. **<font color=\"blue\">(1 point)</font>** Create a vector `x` containing $100$ observations drawn from a $\\mathcal{N}(0, 1)$ distribution as your feature. \n",
        "  2. **<font color=\"blue\">(1 point)</font>** Create a vector, `eps` (for $\\epsilon$), containing $100$ observations drawn from a $\\mathcal{N}(0, 0.25)$. \n",
        "  3. **<font color=\"blue\">(1 point)</font>** Using `x` and `eps` generate a vector `y` according to the model $y = −1 + 0.5x + \\epsilon$.\n",
        "  4. **<font color=\"blue\">(2 points)</font>** Create a scatterplot displaying the relationship between `x` and `y`. Comment on what you observe.\n",
        "  5. **<font color=\"blue\">(3 points)</font>** Fit a least squares linear model to predict `y` using `x` . Comment on the model obtained. How do $\\hat{\\beta}_0$ and $\\hat{\\beta}_1$ compare to $\\beta_0$ and $\\beta_1$?\n",
        "  6. **<font color=\"blue\">(2 point)</font>** Display the least squares line on the scatterplot obtained in part 4. Draw the population regression line on the plot, in a different color. Create an appropriate legend.\n",
        "  7. **<font color=\"blue\">(4 points)</font>** Explain how the result would change if you generate the data with less noise and repeat all steps 1 to 6? What about more noise? (Repeat experiments to support your answer)"
      ]
    },
    {
      "cell_type": "code",
      "source": [
        "## Imports for library\n",
        "import numpy as np\n",
        "import pandas as pd\n",
        "import matplotlib.pyplot as plt\n"
      ],
      "metadata": {
        "id": "Fomvmg5sDbfU"
      },
      "execution_count": 40,
      "outputs": []
    },
    {
      "cell_type": "code",
      "execution_count": 41,
      "metadata": {
        "id": "ggqksHPO5LxH",
        "colab": {
          "base_uri": "https://localhost:8080/"
        },
        "outputId": "12ae8c2c-1a9c-4a33-fa83-503f00c98ae0"
      },
      "outputs": [
        {
          "output_type": "stream",
          "name": "stdout",
          "text": [
            "\u001b[91mThe generated Vector X\u001b[0m [-1.13383833  0.38431919  1.49655378 -0.3553823  -0.78753354 -0.45943891\n",
            " -0.05916877 -0.3541735  -0.73552305 -1.18393989  0.23889413 -0.58992026\n",
            " -1.44058512  0.77370311 -1.02796733 -0.09098625  0.492003    0.4246722\n",
            "  1.28304882  0.31598645 -0.4080822  -0.06794759 -0.95242666 -0.1106774\n",
            "  0.57059429  0.91542017 -1.66934051  0.48271364 -0.31047267  2.39468973\n",
            "  1.55093092 -0.64646518 -0.92893724 -1.65497614  0.3501925  -0.14175652\n",
            "  0.52108179 -0.02090086 -1.74384395 -0.79915888 -1.30357043  0.178105\n",
            " -0.33440236 -0.30602713 -0.33240557  1.96294734  0.71924249  1.14288651\n",
            "  2.08287697 -1.28464775  0.53812761 -0.04453941  2.59716437 -0.05826628\n",
            " -0.945287    0.54117239 -0.05500889  1.12002081 -0.19164295 -0.61013842\n",
            " -0.44457885 -2.2040093  -0.43067048 -0.42509346  0.14729199  0.42492427\n",
            "  0.34725774 -0.27623555 -1.20229562  1.0310233   0.72331895  1.43277873\n",
            "  0.60950687 -0.58415554 -0.15787497 -0.36295316  0.26806865  0.62198742\n",
            "  0.23816937 -0.74918356 -0.27898145  0.70162215  0.59934453  0.2154077\n",
            "  1.29986666 -0.603634    0.25224381  0.83151679 -0.3691887  -1.02993616\n",
            " -0.64758224  2.14926711 -2.13702345  0.46641893 -0.30885458  2.10312245\n",
            " -1.05039732 -0.12711363 -1.58413055 -0.61107444]\n"
          ]
        }
      ],
      "source": [
        "# Code for Q3.1\n",
        "np.random.seed( 111 )\n",
        "x = np.random.normal( 0, 1, 100)\n",
        "\n",
        "print( bcolors.RED + \"The generated Vector X\"+ bcolors.ENDC, x  )"
      ]
    },
    {
      "cell_type": "code",
      "execution_count": 42,
      "metadata": {
        "id": "pTJ_shIq5LxH",
        "colab": {
          "base_uri": "https://localhost:8080/"
        },
        "outputId": "4f8c6dbb-0a66-4244-e830-9cba79e77bd3"
      },
      "outputs": [
        {
          "output_type": "stream",
          "name": "stdout",
          "text": [
            "\u001b[91mThe generated Vector eps\u001b[0m [-0.28345958  0.0960798   0.37413844 -0.08884557 -0.19688339 -0.11485973\n",
            " -0.01479219 -0.08854338 -0.18388076 -0.29598497  0.05972353 -0.14748007\n",
            " -0.36014628  0.19342578 -0.25699183 -0.02274656  0.12300075  0.10616805\n",
            "  0.3207622   0.07899661 -0.10202055 -0.0169869  -0.23810666 -0.02766935\n",
            "  0.14264857  0.22885504 -0.41733513  0.12067841 -0.07761817  0.59867243\n",
            "  0.38773273 -0.16161629 -0.23223431 -0.41374404  0.08754813 -0.03543913\n",
            "  0.13027045 -0.00522522 -0.43596099 -0.19978972 -0.32589261  0.04452625\n",
            " -0.08360059 -0.07650678 -0.08310139  0.49073683  0.17981062  0.28572163\n",
            "  0.52071924 -0.32116194  0.1345319  -0.01113485  0.64929109 -0.01456657\n",
            " -0.23632175  0.1352931  -0.01375222  0.2800052  -0.04791074 -0.15253461\n",
            " -0.11114471 -0.55100232 -0.10766762 -0.10627336  0.036823    0.10623107\n",
            "  0.08681444 -0.06905889 -0.30057391  0.25775583  0.18082974  0.35819468\n",
            "  0.15237672 -0.14603889 -0.03946874 -0.09073829  0.06701716  0.15549686\n",
            "  0.05954234 -0.18729589 -0.06974536  0.17540554  0.14983613  0.05385192\n",
            "  0.32496666 -0.1509085   0.06306095  0.2078792  -0.09229717 -0.25748404\n",
            " -0.16189556  0.53731678 -0.53425586  0.11660473 -0.07721365  0.52578061\n",
            " -0.26259933 -0.03177841 -0.39603264 -0.15276861]\n"
          ]
        }
      ],
      "source": [
        "# Code for Q3.2\n",
        "np.random.seed( 111 )\n",
        "eps = np.random.normal(0, 0.25, 100)\n",
        "\n",
        "print( bcolors.RED + \"The generated Vector eps\" + bcolors.ENDC, eps  )"
      ]
    },
    {
      "cell_type": "code",
      "execution_count": 43,
      "metadata": {
        "id": "0gckD1UG5LxH",
        "colab": {
          "base_uri": "https://localhost:8080/"
        },
        "outputId": "23c2a744-7e64-4c8d-b07d-6e0d77a9cd30"
      },
      "outputs": [
        {
          "output_type": "stream",
          "name": "stdout",
          "text": [
            "\u001b[91mThe calculated list of Y\u001b[0m [-1.85037875 -0.7117606   0.12241533 -1.26653672 -1.59065016 -1.34457918\n",
            " -1.04437658 -1.26563013 -1.55164229 -1.88795491 -0.8208294  -1.4424402\n",
            " -2.08043884 -0.41972267 -1.7709755  -1.06823969 -0.63099775 -0.68149585\n",
            " -0.03771339 -0.76301016 -1.30606165 -1.0509607  -1.71431999 -1.08300805\n",
            " -0.57205428 -0.31343487 -2.25200538 -0.63796477 -1.2328545   0.7960173\n",
            "  0.16319819 -1.48484888 -1.69670293 -2.24123211 -0.73735562 -1.10631739\n",
            " -0.60918866 -1.01567565 -2.30788296 -1.59936916 -1.97767782 -0.86642125\n",
            " -1.25080177 -1.22952035 -1.24930418  0.4722105  -0.46056813 -0.14283512\n",
            "  0.56215773 -1.96348581 -0.59640429 -1.03340456  0.94787328 -1.04369971\n",
            " -1.70896525 -0.59412071 -1.04125667 -0.15998439 -1.14373221 -1.45760382\n",
            " -1.33343414 -2.65300697 -1.32300286 -1.31882009 -0.88953101 -0.6813068\n",
            " -0.73955669 -1.20717666 -1.90172172 -0.22673252 -0.45751079  0.07458404\n",
            " -0.54286985 -1.43811666 -1.11840623 -1.27221487 -0.79894851 -0.53350943\n",
            " -0.82137298 -1.56188767 -1.20923609 -0.47378339 -0.5504916  -0.83844423\n",
            " -0.02510001 -1.4527255  -0.81081714 -0.37636241 -1.27689152 -1.77245212\n",
            " -1.48568668  0.61195033 -2.60276759 -0.6501858  -1.23164094  0.57734184\n",
            " -1.78779799 -1.09533523 -2.18809791 -1.45830583]\n"
          ]
        }
      ],
      "source": [
        "# Code for Q3.3\n",
        "y = -1 + .5*x + eps \n",
        "\n",
        "print(bcolors.RED + \"The calculated list of Y\" + bcolors.ENDC, y )"
      ]
    },
    {
      "cell_type": "code",
      "execution_count": 44,
      "metadata": {
        "id": "Tkp_FYfr5LxH",
        "colab": {
          "base_uri": "https://localhost:8080/",
          "height": 408
        },
        "outputId": "b86439df-0f1e-4ca9-b9b2-5dcf7bf1665f"
      },
      "outputs": [
        {
          "output_type": "display_data",
          "data": {
            "image/png": "[encoded data removed]",
            "text/plain": [
              "<Figure size 720x432 with 1 Axes>"
            ]
          },
          "metadata": {
            "needs_background": "light"
          }
        }
      ],
      "source": [
        "# Code for Q3.4\n",
        "fig, ax = plt.subplots(figsize=(10, 6))\n",
        "_ = ax.plot(x, y, 'or', mfc='b')\n",
        "_ = ax.set_title('Scatter plot between x and y', fontsize=14)\n",
        "_ = ax.set_ylabel('Y', fontsize=12)\n",
        "_ = ax.set_xlabel('X', fontsize=12)\n",
        "\n",
        "# Comment on relationship between the relationship between X and Y\n",
        "# By looking at the relationship it is clear that there is a linear relationship betwen \n",
        "# Y and X.  Based on a quick slope calculation the estimate equation for this line is:\n",
        "\n",
        "# y= 0.5x -.6"
      ]
    },
    {
      "cell_type": "code",
      "execution_count": 45,
      "metadata": {
        "id": "evoMn7b45LxH",
        "colab": {
          "base_uri": "https://localhost:8080/",
          "height": 317
        },
        "outputId": "eaa7957a-0a93-4bd0-b95e-4436d112fb79"
      },
      "outputs": [
        {
          "output_type": "stream",
          "name": "stdout",
          "text": [
            "\u001b[91mThe estimated coefficent %f\u001b[0m 0.7500000000000001\n",
            "\u001b[91mThe estimated intercept %f\u001b[0m -1.0000000000000002\n"
          ]
        },
        {
          "output_type": "execute_result",
          "data": {
            "text/plain": [
              "[<matplotlib.lines.Line2D at 0x7f82c166a250>]"
            ]
          },
          "metadata": {},
          "execution_count": 45
        },
        {
          "output_type": "display_data",
          "data": {
            "image/png": "[encoded data removed]",
            "text/plain": [
              "<Figure size 432x288 with 1 Axes>"
            ]
          },
          "metadata": {
            "needs_background": "light"
          }
        }
      ],
      "source": [
        "# Code for Q3.5\n",
        "# To fit a line using least squares, I will follow the same model used in Workbook 2 \n",
        "\n",
        "## Calculate the X and Y bard\n",
        "\n",
        "def generate_least_squads( y, x ):\n",
        "  y_bar = sum(y)/len(y)\n",
        "  x_bar = sum(x)/len(x)\n",
        "\n",
        "  a_num = sum([(x_i-x_bar)*(y_i-y_bar) for x_i,y_i in zip(x,y)])\n",
        "  a_denom = sum([(x_i-x_bar)**2 for x_i in x])\n",
        "\n",
        "  reg_coef = a_num/a_denom\n",
        "  intercept = y_bar - reg_coef*x_bar\n",
        "  \n",
        "  return reg_coef, intercept\n",
        "\n",
        "\n",
        "reg_coef, intercept = generate_least_squads( y, x)\n",
        "\n",
        "print( bcolors.RED + \"The estimated coefficent %f\" + bcolors.ENDC, reg_coef  )\n",
        "print( bcolors.RED + \"The estimated intercept %f\" + bcolors.ENDC, intercept  )\n",
        "\n",
        "plt.plot(np.array(x),intercept +  reg_coef * np.array(x), color='blue')\n",
        "\n",
        "# The estimate coefficent and intercept are in line with what was estimated above.  \n",
        "# Looking at the calculated values we are getting the following equation for the line\n",
        "\n",
        "# y = 0.75x -1\n"
      ]
    },
    {
      "cell_type": "code",
      "execution_count": 46,
      "metadata": {
        "id": "dmG9xzl75LxH",
        "colab": {
          "base_uri": "https://localhost:8080/",
          "height": 480
        },
        "outputId": "8a7cc821-8621-4f93-8bce-51abd8feb449"
      },
      "outputs": [
        {
          "output_type": "execute_result",
          "data": {
            "text/plain": [
              "[<matplotlib.lines.Line2D at 0x7f82c152fb90>]"
            ]
          },
          "metadata": {},
          "execution_count": 46
        },
        {
          "output_type": "execute_result",
          "data": {
            "text/plain": [
              "[<matplotlib.lines.Line2D at 0x7f82c155df50>]"
            ]
          },
          "metadata": {},
          "execution_count": 46
        },
        {
          "output_type": "execute_result",
          "data": {
            "text/plain": [
              "Text(0.5, 1.0, 'Scatter plot between y and x')"
            ]
          },
          "metadata": {},
          "execution_count": 46
        },
        {
          "output_type": "execute_result",
          "data": {
            "text/plain": [
              "Text(0, 0.5, 'Y')"
            ]
          },
          "metadata": {},
          "execution_count": 46
        },
        {
          "output_type": "execute_result",
          "data": {
            "text/plain": [
              "Text(0.5, 0, 'X')"
            ]
          },
          "metadata": {},
          "execution_count": 46
        },
        {
          "output_type": "execute_result",
          "data": {
            "text/plain": [
              "<matplotlib.legend.Legend at 0x7f82c155d0d0>"
            ]
          },
          "metadata": {},
          "execution_count": 46
        },
        {
          "output_type": "display_data",
          "data": {
            "image/png": "[encoded data removed]",
            "text/plain": [
              "<Figure size 720x432 with 1 Axes>"
            ]
          },
          "metadata": {
            "needs_background": "light"
          }
        }
      ],
      "source": [
        "# Code for Q3.6\n",
        "\n",
        "# To solve for question 6 I will recreate the above graph and overlay the line done in question 5\n",
        "fig, ax = plt.subplots(figsize=(10, 6))\n",
        "ax.plot(x, y, 'or', mfc='b', label=\"Scatter Plot\")\n",
        "ax.plot(np.array(x),intercept +  reg_coef * np.array(x), color='blue', label=\"Least Squares\")\n",
        "ax.set_title('Scatter plot between y and x', fontsize=14)\n",
        "ax.set_ylabel('Y', fontsize=12)\n",
        "ax.set_xlabel('X', fontsize=12)\n",
        "ax.legend(loc=\"upper right\")\n",
        "\n",
        "# What we are seeing is that the slope difference between the two lines is about half between the \n",
        "# Scatter plot and the estimated least squares method\n"
      ]
    },
    {
      "cell_type": "code",
      "execution_count": 47,
      "metadata": {
        "id": "LVCDN2da5LxI",
        "colab": {
          "base_uri": "https://localhost:8080/",
          "height": 906
        },
        "outputId": "70046eb8-163f-4be7-d847-93ce96a34015"
      },
      "outputs": [
        {
          "output_type": "execute_result",
          "data": {
            "text/plain": [
              "[<matplotlib.lines.Line2D at 0x7f82c21805d0>]"
            ]
          },
          "metadata": {},
          "execution_count": 47
        },
        {
          "output_type": "execute_result",
          "data": {
            "text/plain": [
              "[<matplotlib.lines.Line2D at 0x7f82c2180a90>]"
            ]
          },
          "metadata": {},
          "execution_count": 47
        },
        {
          "output_type": "execute_result",
          "data": {
            "text/plain": [
              "Text(0.5, 1.0, 'Scatter plot between y and x')"
            ]
          },
          "metadata": {},
          "execution_count": 47
        },
        {
          "output_type": "execute_result",
          "data": {
            "text/plain": [
              "Text(0, 0.5, 'Y')"
            ]
          },
          "metadata": {},
          "execution_count": 47
        },
        {
          "output_type": "execute_result",
          "data": {
            "text/plain": [
              "Text(0.5, 0, 'X')"
            ]
          },
          "metadata": {},
          "execution_count": 47
        },
        {
          "output_type": "execute_result",
          "data": {
            "text/plain": [
              "<matplotlib.legend.Legend at 0x7f82c16adc90>"
            ]
          },
          "metadata": {},
          "execution_count": 47
        },
        {
          "output_type": "execute_result",
          "data": {
            "text/plain": [
              "[<matplotlib.lines.Line2D at 0x7f82c2215f50>]"
            ]
          },
          "metadata": {},
          "execution_count": 47
        },
        {
          "output_type": "execute_result",
          "data": {
            "text/plain": [
              "[<matplotlib.lines.Line2D at 0x7f82c2223590>]"
            ]
          },
          "metadata": {},
          "execution_count": 47
        },
        {
          "output_type": "execute_result",
          "data": {
            "text/plain": [
              "Text(0.5, 1.0, 'Scatter plot between y and x')"
            ]
          },
          "metadata": {},
          "execution_count": 47
        },
        {
          "output_type": "execute_result",
          "data": {
            "text/plain": [
              "Text(0, 0.5, 'Y')"
            ]
          },
          "metadata": {},
          "execution_count": 47
        },
        {
          "output_type": "execute_result",
          "data": {
            "text/plain": [
              "Text(0.5, 0, 'X')"
            ]
          },
          "metadata": {},
          "execution_count": 47
        },
        {
          "output_type": "execute_result",
          "data": {
            "text/plain": [
              "<matplotlib.legend.Legend at 0x7f82c21809d0>"
            ]
          },
          "metadata": {},
          "execution_count": 47
        },
        {
          "output_type": "display_data",
          "data": {
            "image/png": "[encoded data removed]",
            "text/plain": [
              "<Figure size 720x432 with 1 Axes>"
            ]
          },
          "metadata": {
            "needs_background": "light"
          }
        },
        {
          "output_type": "display_data",
          "data": {
            "image/png": "[encoded data removed]",
            "text/plain": [
              "<Figure size 720x432 with 1 Axes>"
            ]
          },
          "metadata": {
            "needs_background": "light"
          }
        }
      ],
      "source": [
        "# Code for Q3.7\n",
        "# For this question we are going to attempt two different expirements.  The first is to \n",
        "# reduce the error from 0.25 to 0.1.  The second expirement will be to increase it from 0.25\n",
        "# to 0.5\n",
        "\n",
        "## Test 1: Episilon is 0.1\n",
        "eps1 = np.random.normal(0, 0.1, 100)\n",
        "y1 = -1 + .5*x + eps1\n",
        "\n",
        "reg_coef_1, intercept_1 = generate_least_squads( y1, x)\n",
        "\n",
        "fig, ax = plt.subplots(figsize=(10, 6))\n",
        "ax.plot(x, y1, 'or', mfc='b', label=\"Scatter Plot\")\n",
        "ax.plot(np.array(x),intercept_1 +  reg_coef_1 * np.array(x), color='blue', label=\"Least Squares\")\n",
        "ax.set_title('Scatter plot between y and x', fontsize=14)\n",
        "ax.set_ylabel('Y', fontsize=12)\n",
        "ax.set_xlabel('X', fontsize=12)\n",
        "ax.legend(loc=\"upper right\")\n",
        "\n",
        "\n",
        "## Test 2: Episilon is 0.5\n",
        "eps1 = np.random.normal(0, 0.5, 100)\n",
        "y2 = -1 + .5*x + eps1\n",
        "\n",
        "reg_coef_2, intercept_2 = generate_least_squads( y2, x)\n",
        "\n",
        "fig, ax = plt.subplots(figsize=(10, 6))\n",
        "ax.plot(x, y2, 'or', mfc='b', label=\"Scatter Plot\")\n",
        "ax.plot(np.array(x),intercept_2 +  reg_coef_2 * np.array(x), color='blue', label=\"Least Squares\")\n",
        "ax.set_title('Scatter plot between y and x', fontsize=14)\n",
        "ax.set_ylabel('Y', fontsize=12)\n",
        "ax.set_xlabel('X', fontsize=12)\n",
        "ax.legend(loc=\"upper right\")\n",
        "\n",
        "# Based on the two scenarios above, when the error rate is reduced our regression model is reduced and brought \n",
        "# much more in line with the observations; however, when the error rate is increased the fitted line does not \n",
        "# do as good a job.\n",
        "\n",
        "\n"
      ]
    }
  ],
  "metadata": {
    "colab": {
      "collapsed_sections": [],
      "name": "Assignment01-W22.ipynb",
      "provenance": [],
      "include_colab_link": true
    },
    "kernelspec": {
      "display_name": "Python 3",
      "language": "python",
      "name": "python3"
    },
    "language_info": {
      "codemirror_mode": {
        "name": "ipython",
        "version": 3
      },
      "file_extension": ".py",
      "mimetype": "text/x-python",
      "name": "python",
      "nbconvert_exporter": "python",
      "pygments_lexer": "ipython3",
      "version": "3.7.7"
    }
  },
  "nbformat": 4,
  "nbformat_minor": 0
}