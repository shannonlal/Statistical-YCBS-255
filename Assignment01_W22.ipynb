{
  "cells": [
    {
      "cell_type": "markdown",
      "metadata": {
        "id": "view-in-github",
        "colab_type": "text"
      },
      "source": [
        "<a href=\"https://colab.research.google.com/github/shannonlal/Statistical-YCBS-255/blob/main/Assignment01_W22.ipynb\" target=\"_parent\"><img src=\"https://colab.research.google.com/assets/colab-badge.svg\" alt=\"Open In Colab\"/></a>"
      ]
    },
    {
      "cell_type": "markdown",
      "metadata": {
        "id": "wHIJXuml3JLf"
      },
      "source": [
        "# Assignment 1 **<font color=\"blue\"> (15 points )<font>**\n",
        "\n",
        "------\n",
        "### Notes and Instructions\n",
        "  + You may need additional libraries besides the Python standard library to solve some questions. Import only necessary libraries. \n",
        "  + If more than one library exist for a same purpose, choose the one you wish as long as it does the task properly. \n",
        "  + If we want you to use a specific library, then we will state it clearly. \n",
        "  + Use the exact variable names asked in the questions. When no clear instructions given, feel free to do it the way you would like to.\n",
        "  + After each question, add the needed number of new cells and place your answers inside the cells. \n",
        "  + Use text cells for explanations. Use explanation and plain text as much as possible. \n",
        "  + Do not remove or modify the original cells provided by the instructor.\n",
        "  + In the following cell you will find some extra options to make your code more readable, including output colors RED, OKBLUE, or output text styles like BOLD or UNDERLINE that. Do not hesitate to use them. As an example, one may output text in red as follows: \n",
        "  ```python\n",
        "     print(bcolors.RED + \"your text\" + bcolors.ENDC)\n",
        "  ```\n",
        "  + Comment your code whenever needed using # sign at the beginning of the row.\n",
        "  + In some questions some of the details needed for solving the problem are **purposely** omitted to encourage additional self-directed research. This, especially, helps you develop some search skills for coding in Python (which is inevitable due to the inconsistent syntax of Python).\n",
        "  + Do not hesitate to communicate your questions to the TA's or instructors. Good luck!\n",
        "  "
      ]
    },
    {
      "cell_type": "markdown",
      "metadata": {
        "id": "8Pw5AC0_5LxC"
      },
      "source": [
        "###   Answer each question in the designated cell. You may create additional cells as needed, but the output (answer) should be in each question's designated cell as marked. For written comments and answers, please add them in a text cell. \n",
        "### <font color=\"blue\"> 1.5 points will be awarded for clean and clear code, and generating outputs in the designated cells.    \n",
        "</font>"
      ]
    },
    {
      "cell_type": "code",
      "execution_count": 4,
      "metadata": {
        "id": "tJS1lJsC3JLm"
      },
      "outputs": [],
      "source": [
        "# The following piece of code gives the opportunity to show multiple outputs\n",
        "# in one cell:\n",
        "from IPython.core.interactiveshell import InteractiveShell\n",
        "InteractiveShell.ast_node_interactivity = \"all\"\n",
        "\n",
        "# Colorful outputs\n",
        "class bcolors:\n",
        "    RED       = '\\033[91m'\n",
        "    OKBLUE    = '\\033[94m'\n",
        "    BOLD      = '\\033[1m'\n",
        "    UNDERLINE = '\\033[4m'\n",
        "    ENDC      = '\\033[0m'"
      ]
    },
    {
      "cell_type": "markdown",
      "metadata": {
        "id": "ctNRZFL03JLv"
      },
      "source": [
        "## Question 1 <font color=\"blue\">(4 points)</font>\n",
        "\n",
        "  1. **<font color=\"blue\">(2 points)</font>** Write a Python **function** that takes two **positive integers** and returns their **greatest common divisor**. In case you pass a negative integer to the function it must return the following string **in red**: <br> <font color=\"red\"> \"This function takes only positive integers!\" </font>\n",
        "  2. **<font color=\"blue\">(2 points)</font>** Write a function that prints all the prime numbers less than or equal to $n$, where $n$ is a parameter to be passed to the function. If $n \\leq 1$ the function returns <br>\n",
        "<font color=\"red\">\"No prime number was found!\"</span>."
      ]
    },
    {
      "cell_type": "code",
      "execution_count": null,
      "metadata": {
        "id": "XGIejOQf5LxE"
      },
      "outputs": [],
      "source": [
        "# Code for Q1.1\n",
        "\n",
        "# After doing some research on the internet I was able to get a definition of the Greatest Common Divisor (GCD) using  the Euclidean Algorithm.  \n",
        "# I used a couple of sources for defining this and I wanted to not them in my solution\n",
        "\n",
        "# Sources:\n",
        "## https://www.youtube.com/watch?v=p5gn2hj51hs\n",
        "## https://www.freecodecamp.org/news/euclidian-gcd-algorithm-greatest-common-divisor/\n",
        "\n",
        "## Validation:\n",
        "## https://www.calculatorsoup.com/calculators/math/gcf.php\n",
        "\n",
        "# Algorithm\n",
        "## 1. Verify the numbers are non-negative.  If they are return error message\n",
        "## 2. Determine the GCD given two numbers\n",
        "\n",
        "# GCD Algorithm\n",
        "## This will be a recurseive algoirthm that uses the mod function between two numbers.  Once the mod is equal to 0 the \n",
        "## the previous remainder is the GCD between two numbers:\n",
        "\n",
        "\n",
        "def gcd( a, b ):\n",
        "  if b == 0:\n",
        "    return a\n",
        "  else:\n",
        "    # The following is a recrusive call to GCD using the previous variable and mod function\n",
        "    return gcd( b, (a%b))\n",
        "\n",
        "def calculateGreatestCommonDivisor( a, b ):\n",
        "  if (a < 0 ) or ( b < 0):\n",
        "    return bcolors.RED+ \"This function takes only positive integers!\"\n",
        "  else:\n",
        "    return gcd( a,b)\n",
        "\n",
        "## Test Cases\n",
        "assert calculateGreatestCommonDivisor( 0, 0) == 0\n",
        "assert calculateGreatestCommonDivisor( 10, 0) == 10\n",
        "assert calculateGreatestCommonDivisor( 0, 10) == 10\n",
        "assert calculateGreatestCommonDivisor( 97, 4) == 1\n",
        "assert calculateGreatestCommonDivisor( 21, 21) == 21\n",
        "\n",
        "assert calculateGreatestCommonDivisor( -3, 4) == bcolors.RED+ \"This function takes only positive integers!\"\n",
        "assert calculateGreatestCommonDivisor( 4, -4) == bcolors.RED+ \"This function takes only positive integers!\"\n",
        "\n",
        "\n"
      ]
    },
    {
      "cell_type": "code",
      "execution_count": null,
      "metadata": {
        "id": "bEu_L-N75LxE"
      },
      "outputs": [],
      "source": [
        "# Code for Q1.2\n",
        "# After doing some research on the internet it looks like the Sieve of Eratosthenes is the most efficient way to calculate this.\n",
        "# Note: The key though is that this algorithm is efficient for numbers under 10,000,000.  The issue is that it creates an array and \n",
        "# beyond 10,000,000 the amount of memory required to calculate this needs to be factored into the algoirhtm.\n",
        "# For the purpose of this question we will assume the numbers are below 10,000,000\n",
        "\n",
        "# Sources:\n",
        "## https://en.wikipedia.org/wiki/Sieve_of_Atkin\n",
        "## https://stackoverflow.com/questions/11619942/print-series-of-prime-numbers-in-python\n",
        "\n",
        "\n",
        "# Validation: \n",
        "## https://www.mathsisfun.com/prime_numbers.html\n",
        "\n",
        "# Algorithm for calculating the list of primes given a number\n",
        "# 1. Create an array of size n-1 and set every value to TRUE\n",
        "# 2. Look at the the first item (i.e. normally 2) and attempt to divide each other element in the list by it.  If the remainder (i.e. mod ==0 ) then\n",
        "# it is divisible by the element and is not a prime and should be marked as FALSE\n",
        "# 3.  Repeat the process by finding the next element in the list that is TRUE and attempt to divide the all remaining elements \n",
        "\n",
        "def calculateListOfPrimes( n ):\n",
        "\n",
        "  # Create a boolean array of primes\n",
        "  primes = [True for i in range (n+1)]\n",
        "\n",
        "  #Note: start at 2 as is first prime\n",
        "  p = 2\n",
        "\n",
        "  while( p*p <= n):\n",
        "\n",
        "    if( primes[p] == True):\n",
        "\n",
        "      for i in range (p*p, n+1, p ):\n",
        "        primes[i] = False\n",
        "    \n",
        "    p+=1\n",
        "  \n",
        "  listOfPrimes = []\n",
        "  for p in range( 2, n+1):\n",
        "    if primes[p]:\n",
        "      listOfPrimes.append(p)\n",
        "  \n",
        "  return listOfPrimes\n",
        "\n",
        "\n",
        "\n",
        "assert calculateListOfPrimes(10) == [2,3,5,7]\n",
        "assert calculateListOfPrimes(2) == [2]\n",
        "assert calculateListOfPrimes(100) == [2, 3, 5, 7, 11, 13, 17, 19, 23, 29, 31, 37, 41, 43, 47, 53, 59, 61, 67, 71, 73, 79, 83, 89, 97]"
      ]
    },
    {
      "cell_type": "markdown",
      "metadata": {
        "id": "udPL4T8f3JLx"
      },
      "source": [
        "## Question 2 <font color=\"blue\">(10.5 points)</font>\n",
        "Let $\\mathbf X\\sim \\mbox{Exp}(\\lambda)$, with parameter $\\lambda = 1.2$.\n",
        "  1. **<font color=\"blue\">(1.5 points)</font>** Define the population mean and the sample mean. What is the population mean of the above described distribution. \n",
        "  2. **<font color=\"blue\">(2 point)</font>**  Generate $100$ different samples of $\\mathbf X$, namely, $S_{100}, S_{200}, S_{300}, \\dots, S_{10000}$, where indeces denote the number of observations (sample size) in each sample. \n",
        "  3. **<font color=\"blue\">(2 points)</font> Estimate** the population mean using each sample and explain the rationale behind your estimation. \n",
        "  4. **<font color=\"blue\">(2 point)</font>** Applying **appropriate** methods visualize and describe the values obtained in the previous step. \n",
        "  5. **<font color=\"blue\">(3 points)</font>** Finally, draw an inference about the population mean and its relation with sample means, based on visualized results in step 4."
      ]
    },
    {
      "cell_type": "code",
      "execution_count": null,
      "metadata": {
        "id": "qwvRMOJL5LxF",
        "colab": {
          "base_uri": "https://localhost:8080/"
        },
        "outputId": "e26f661b-f453-4d91-cda6-e1c4ceae494b"
      },
      "outputs": [
        {
          "output_type": "stream",
          "name": "stdout",
          "text": [
            "\u001b[91mPopulation Mean for Exponential Distrubition: %f 0.8333333333333334\n"
          ]
        }
      ],
      "source": [
        "# Code for Q2.1\n",
        "\n",
        "# Question: Does he want the formula or just a text defnition for sample and population mean\n",
        "\n",
        "# Example: To explain sample mean vs population I will use an example.  Let's say we were studying the amount of screen time each student \n",
        "# watched each week.  If there where 1000 students in each class and each class had about 30 students then the definitions would be as follows:\n",
        "# Population Mean: This represents the actual mean of the entire poplulation.  If the above example population mean would be :\n",
        "# (Sum of screen time for all students)/ (1000 -- total sutdent population)\n",
        "\n",
        "# Sample Mean: This represents the mean of the sample.  In the above sample the sample mean would be:\n",
        "# (Sum of the screen time for a class)/( 30 -- students in the class or sample)\n",
        "\n",
        "mu = 1.2\n",
        "population_mean = (1/mu)\n",
        "\n",
        "print( bcolors.RED + \"Population Mean for Exponential Distrubition: %f\", population_mean  )"
      ]
    },
    {
      "cell_type": "code",
      "execution_count": null,
      "metadata": {
        "id": "rZEiKt2N5LxF"
      },
      "outputs": [],
      "source": [
        "# Code for Q2.2\n",
        "# The goal of this question is to generate 100 different samples where each sample has a different size (i.e. 100, 200, 300....)\n",
        "# The out put of this function will be an array of arrays.  Each element in the array will contain an area of samples.  To accomplish this\n",
        "# We break this down into a couple of steps:\n",
        "# 1. Generate a function and create a sample set of n elements based on a range of 100,000 \n",
        "# 2. Call the above function to generate your samples and add it to an array\n",
        "from random import sample\n",
        "\n",
        "def generate_sample( sample_size ):\n",
        "  return sample(range( 100000),sample_size)\n",
        "\n",
        "## Test Cases - generate_sample\n",
        "assert len(generate_sample( 1 )) == 1\n",
        "assert len(generate_sample( 10 )) == 10\n",
        "\n",
        "def create_samples( number_of_samples, sample_size_increment):\n",
        "  sample_size = sample_size_increment\n",
        "  samples = []\n",
        "  for i in range(0, number_of_samples):\n",
        "    samples.append( generate_sample(sample_size) )\n",
        "    sample_size += sample_size_increment\n",
        "  \n",
        "  return samples\n",
        "\n",
        "## Test Cases for - create_samples\n",
        "q2_samples = create_samples( 100, 100)\n",
        "\n",
        "## Verify the over length of the main array and spot check sizes of the inner lists\n",
        "assert len( q2_samples ) == 100\n",
        "assert len( q2_samples[0] ) == 100\n",
        "assert len( q2_samples[40] ) == 4100\n",
        "assert len( q2_samples[99] ) == 10000\n",
        "\n",
        "\n",
        "\n",
        "\n",
        "\n",
        "\n"
      ]
    },
    {
      "cell_type": "code",
      "execution_count": null,
      "metadata": {
        "id": "3aNBSPFy5LxG",
        "colab": {
          "base_uri": "https://localhost:8080/"
        },
        "outputId": "6ab786ef-df60-43ae-e1cb-a0ac5c6b47a3"
      },
      "outputs": [
        {
          "output_type": "stream",
          "name": "stdout",
          "text": [
            "\u001b[91mPopulation Mean for Q2 Samples %f 50041.034045544555\n"
          ]
        }
      ],
      "source": [
        "# Code for Q2.3\n",
        "# To calculate the mean of a large number sample sizes will be very complicated since the sample sizes are all different; however,  \n",
        "# Central Limit Therom states that if you take sufficently large number of random samples from the population the distrubtion of the sample\n",
        "# means will be approximately.\n",
        "# Sample Mean is calculated as the Sum (of all obersavtions)/Number of samples\n",
        "\n",
        "# Algorithm:\n",
        "# 1. To calculate the this will need to get the sum of all the obersation in each sample and the number of elements \n",
        "# 2. Sum all obersavations/ total number of samples\n",
        "\n",
        "def get_sample_details( smple ):\n",
        "  result = []\n",
        "  sample_sum = 0\n",
        "  for i in smple:\n",
        "    sample_sum += i\n",
        "  \n",
        "  result.append( sample_sum )\n",
        "  result.append( len( smple ))\n",
        "\n",
        "  return result\n",
        "\n",
        "## Test Cases for - get sample details\n",
        "sample_details = get_sample_details([1,3,5,5,1,1,1,1])\n",
        "# Sum of all the elements\n",
        "assert sample_details[0] == 18\n",
        "# Count of all elements\n",
        "assert sample_details[1] == 8\n",
        "\n",
        "\n",
        "def calculate_population_means( expirements ):\n",
        "  mu = 0\n",
        "  samples_sum = 0\n",
        "  samples_size = 0\n",
        "\n",
        "  for i in expirements : \n",
        "    rst = get_sample_details( i )\n",
        "    samples_sum += rst[0]\n",
        "    samples_size += rst[1]\n",
        "  \n",
        "  mu = (samples_sum / samples_size)\n",
        "\n",
        "  return mu\n",
        "\n",
        "## Test Cases calculate_population_means\n",
        "assert calculate_population_means( [[2,2,2,2,2]] )  == 2.0\n",
        "assert calculate_population_means( [[1,1,1,1,1],[2],[1,1,1,1]] ) == 1.1\n",
        "\n",
        "\n",
        "## Calculate Population Mean for above expirements\n",
        "mean_for_q2_samples = calculate_population_means( q2_samples )\n",
        "print( bcolors.RED + \"Population Mean for Q2 Samples %f\", mean_for_q2_samples  )\n"
      ]
    },
    {
      "cell_type": "code",
      "execution_count": null,
      "metadata": {
        "id": "NdjMBWg35LxG"
      },
      "outputs": [],
      "source": [
        "# Code for Q2.4\n",
        "# The following question will build a chart based on the above data\n",
        "import matplotlib.pyplot as plt\n",
        "\n",
        "plt.subplots(figsize=(7,6), dpi=100)\n",
        "sns.distplot(mean_dice_value, color=\"Exponential Samples\")\n",
        "plt.title('Exponential Samples Plotted')\n",
        "plt.legend();\n",
        "\n",
        "# Questions to review\n",
        "# 1. Can you explain how the mean is calculated for samples of an exponential\n",
        "# 2. Can you review the different plotting technics\n",
        "# 3. "
      ]
    },
    {
      "cell_type": "code",
      "execution_count": null,
      "metadata": {
        "id": "EoiyqFCq5LxG"
      },
      "outputs": [],
      "source": [
        "# Code for Q2.5"
      ]
    },
    {
      "cell_type": "markdown",
      "metadata": {
        "id": "x7-bW60Eb151"
      },
      "source": [
        "## Question 3 <font color=\"blue\">(14 points)</font>\n",
        "In this exercise you will create some simulated data and will fit simple\n",
        "linear regression models to it. Make sure to fix the seed to $111$ prior to\n",
        "starting.\n",
        "  \n",
        "  1. **<font color=\"blue\">(1 point)</font>** Create a vector `x` containing $100$ observations drawn from a $\\mathcal{N}(0, 1)$ distribution as your feature. \n",
        "  2. **<font color=\"blue\">(1 point)</font>** Create a vector, `eps` (for $\\epsilon$), containing $100$ observations drawn from a $\\mathcal{N}(0, 0.25)$. \n",
        "  3. **<font color=\"blue\">(1 point)</font>** Using `x` and `eps` generate a vector `y` according to the model $y = −1 + 0.5x + \\epsilon$.\n",
        "  4. **<font color=\"blue\">(2 points)</font>** Create a scatterplot displaying the relationship between `x` and `y`. Comment on what you observe.\n",
        "  5. **<font color=\"blue\">(3 points)</font>** Fit a least squares linear model to predict `y` using `x` . Comment on the model obtained. How do $\\hat{\\beta}_0$ and $\\hat{\\beta}_1$ compare to $\\beta_0$ and $\\beta_1$?\n",
        "  6. **<font color=\"blue\">(2 point)</font>** Display the least squares line on the scatterplot obtained in part 4. Draw the population regression line on the plot, in a different color. Create an appropriate legend.\n",
        "  7. **<font color=\"blue\">(4 points)</font>** Explain how the result would change if you generate the data with less noise and repeat all steps 1 to 6? What about more noise? (Repeat experiments to support your answer)"
      ]
    },
    {
      "cell_type": "code",
      "source": [
        "## Imports for library\n",
        "import numpy as np\n",
        "import pandas as pd\n",
        "import matplotlib.pyplot as plt"
      ],
      "metadata": {
        "id": "Fomvmg5sDbfU"
      },
      "execution_count": 9,
      "outputs": []
    },
    {
      "cell_type": "code",
      "execution_count": 5,
      "metadata": {
        "id": "ggqksHPO5LxH",
        "colab": {
          "base_uri": "https://localhost:8080/"
        },
        "outputId": "5cac56d9-3e90-4b80-800f-4d64da283521"
      },
      "outputs": [
        {
          "output_type": "stream",
          "name": "stdout",
          "text": [
            "\u001b[91mThe generated Vector X [ 2.40446131 -1.18577713 -1.03772252  0.47048031 -0.16417004  0.80432753\n",
            " -1.54498535  1.86388923 -1.82548492  0.26536151  0.04272093 -0.40885618\n",
            " -0.2206536  -1.20806429  0.31508801  0.8356634   0.81461332  0.87644806\n",
            " -1.66716455 -0.13972087 -0.7758936  -1.30354264 -0.17065892  0.58564033\n",
            "  1.01272255  0.25236732 -0.60140085 -0.32783849  0.98987755 -0.85791824\n",
            "  0.26594242  0.71257624 -0.53658495 -2.05574191  1.49422968 -0.84340064\n",
            " -0.04815035  0.02181221 -1.24411726 -0.78076442  0.7884977  -1.86248258\n",
            "  0.17155474  0.56687742  1.23238367  0.54921521 -0.13834957  1.16787992\n",
            "  0.09201991 -0.70670347 -0.71917521  0.1340072   1.00252817 -0.82654883\n",
            " -0.00439379 -1.85242586 -1.42490458  0.25963688  0.71447891 -0.80544484\n",
            " -2.31123094 -1.1223964   0.76140236  0.78222551 -0.95739772 -0.3820257\n",
            " -0.77002013 -1.47707591  0.06442466 -0.09201426  1.45916103 -0.13385078\n",
            " -0.06591874  0.85559977  0.78612867 -1.20187442  0.05397961  0.08074235\n",
            "  0.88787774 -0.59885746 -0.70352909  1.41536402  0.91571038  0.24068815\n",
            " -0.34474944  1.56662303  0.17151846 -1.11316355 -0.13894372  0.53132385\n",
            " -1.36210444 -0.38188483 -0.9878135   0.48821574 -1.50602141  1.84450652\n",
            " -0.01478791 -0.23136477 -1.49862995  0.24179758]\n"
          ]
        }
      ],
      "source": [
        "# Code for Q3.1\n",
        "x = np.random.normal( 0, 1, 100)\n",
        "\n",
        "print( bcolors.RED + \"The generated Vector X\", x  )"
      ]
    },
    {
      "cell_type": "code",
      "execution_count": 6,
      "metadata": {
        "id": "pTJ_shIq5LxH",
        "colab": {
          "base_uri": "https://localhost:8080/"
        },
        "outputId": "f202af9f-c006-426d-dd08-dea9632bc089"
      },
      "outputs": [
        {
          "output_type": "stream",
          "name": "stdout",
          "text": [
            "\u001b[91mThe generated Vector eps [ 0.17194383 -0.47548468  0.04094395 -0.18158639 -0.22811248  0.26251019\n",
            "  0.11562389  0.25656054 -0.2115382  -0.09210424  0.07671151 -0.39650073\n",
            "  0.02505773 -0.2112082  -0.34766345 -0.29276959  0.29214736  0.08218583\n",
            " -0.27557934 -0.00903298  0.21874208 -0.1222863  -0.04937732 -0.09711666\n",
            " -0.19944502  0.27756089 -0.13987707  0.461626   -0.4723981  -0.17438996\n",
            " -0.20290239 -0.02061293 -0.35410045  0.37410442  0.23881047  0.00592415\n",
            "  0.18770037 -0.2793434  -0.80522008 -0.58114345  0.17828867  0.05492805\n",
            " -0.125331    0.06307544 -0.5173095  -0.25475777 -0.0821945  -0.09980464\n",
            "  0.04121411  0.374898   -0.30682269  0.05956519 -0.07875332 -0.1817257\n",
            " -0.11977868 -0.13677061 -0.37676707  0.07549324  0.16719278  0.10947289\n",
            " -0.22720101  0.14788133  0.35901616 -0.15700163  0.15370207  0.32173412\n",
            " -0.20055789 -0.08167688  0.62461852 -0.13742807  0.01155892 -0.17410445\n",
            "  0.23115093  0.35449314 -0.35460364 -0.12175737  0.1534214  -0.04502506\n",
            "  0.55951907 -0.16761875  0.01207151 -0.10670097 -0.01473746  0.34662257\n",
            " -0.07116626 -0.03352974 -0.31547257 -0.00199287  0.16415831  0.10013317\n",
            " -0.02644371 -0.0634906  -0.33800465  0.22738241  0.24678244 -0.00898488\n",
            " -0.48089427 -0.65366518 -0.29814552  0.31020027]\n"
          ]
        }
      ],
      "source": [
        "# Code for Q3.2\n",
        "eps = np.random.normal(0, 0.25, 100)\n",
        "\n",
        "print( bcolors.RED + \"The generated Vector eps\", eps  )"
      ]
    },
    {
      "cell_type": "code",
      "execution_count": 7,
      "metadata": {
        "id": "0gckD1UG5LxH",
        "colab": {
          "base_uri": "https://localhost:8080/"
        },
        "outputId": "ff502a48-261d-49a7-b163-26a1a17ab1ee"
      },
      "outputs": [
        {
          "output_type": "stream",
          "name": "stdout",
          "text": [
            "[-2.03028682e+00 -8.82596112e-01 -4.40194791e-01 -1.41682655e+00\n",
            " -1.14602746e+00 -1.13965358e+00 -1.11883429e-01 -1.67538407e+00\n",
            " -2.98795741e-01 -1.22478500e+00 -9.44648955e-01 -1.19207264e+00\n",
            " -8.64615468e-01 -6.07176053e-01 -1.50520746e+00 -1.71060129e+00\n",
            " -1.11515930e+00 -1.35603819e+00 -4.41997062e-01 -9.39172544e-01\n",
            " -3.93311118e-01 -4.70514982e-01 -9.64047855e-01 -1.38993683e+00\n",
            " -1.70580630e+00 -8.48622768e-01 -8.39176649e-01 -3.74454755e-01\n",
            " -1.96733688e+00 -7.45430844e-01 -1.33587360e+00 -1.37690105e+00\n",
            " -1.08580797e+00  4.01975370e-01 -1.50830437e+00 -5.72375533e-01\n",
            " -7.88224459e-01 -1.29024950e+00 -1.18316145e+00 -1.19076124e+00\n",
            " -1.21596018e+00 -1.38306625e-02 -1.21110837e+00 -1.22036327e+00\n",
            " -2.13350133e+00 -1.52936538e+00 -1.01301971e+00 -1.68374460e+00\n",
            " -1.00479585e+00 -2.71750262e-01 -9.47235084e-01 -1.00743840e+00\n",
            " -1.58001741e+00 -7.68451289e-01 -1.11758178e+00 -2.10557679e-01\n",
            " -6.64314776e-01 -1.05432520e+00 -1.19004667e+00 -4.87804688e-01\n",
            " -7.15855405e-02 -2.90920468e-01 -1.02168502e+00 -1.54811439e+00\n",
            " -3.67599071e-01 -4.87253028e-01 -8.15547824e-01 -3.43138931e-01\n",
            " -4.07593813e-01 -1.09142093e+00 -1.71802160e+00 -1.10717906e+00\n",
            " -7.35889698e-01 -1.07330674e+00 -1.74766798e+00 -5.20820161e-01\n",
            " -8.73568407e-01 -1.08539623e+00 -8.84419801e-01 -8.68190021e-01\n",
            " -6.36163946e-01 -1.81438297e+00 -1.47259265e+00 -7.73721500e-01\n",
            " -8.98791537e-01 -1.81684125e+00 -1.40123180e+00 -4.45411091e-01\n",
            " -7.66369830e-01 -1.16552875e+00 -3.45391490e-01 -8.72548188e-01\n",
            " -8.44097901e-01 -1.01672546e+00 -2.06851016e-04 -1.93123814e+00\n",
            " -1.47350031e+00 -1.53798280e+00 -5.48830546e-01 -8.10698519e-01]\n"
          ]
        }
      ],
      "source": [
        "# Code for Q3.3\n",
        "y = -1 + -.5*x + eps \n",
        "\n",
        "print( y)"
      ]
    },
    {
      "cell_type": "code",
      "execution_count": 10,
      "metadata": {
        "id": "Tkp_FYfr5LxH",
        "colab": {
          "base_uri": "https://localhost:8080/",
          "height": 408
        },
        "outputId": "dd59a66b-dec0-4da8-9547-98b8eb39a26a"
      },
      "outputs": [
        {
          "output_type": "display_data",
          "data": {
            "image/png": "[encoded data removed]",
            "text/plain": [
              "<Figure size 720x432 with 1 Axes>"
            ]
          },
          "metadata": {
            "needs_background": "light"
          }
        }
      ],
      "source": [
        "# Code for Q3.4\n",
        "fig, ax = plt.subplots(figsize=(10, 6))\n",
        "_ = ax.plot(y , x, 'or', mfc='b')\n",
        "_ = ax.set_title('Scatter plot between y and x', fontsize=14)\n",
        "_ = ax.set_ylabel('Y', fontsize=12)\n",
        "_ = ax.set_xlabel('X', fontsize=12)\n",
        "\n",
        "# Comment on relationship between the relationship between X and Y\n",
        "# By looking at the relationship it is clear that there is a linear relationship betwen \n",
        "# Y and X.  It looks like the intercept on the Y axis will be around 2.5 and the \n",
        "# slope will be -.1"
      ]
    },
    {
      "cell_type": "code",
      "execution_count": null,
      "metadata": {
        "id": "evoMn7b45LxH"
      },
      "outputs": [],
      "source": [
        "# Code for Q3.5"
      ]
    },
    {
      "cell_type": "code",
      "execution_count": null,
      "metadata": {
        "id": "dmG9xzl75LxH"
      },
      "outputs": [],
      "source": [
        "# Code for Q3.6"
      ]
    },
    {
      "cell_type": "code",
      "execution_count": null,
      "metadata": {
        "id": "LVCDN2da5LxI"
      },
      "outputs": [],
      "source": [
        "# Code for Q3.7"
      ]
    }
  ],
  "metadata": {
    "colab": {
      "collapsed_sections": [],
      "name": "Assignment01-W22.ipynb",
      "provenance": [],
      "include_colab_link": true
    },
    "kernelspec": {
      "display_name": "Python 3",
      "language": "python",
      "name": "python3"
    },
    "language_info": {
      "codemirror_mode": {
        "name": "ipython",
        "version": 3
      },
      "file_extension": ".py",
      "mimetype": "text/x-python",
      "name": "python",
      "nbconvert_exporter": "python",
      "pygments_lexer": "ipython3",
      "version": "3.7.7"
    }
  },
  "nbformat": 4,
  "nbformat_minor": 0
}