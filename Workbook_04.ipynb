{
  "nbformat": 4,
  "nbformat_minor": 0,
  "metadata": {
    "kernelspec": {
      "display_name": "Python 3",
      "language": "python",
      "name": "python3"
    },
    "language_info": {
      "codemirror_mode": {
        "name": "ipython",
        "version": 3
      },
      "file_extension": ".py",
      "mimetype": "text/x-python",
      "name": "python",
      "nbconvert_exporter": "python",
      "pygments_lexer": "ipython3",
      "version": "3.7.1"
    },
    "colab": {
      "name": "Workbook_04.ipynb",
      "provenance": [],
      "collapsed_sections": [],
      "include_colab_link": true
    }
  },
  "cells": [
    {
      "cell_type": "markdown",
      "metadata": {
        "id": "view-in-github",
        "colab_type": "text"
      },
      "source": [
        "<a href=\"https://colab.research.google.com/github/shannonlal/Statistical-YCBS-255/blob/main/Workbook_04.ipynb\" target=\"_parent\"><img src=\"https://colab.research.google.com/assets/colab-badge.svg\" alt=\"Open In Colab\"/></a>"
      ]
    },
    {
      "cell_type": "markdown",
      "metadata": {
        "id": "kiL3N8qp_B-5"
      },
      "source": [
        "\n",
        "# Workbook 4: Model Evaluation and Cross-Validation\n",
        "## Pre-Class Activity\n",
        "\n",
        "### Read\n",
        "\n",
        "1. *An Introduction to Statistical Learning with Applications in R*:\n",
        "   + \"Chapter 5: Resampling Methods\", from \"Cross-Validation\" (page 175) to \"Bootstrap\" (page 187)<font color=\"green\"> $\\longrightarrow$ Here, you will learn about an important resampling method, called cross-validation and its types applied to error estimation, model evaluation, and model selection.   \n",
        "</font>\n",
        "2. PDF presentation <font color=\"green\"> $\\longrightarrow$ This presentation provides a general introduction to model evaluation methods for regression and clustering, training vs test error, and different types of cross-validation.</font>   \n",
        "\n",
        "3. *Python Data Science Handbook*: \n",
        "\n",
        "   3.1. \"Hyper-parameters and Model Validation\" (page 359) to the beginning of \"Learning Curves\"(page 370) <font color=\"green\"> $\\longrightarrow$ This part will provide you with some hands-on techniques to implement CV in Python and use it for different purposes.</font>\n",
        "\n",
        "4. Notebook_04.ipython <font color=\"green\"> $\\longrightarrow$ Provides some hands-on exercises in Python, as well as relevant reading material."
      ]
    },
    {
      "cell_type": "markdown",
      "metadata": {
        "id": "ngsuXzZ-_B--"
      },
      "source": [
        "## Train and Test Sets\n",
        "\n",
        "In statistical learning, we usually split the dataset available into **two** parts:\n",
        "  1. *training set*,\n",
        "  2. *testing set*.\n",
        "\n",
        "Traing set is a subset of the data that is used to learn the prameters of the assumed (usually, pre-specified) underlying model. This procedure is normally being referred to as *fitting the model*. Now, evaluating the performance of our statistical model must be measured on the testing set since using the same data for training the model and evaluating it will result in a **biased** evaluation of the predictive power of the model. Test set (sometimes, called *validation set*) can also help prevent *overfitting*. Simply speaking, overfitting (to train set) is characterized as dramatically better performance of the model applied to the train set in comparison to its performance on the test set.\n",
        "\n",
        "Here, we use *cross-validation* to train and evaluate a **logistic regression** classifier. Of course, a similar procedure can be used for any other classifier."
      ]
    },
    {
      "cell_type": "markdown",
      "metadata": {
        "id": "lQmwioSz0l6V"
      },
      "source": [
        "## Classification\n",
        "\n",
        "Here we focus on three classifiers: logistic **regression, linear discriminant, and quadratic discriminant analysis**. We will apply each classifier in two steps:\n",
        "\n",
        "- When there is only one predictor.\n",
        "- When there are two or more predictors."
      ]
    },
    {
      "cell_type": "markdown",
      "metadata": {
        "id": "rQ0Gnd3A_B_C"
      },
      "source": [
        "### Importing Libraries\n",
        "In `scikit-learn` a **random** split into training and test sets can be performed with the `train_test_split` function. "
      ]
    },
    {
      "cell_type": "code",
      "metadata": {
        "id": "oUcc0rzE_B_M"
      },
      "source": [
        "from IPython.core.interactiveshell import InteractiveShell\n",
        "InteractiveShell.ast_node_interactivity = \"all\"\n",
        "import numpy as np\n",
        "from sklearn.model_selection import train_test_split"
      ],
      "execution_count": null,
      "outputs": []
    },
    {
      "cell_type": "markdown",
      "metadata": {
        "id": "W_WZtQSw_B_V"
      },
      "source": [
        "The digits dataset will be used here. One can download this dataset (**MNIST** dataset) directly from their site, however, this is one of the datasets that `scikit-learn` comes with. The code below will load the digits dataset."
      ]
    },
    {
      "cell_type": "code",
      "metadata": {
        "id": "PthsS0Kn_B_X",
        "outputId": "41e245e7-c68d-4dba-8371-4585fcd02245",
        "colab": {
          "base_uri": "https://localhost:8080/",
          "height": 136
        }
      },
      "source": [
        "from sklearn.datasets import load_digits\n",
        "digits = load_digits()"
      ],
      "execution_count": null,
      "outputs": [
        {
          "output_type": "execute_result",
          "data": {
            "text/plain": [
              "array([[ 0.,  0.,  5., ...,  0.,  0.,  0.],\n",
              "       [ 0.,  0.,  0., ..., 10.,  0.,  0.],\n",
              "       [ 0.,  0.,  0., ..., 16.,  9.,  0.],\n",
              "       ...,\n",
              "       [ 0.,  0.,  1., ...,  6.,  0.,  0.],\n",
              "       [ 0.,  0.,  2., ..., 12.,  0.,  0.],\n",
              "       [ 0.,  0., 10., ..., 12.,  1.,  0.]])"
            ]
          },
          "metadata": {
            "tags": []
          },
          "execution_count": 15
        }
      ]
    },
    {
      "cell_type": "code",
      "metadata": {
        "id": "JZuPSHeN_B_e",
        "outputId": "c6aeb876-78f0-41c9-fdf1-91ebb299c47c",
        "colab": {
          "base_uri": "https://localhost:8080/",
          "height": 136
        }
      },
      "source": [
        "digits['data']     # features   digits.data gives the same result\n",
        "digits['target']   # labels     digits.target gives the same result\n",
        "\n",
        "digits['data'].shape     # features\n",
        "digits['target'].shape   # labels"
      ],
      "execution_count": null,
      "outputs": [
        {
          "output_type": "execute_result",
          "data": {
            "text/plain": [
              "array([[ 0.,  0.,  5., ...,  0.,  0.,  0.],\n",
              "       [ 0.,  0.,  0., ..., 10.,  0.,  0.],\n",
              "       [ 0.,  0.,  0., ..., 16.,  9.,  0.],\n",
              "       ...,\n",
              "       [ 0.,  0.,  1., ...,  6.,  0.,  0.],\n",
              "       [ 0.,  0.,  2., ..., 12.,  0.,  0.],\n",
              "       [ 0.,  0., 10., ..., 12.,  1.,  0.]])"
            ]
          },
          "metadata": {
            "tags": []
          },
          "execution_count": 5
        },
        {
          "output_type": "execute_result",
          "data": {
            "text/plain": [
              "array([0, 1, 2, ..., 8, 9, 8])"
            ]
          },
          "metadata": {
            "tags": []
          },
          "execution_count": 5
        },
        {
          "output_type": "execute_result",
          "data": {
            "text/plain": [
              "(1797, 64)"
            ]
          },
          "metadata": {
            "tags": []
          },
          "execution_count": 5
        },
        {
          "output_type": "execute_result",
          "data": {
            "text/plain": [
              "(1797,)"
            ]
          },
          "metadata": {
            "tags": []
          },
          "execution_count": 5
        }
      ]
    },
    {
      "cell_type": "markdown",
      "metadata": {
        "id": "Y8FSL83n_B_m"
      },
      "source": [
        "## 2-Fold Cross-Validation and Model Evaluation"
      ]
    },
    {
      "cell_type": "markdown",
      "metadata": {
        "id": "6rzBZGtk_B_o"
      },
      "source": [
        "Now, randomly select 75% of the sample for training and the rest will be reserved for testing (or evaluating) the classifier:"
      ]
    },
    {
      "cell_type": "code",
      "metadata": {
        "id": "dnWu4jqQ_B_r"
      },
      "source": [
        "X_train, X_test, y_train, y_test = train_test_split(digits.data, digits.target, test_size=0.25, \n",
        "                                                    random_state=0)"
      ],
      "execution_count": null,
      "outputs": []
    },
    {
      "cell_type": "markdown",
      "metadata": {
        "id": "Re_Pkqxx_B_y"
      },
      "source": [
        "`shuffle`: boolean, optional (default=True)<br>\n",
        "Whether or not to shuffle the data before splitting. If shuffle=False then stratify must be None.\n",
        "\n",
        "`random_state`: int, RandomState instance or None, optional (default=None)<br>\n",
        "If int, random_state is the seed used by the random number generator; If RandomState instance, random_state is the random number generator; If None, the random number generator is the RandomState instance used by np.random."
      ]
    },
    {
      "cell_type": "code",
      "metadata": {
        "id": "1ud2U_Jd_B_0",
        "outputId": "c103bf37-6724-45a2-ad2b-a75492e47fea",
        "colab": {
          "base_uri": "https://localhost:8080/",
          "height": 34
        }
      },
      "source": [
        "X_train.shape, y_train.shape\n",
        "X_test.shape, y_test.shape"
      ],
      "execution_count": null,
      "outputs": [
        {
          "output_type": "execute_result",
          "data": {
            "text/plain": [
              "((1347, 64), (1347,))"
            ]
          },
          "metadata": {
            "tags": []
          },
          "execution_count": 7
        },
        {
          "output_type": "execute_result",
          "data": {
            "text/plain": [
              "((450, 64), (450,))"
            ]
          },
          "metadata": {
            "tags": []
          },
          "execution_count": 7
        }
      ]
    },
    {
      "cell_type": "code",
      "metadata": {
        "id": "dJOyXeP__B_7",
        "outputId": "8c1f896d-3a5e-4da7-82d4-c6760d955881",
        "colab": {
          "base_uri": "https://localhost:8080/",
          "height": 34
        }
      },
      "source": [
        "digits.target[0:10]\n",
        "digits.target[10:20]\n",
        "digits.target[30:40]\n",
        "digits.target[40:50]\n",
        "digits.target[100:110]"
      ],
      "execution_count": null,
      "outputs": [
        {
          "output_type": "execute_result",
          "data": {
            "text/plain": [
              "array([0, 1, 2, 3, 4, 5, 6, 7, 8, 9])"
            ]
          },
          "metadata": {
            "tags": []
          },
          "execution_count": 8
        },
        {
          "output_type": "execute_result",
          "data": {
            "text/plain": [
              "array([0, 1, 2, 3, 4, 5, 6, 7, 8, 9])"
            ]
          },
          "metadata": {
            "tags": []
          },
          "execution_count": 8
        },
        {
          "output_type": "execute_result",
          "data": {
            "text/plain": [
              "array([0, 9, 5, 5, 6, 5, 0, 9, 8, 9])"
            ]
          },
          "metadata": {
            "tags": []
          },
          "execution_count": 8
        },
        {
          "output_type": "execute_result",
          "data": {
            "text/plain": [
              "array([8, 4, 1, 7, 7, 3, 5, 1, 0, 0])"
            ]
          },
          "metadata": {
            "tags": []
          },
          "execution_count": 8
        },
        {
          "output_type": "execute_result",
          "data": {
            "text/plain": [
              "array([4, 0, 5, 3, 6, 9, 6, 1, 7, 5])"
            ]
          },
          "metadata": {
            "tags": []
          },
          "execution_count": 8
        }
      ]
    },
    {
      "cell_type": "markdown",
      "metadata": {
        "id": "OwTpCfuh_CAB"
      },
      "source": [
        "Now, we will plot $10$ rows of the data, namely, rows $0,2,3,4,50,51,52,53,54$. To lthis end, we will use the built-in Python function `zip()`. Here is a small description of the function:\n",
        "\n",
        "The `zip()` function returns a zip object, which is an iterator of tuples where the first item in each passed iterator is paired together, and then the second item in each passed iterator are paired together etc.\n",
        "\n",
        "If the passed iterators have different lengths, the iterator with least items decides the length of the new iterator."
      ]
    },
    {
      "cell_type": "code",
      "metadata": {
        "id": "VLDy4uq-_CAD",
        "outputId": "51e8dc52-2632-4a15-924d-8886996c8834",
        "colab": {
          "base_uri": "https://localhost:8080/",
          "height": 283
        }
      },
      "source": [
        "import matplotlib.pyplot as plt\n",
        "%matplotlib inline\n",
        "_ =  plt.figure(figsize=(20,4))\n",
        "\n",
        "\n",
        "for index, (image, label) in enumerate(zip(digits.data[0:5], digits.target[0:5])):\n",
        "    subplot = plt.subplot(1, 5, index + 1)\n",
        "    image = plt.imshow(np.reshape(image, (8,8)), cmap=plt.cm.gray)\n",
        "    title = plt.title('Training: %i\\n' % label, fontsize = 20)"
      ],
      "execution_count": null,
      "outputs": [
        {
          "output_type": "display_data",
          "data": {
            "image/png": "[encoded data removed]",
            "text/plain": [
              "<Figure size 1440x288 with 5 Axes>"
            ]
          },
          "metadata": {
            "tags": []
          }
        }
      ]
    },
    {
      "cell_type": "code",
      "metadata": {
        "id": "Nhkh5FpQ_CAK",
        "outputId": "3b7febc8-2f2f-4d11-918b-e9241c1f4160"
      },
      "source": [
        "_ =  plt.figure(figsize=(20,4))\n",
        "\n",
        "for index, (image, label) in enumerate(zip(digits.data[50:55], digits.target[50:55])):\n",
        "    subplot = plt.subplot(1, 5, index + 1)\n",
        "    image = plt.imshow(np.reshape(image, (8,8)), cmap=plt.cm.gray)\n",
        "    title = plt.title('Training: %i\\n' % label, fontsize = 20)"
      ],
      "execution_count": null,
      "outputs": [
        {
          "output_type": "display_data",
          "data": {
            "image/png": "[encoded data removed]",
            "text/plain": [
              "<Figure size 1440x288 with 5 Axes>"
            ]
          },
          "metadata": {
            "tags": [],
            "needs_background": "light"
          }
        }
      ]
    },
    {
      "cell_type": "code",
      "metadata": {
        "id": "wcE7dn_b_CAR",
        "outputId": "8c383c6c-c667-4694-9223-b98dfd64cf6e",
        "colab": {
          "base_uri": "https://localhost:8080/",
          "height": 102
        }
      },
      "source": [
        "from sklearn.linear_model import LogisticRegression\n",
        "from sklearn.metrics import confusion_matrix, accuracy_score, classification_report\n",
        "logreg = LogisticRegression(solver = 'liblinear', multi_class = 'auto')\n",
        "logreg.fit(X_train, y_train)"
      ],
      "execution_count": null,
      "outputs": [
        {
          "output_type": "execute_result",
          "data": {
            "text/plain": [
              "LogisticRegression(C=1.0, class_weight=None, dual=False, fit_intercept=True,\n",
              "                   intercept_scaling=1, l1_ratio=None, max_iter=100,\n",
              "                   multi_class='auto', n_jobs=None, penalty='l2',\n",
              "                   random_state=None, solver='liblinear', tol=0.0001, verbose=0,\n",
              "                   warm_start=False)"
            ]
          },
          "metadata": {
            "tags": []
          },
          "execution_count": 18
        }
      ]
    },
    {
      "cell_type": "code",
      "metadata": {
        "id": "paBvi7xZ_CAX",
        "outputId": "97102b64-fa48-4ffe-c6a3-6afac124e0b3",
        "colab": {
          "base_uri": "https://localhost:8080/",
          "height": 561
        }
      },
      "source": [
        "y_predict = logreg.predict(X_test)\n",
        "print('Contingency Table: \\n')\n",
        "confusion_matrix(y_test, y_predict)\n",
        "print('\\n Accuracy: ',accuracy_score(y_test, y_predict))\n",
        "print('\\n Classification Report: \\n ',classification_report(y_test, y_predict)) # how precision and recall ca be defined for more than 2 classes?"
      ],
      "execution_count": null,
      "outputs": [
        {
          "output_type": "stream",
          "text": [
            "Contingency Table: \n",
            "\n"
          ],
          "name": "stdout"
        },
        {
          "output_type": "execute_result",
          "data": {
            "text/plain": [
              "array([[37,  0,  0,  0,  0,  0,  0,  0,  0,  0],\n",
              "       [ 0, 39,  0,  0,  0,  0,  2,  0,  2,  0],\n",
              "       [ 0,  0, 41,  3,  0,  0,  0,  0,  0,  0],\n",
              "       [ 0,  0,  1, 43,  0,  0,  0,  0,  0,  1],\n",
              "       [ 0,  0,  0,  0, 38,  0,  0,  0,  0,  0],\n",
              "       [ 0,  1,  0,  0,  0, 47,  0,  0,  0,  0],\n",
              "       [ 0,  0,  0,  0,  0,  0, 52,  0,  0,  0],\n",
              "       [ 0,  1,  0,  1,  1,  0,  0, 45,  0,  0],\n",
              "       [ 0,  3,  1,  0,  0,  0,  0,  0, 43,  1],\n",
              "       [ 0,  0,  0,  1,  0,  1,  0,  0,  1, 44]])"
            ]
          },
          "metadata": {
            "tags": []
          },
          "execution_count": 19
        },
        {
          "output_type": "stream",
          "text": [
            "\n",
            " Accuracy:  0.9533333333333334\n",
            "\n",
            " Classification Report: \n",
            "                precision    recall  f1-score   support\n",
            "\n",
            "           0       1.00      1.00      1.00        37\n",
            "           1       0.89      0.91      0.90        43\n",
            "           2       0.95      0.93      0.94        44\n",
            "           3       0.90      0.96      0.92        45\n",
            "           4       0.97      1.00      0.99        38\n",
            "           5       0.98      0.98      0.98        48\n",
            "           6       0.96      1.00      0.98        52\n",
            "           7       1.00      0.94      0.97        48\n",
            "           8       0.93      0.90      0.91        48\n",
            "           9       0.96      0.94      0.95        47\n",
            "\n",
            "    accuracy                           0.95       450\n",
            "   macro avg       0.95      0.95      0.95       450\n",
            "weighted avg       0.95      0.95      0.95       450\n",
            "\n"
          ],
          "name": "stdout"
        }
      ]
    },
    {
      "cell_type": "markdown",
      "metadata": {
        "id": "0NYcg_oe_CAd"
      },
      "source": [
        "Before moving onto the next part, we will have a quick look at some evaluation measures for classification."
      ]
    },
    {
      "cell_type": "markdown",
      "metadata": {
        "id": "AEKarx5U_CAf"
      },
      "source": [
        "## The scoring parameter: defining model evaluation rules\n",
        "\n",
        "Model selection and evaluation using tools, such as `model_selection.GridSearchCV` and `model_selection.cross_val_score`, take a scoring parameter that controls what metric they apply to the estimators evaluated.\n",
        "\n",
        "### Common cases: predefined values\n",
        "\n",
        "For the most common use cases, you can designate a scorer object with the scoring parameter; the table below shows all possible values. All scorer objects follow the convention that higher return values are better than lower return values. Thus metrics which measure the distance between the model and the data, like `metrics.mean_squared_error`, are available as `neg_mean_squared_error` which return the negated value of the metric. "
      ]
    },
    {
      "cell_type": "markdown",
      "metadata": {
        "id": "vtcxpJUr_CAh"
      },
      "source": [
        "#### Classification\n",
        "Scoring\t| Function | Comment\n",
        "----|----|----\n",
        "‘accuracy’\t| metrics.accuracy_score |  \t \n",
        "‘balanced_accuracy’\t| metrics.balanced_accuracy_score |\tfor binary targets\n",
        "‘average_precision’\t| metrics.average_precision_score    | \n",
        "‘f1’\t| metrics.f1_score\t| for binary targets\n",
        "‘f1_micro’\t| metrics.f1_score\t| micro-averaged\n",
        "‘f1_macro’\t| metrics.f1_score\t| macro-averaged\n",
        "‘f1_weighted’\t| metrics.f1_score\t| weighted average\n",
        "‘f1_samples’\t| metrics.f1_score\t| by multilabel sample\n",
        "‘neg_log_loss’\t| metrics.log_loss\t| requires predict_proba support\n",
        "‘precision’ etc.\t| metrics.precision_score\t| suffixes apply as with ‘f1’\n",
        "‘recall’ etc.\t| metrics.recall_score\t| suffixes apply as with ‘f1’\n",
        "‘roc_auc’\t| metrics.roc_auc_score\t | \t \n"
      ]
    },
    {
      "cell_type": "markdown",
      "metadata": {
        "id": "28mLNIdy_CAj"
      },
      "source": [
        "## K-Fold Cross-Validation and Classification Accuracy\n",
        "\n",
        "Each stimators have a **score** method providing a default evaluation criterion for the problem they are designed to solve. This is called *Estimator score method*. By *estimator* here we mean the model we use. For example, in the following cell logistic regression is the estimator. "
      ]
    },
    {
      "cell_type": "code",
      "metadata": {
        "id": "WlABUey1_CAl",
        "outputId": "25eac229-eb9e-4118-ccf6-e4a62e3c274c"
      },
      "source": [
        "from sklearn.model_selection import cross_val_score\n",
        "accuracy_cv = cross_val_score(logreg, digits.data, digits.target, cv=7)\n",
        "print('Accuracy in each iteration:\\n')\n",
        "for i in range(len(accuracy_cv)):\n",
        "    print(accuracy_cv[i])"
      ],
      "execution_count": null,
      "outputs": [
        {
          "output_type": "stream",
          "text": [
            "Accuracy in each iteration:\n",
            "\n",
            "0.9192307692307692\n",
            "0.9343629343629344\n",
            "0.8682170542635659\n",
            "0.9610894941634242\n",
            "0.97265625\n",
            "0.9215686274509803\n",
            "0.8888888888888888\n"
          ],
          "name": "stdout"
        }
      ]
    },
    {
      "cell_type": "code",
      "metadata": {
        "id": "2Q8wBlis_CAs",
        "outputId": "9f454259-f196-4b08-fca5-8f6c974b13b7"
      },
      "source": [
        "print(\"Accuracy: %0.2f (+/- %0.2f)\" % (accuracy_cv.mean(), accuracy_cv.std() * 2))"
      ],
      "execution_count": null,
      "outputs": [
        {
          "output_type": "stream",
          "text": [
            "Accuracy: 0.92 (+/- 0.07)\n"
          ],
          "name": "stdout"
        }
      ]
    },
    {
      "cell_type": "markdown",
      "metadata": {
        "id": "g3gUndAH_CA0"
      },
      "source": [
        "One can use, instead of the built-in score of the model, other measures of evaluation. To change the default scoring (evaluation) method we use the key words from the first column of the above table."
      ]
    },
    {
      "cell_type": "code",
      "metadata": {
        "id": "qHQv4ZCC_CA1",
        "outputId": "3710cc0a-d9d7-48da-84d5-7bf50ca44214"
      },
      "source": [
        "# Accuracy\n",
        "from sklearn.metrics import accuracy_score, f1_score, precision_score, recall_score, roc_auc_score\n",
        "accuracy_cv2 = cross_val_score(logreg, digits.data, digits.target, cv=5, scoring='accuracy')\n",
        "accuracy_cv2\n",
        "print('Accuracy in each iteration:\\n')\n",
        "for i in range(len(accuracy_cv2)):\n",
        "    print(accuracy_cv2[i])"
      ],
      "execution_count": null,
      "outputs": [
        {
          "output_type": "execute_result",
          "data": {
            "text/plain": [
              "array([0.92307692, 0.88121547, 0.94986072, 0.95798319, 0.89295775])"
            ]
          },
          "metadata": {
            "tags": []
          },
          "execution_count": 41
        },
        {
          "output_type": "stream",
          "text": [
            "Accuracy in each iteration:\n",
            "\n",
            "0.9230769230769231\n",
            "0.8812154696132597\n",
            "0.9498607242339833\n",
            "0.957983193277311\n",
            "0.8929577464788733\n"
          ],
          "name": "stdout"
        }
      ]
    },
    {
      "cell_type": "code",
      "metadata": {
        "id": "xnS5dxZz_CA_",
        "outputId": "2a9bb4b4-8968-4ab1-f595-7d694ba0ebbf"
      },
      "source": [
        "print(\"Accuracy: %0.2f (+/- %0.2f)\" % (accuracy_cv2.mean(), accuracy_cv2.std() * 2))"
      ],
      "execution_count": null,
      "outputs": [
        {
          "output_type": "stream",
          "text": [
            "Accuracy: 0.92 (+/- 0.06)\n"
          ],
          "name": "stdout"
        }
      ]
    },
    {
      "cell_type": "markdown",
      "metadata": {
        "id": "isU1Kog6_CBG"
      },
      "source": [
        "## K-Fold Cross-Validation and Tuning Parameter\n",
        "\n",
        "Here, we use cross-validation to find the optimal tuning parameter in a binary classification problem using logistic regression. First, we select a subset of our data that contains only $0$ and $1$ labels:"
      ]
    },
    {
      "cell_type": "code",
      "metadata": {
        "id": "YbXlg8kG_CBI"
      },
      "source": [
        "# Concatenate data with labels for easier subsetting\n",
        "digits_with_lab = np.concatenate((digits.data.copy(), digits.target.copy().reshape(1797,1)), axis = 1)\n",
        "# Exptract only labels 0 and 1\n",
        "keep_lab = [0,1]\n",
        "keep_index = [x in keep_lab for x in digits_with_lab[:, 64]]\n",
        "digits_binary = digits_with_lab[keep_index, :]"
      ],
      "execution_count": null,
      "outputs": []
    },
    {
      "cell_type": "code",
      "metadata": {
        "id": "Nf7p0JeK_CBP",
        "outputId": "8be232b5-5eb4-4935-e33a-0b0a8d19b1c2"
      },
      "source": [
        "# For the following thresholds logreg model will be fitted using k-fold CV\n",
        "decision_threshold = [.2,.4,.5,.6,.8]"
      ],
      "execution_count": null,
      "outputs": [
        {
          "output_type": "execute_result",
          "data": {
            "text/plain": [
              "[0.2, 0.4, 0.5, 0.6, 0.8]"
            ]
          },
          "metadata": {
            "tags": []
          },
          "execution_count": 91
        }
      ]
    },
    {
      "cell_type": "code",
      "metadata": {
        "id": "O5885bVg_CBc",
        "outputId": "c48cb35f-0946-4e0a-de70-2dd469c1dcbd"
      },
      "source": [
        "from sklearn.model_selection import KFold\n",
        "\n",
        "k = 7\n",
        "kf = KFold(n_splits = k)\n",
        "# kf.get_n_splits(X)\n",
        "X = digits_with_lab[:,:64]\n",
        "y = digits_with_lab[:,64]\n",
        "\n",
        "# For each decision_threshold the following must be done\n",
        "threshold_mean_accuracy =  np.zeros(len(decision_threshold)) # mean accuracy of each threshold\n",
        "for i in range(len(decision_threshold)):\n",
        "    threshold = decision_threshold[i]\n",
        "    print('Threshold: ', threshold)\n",
        "    accuracy0 = 0\n",
        "    \n",
        "    for train_index, test_index in kf.split(digits_with_lab):\n",
        "#         print(\"TRAIN:\", train_index, \"TEST:\", test_index)\n",
        "        X_train, X_test = X[train_index], X[test_index]\n",
        "        y_train, y_test = y[train_index], y[test_index]\n",
        "        predicts = np.where(logreg.predict_proba(X_test)[:,1] > threshold, 1, 0)\n",
        "        accuracy = accuracy_score(y_test, predicts)\n",
        "        accuracy0 = accuracy0 + accuracy\n",
        "        \n",
        "    threshold_mean_accuracy[i] = accuracy0/k\n",
        "    print('Threshold mean accuracy: ' , threshold_mean_accuracy[i], '\\n')"
      ],
      "execution_count": null,
      "outputs": [
        {
          "output_type": "stream",
          "text": [
            "Threshold:  0.2\n",
            "Threshold mean accuracy:  0.19977678571428573 \n",
            "\n",
            "Threshold:  0.4\n",
            "Threshold mean accuracy:  0.19921875 \n",
            "\n",
            "Threshold:  0.5\n",
            "Threshold mean accuracy:  0.19755115689271818 \n",
            "\n",
            "Threshold:  0.6\n",
            "Threshold mean accuracy:  0.19587922109505282 \n",
            "\n",
            "Threshold:  0.8\n",
            "Threshold mean accuracy:  0.18808626320177876 \n",
            "\n"
          ],
          "name": "stdout"
        }
      ]
    },
    {
      "cell_type": "code",
      "metadata": {
        "id": "vTrGDwvB_CBj",
        "outputId": "ca66755b-b6ac-45e5-e599-2249033aea44"
      },
      "source": [
        "size = plt.figure(figsize=(10,7))\n",
        "plt.style.use('seaborn-whitegrid')\n",
        "plot = plt.plot(decision_threshold, threshold_mean_accuracy);\n",
        "hline = plt.axvline(x= decision_threshold[np.argmax(threshold_mean_accuracy)], c='r')\n",
        "xlab = plt.xlabel('Decision Threshold (Tuning Parameter)',fontsize = 15)\n",
        "ylab = plt.ylabel('Accuracy',fontsize = 15)\n",
        "title = plt.title('Cross-Validation Tuning Parameter',fontsize = 20)"
      ],
      "execution_count": null,
      "outputs": [
        {
          "output_type": "display_data",
          "data": {
            "image/png": "[encoded data removed]",
            "text/plain": [
              "<Figure size 720x504 with 1 Axes>"
            ]
          },
          "metadata": {
            "tags": []
          }
        }
      ]
    }
  ]
}