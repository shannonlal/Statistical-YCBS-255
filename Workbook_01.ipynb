{
  "nbformat": 4,
  "nbformat_minor": 0,
  "metadata": {
    "colab": {
      "name": "Workbook_01.ipynb",
      "provenance": [],
      "collapsed_sections": [],
      "include_colab_link": true
    },
    "kernelspec": {
      "display_name": "Python 3",
      "language": "python",
      "name": "python3"
    },
    "language_info": {
      "codemirror_mode": {
        "name": "ipython",
        "version": 3
      },
      "file_extension": ".py",
      "mimetype": "text/x-python",
      "name": "python",
      "nbconvert_exporter": "python",
      "pygments_lexer": "ipython3",
      "version": "3.7.1"
    }
  },
  "cells": [
    {
      "cell_type": "markdown",
      "metadata": {
        "id": "view-in-github",
        "colab_type": "text"
      },
      "source": [
        "<a href=\"https://colab.research.google.com/github/shannonlal/Statistical-YCBS-255/blob/main/Workbook_01.ipynb\" target=\"_parent\"><img src=\"https://colab.research.google.com/assets/colab-badge.svg\" alt=\"Open In Colab\"/></a>"
      ]
    },
    {
      "cell_type": "markdown",
      "metadata": {
        "id": "r68yK1DyxImj"
      },
      "source": [
        "# Session 1: Probability and Statistics"
      ]
    },
    {
      "cell_type": "markdown",
      "metadata": {
        "id": "t0w_m-7PQOlU"
      },
      "source": [
        "## Foreword\n",
        "Welcome to the *Statistical Machine Learning (YCBS 255)* course. The main objective of this course is to introduce the statistical foundations of learning theory and to equip the students with a general understanding of a broad range of tools often used in machine learning and data analysis. As the title says, the principal focus will be on the statistical/mathematical aspects of learning. In the applied portion of the course, we will learn how to implement some of the discussed methods in Python. The present course is designed based on an interactive and self-motivated learning paradigm. There is a significant amount of details left to the learners as self-directed material. Our previous experience has proven that a successful accomplishment of the course is positively correlated with the students' dedication to the self-directed part of activities.\n",
        "\n",
        "## Get Prepared for the 1st Class\n",
        "Please review this material before the first class. As the course progresses we will provide you with an `ipython` notebook (like the present one) for each session. These documents contain various types of material, such as reading assignments, theoretical background, directions to external resources (like blogs, videos, and etc.), exercises, among others. Reviewing these notebooks together with other provided references may considerably boost your understanding, and consequetly, your succes in the present course. In some cases, following the suggested order of the reading assignments is important for avoiding possible prerequisite conflicts. However, feel free to change the order or skip an item based on your needs. \n",
        "\n",
        "Good luck,\n",
        "Instructional Team\n",
        "\n",
        "## Reading and Pre-Class Tasks\n",
        "Please note that the first two items are provided in PDF format on *MyCourses*.\n",
        "  1. *Course Outline*; \n",
        "  2. *List of Suggested Prerequisite Topics*; \n",
        "  3. Review fundamental concepts of **probability and statistics** according to the topics suggested in *List of Suggested Prerequisite Topics*. You may use any textbook or online material you prefer. Some useful resources are as follows:\n",
        "    + *Introductory Statistics* by Prem S. Mann (Some older editions are freely available online [PDF](https://www.academia.edu/31576708/Prem_S_Mann_Introductory_Statistics).)\n",
        "    + *Elementary Statistics* by Allan G. Bluman (A free version of the 8th edition is available online.)\n",
        "\n",
        "  4. Parts of the reference books, i.e., *An introduction to statistical learning* and *Python Data Science Handbook*, mentioned on *MyCourses*.\n"
      ]
    },
    {
      "cell_type": "markdown",
      "metadata": {
        "id": "ArMGIv7bBOyH"
      },
      "source": [
        "## Python Exercises: A Pregame Warmup "
      ]
    },
    {
      "cell_type": "markdown",
      "metadata": {
        "id": "zDGpFU5RBOyN"
      },
      "source": [
        "By doing these exercices before the next class make sure that you feel confident with the following simple Python concepts. These questions review some basic notions, such as loop, conditional statement, dictionary, list comprehension, function, lambda function, recursion and sets. You may regard this part as a recap, and obviously, connot replace the prerequisite knowlede of Python needed throughout this course. Finally, enjoy the next short, and useful video on Python programming by Raymond Hettinger: </br>\n",
        "[Transforming Code into Beautiful, Idiomatic Python](https://www.youtube.com/watch?v=OSGv2VnC0go) \n",
        " "
      ]
    },
    {
      "cell_type": "markdown",
      "metadata": {
        "id": "m_npLId4BOyQ"
      },
      "source": [
        "## Exercises "
      ]
    },
    {
      "cell_type": "markdown",
      "metadata": {
        "id": "KJRdr0btBOyS"
      },
      "source": [
        "1. Print the numbers from 1 to 100 with a loop."
      ]
    },
    {
      "cell_type": "code",
      "source": [
        "for i in range(1, 101):\n",
        "    print(i)"
      ],
      "metadata": {
        "id": "ZuDW2v6yO8V4"
      },
      "execution_count": null,
      "outputs": []
    },
    {
      "cell_type": "code",
      "metadata": {
        "id": "hjW9-Ny0K0Y4"
      },
      "source": [
        ""
      ],
      "execution_count": null,
      "outputs": []
    },
    {
      "cell_type": "markdown",
      "source": [
        ""
      ],
      "metadata": {
        "id": "uWas9yneO_R2"
      }
    },
    {
      "cell_type": "markdown",
      "source": [
        ""
      ],
      "metadata": {
        "id": "n9tdHjgTO-4X"
      }
    },
    {
      "cell_type": "markdown",
      "metadata": {
        "id": "G6rvrojABOyb"
      },
      "source": [
        "2. Print the even numbers from 1 to 100 with a loop and a conditional statement."
      ]
    },
    {
      "cell_type": "code",
      "metadata": {
        "id": "VOvQkeWmK037"
      },
      "source": [
        "for i in range(1, 101):\n",
        "    if (i % 2 == 0):\n",
        "      print(i)"
      ],
      "execution_count": null,
      "outputs": []
    },
    {
      "cell_type": "markdown",
      "metadata": {
        "id": "2Wfi3hJOBOyj"
      },
      "source": [
        "3. Create a dictionnary with the following (key, value) pairs: ('Anthony': 1), ('Bella': 2), ('Camilla': 3) "
      ]
    },
    {
      "cell_type": "code",
      "metadata": {
        "id": "fpSw2SmCK1Xm"
      },
      "source": [
        "personDict = {'Anthony': 1, 'Bella': 2, 'Camilla': 3}"
      ],
      "execution_count": null,
      "outputs": []
    },
    {
      "cell_type": "markdown",
      "metadata": {
        "id": "ukYC0W3wBOyq"
      },
      "source": [
        "4. With list comprehension, create an array with the integers from 1 to 100."
      ]
    },
    {
      "cell_type": "code",
      "metadata": {
        "id": "tvVAQzlyK13o"
      },
      "source": [
        "numbers = []\n",
        "for i in range(0, 100):\n",
        "  numbers.append(i+1)\n",
        "print( numbers)\n"
      ],
      "execution_count": null,
      "outputs": []
    },
    {
      "cell_type": "markdown",
      "metadata": {
        "id": "yhMn_-l1BOyw"
      },
      "source": [
        "5. With list comprehension, create an array with even integers from 1 to 100."
      ]
    },
    {
      "cell_type": "code",
      "metadata": {
        "id": "8p4JRADPK2Us",
        "colab": {
          "base_uri": "https://localhost:8080/"
        },
        "outputId": "a06c1c9a-2103-4914-9bc2-34eb21b7316d"
      },
      "source": [
        "numbers = []\n",
        "for i in range(1, 101):\n",
        "  if (i % 2 == 0):\n",
        "    numbers.append(i)\n",
        "print( numbers)"
      ],
      "execution_count": null,
      "outputs": [
        {
          "output_type": "stream",
          "name": "stdout",
          "text": [
            "[2, 4, 6, 8, 10, 12, 14, 16, 18, 20, 22, 24, 26, 28, 30, 32, 34, 36, 38, 40, 42, 44, 46, 48, 50, 52, 54, 56, 58, 60, 62, 64, 66, 68, 70, 72, 74, 76, 78, 80, 82, 84, 86, 88, 90, 92, 94, 96, 98, 100]\n"
          ]
        }
      ]
    },
    {
      "cell_type": "markdown",
      "metadata": {
        "id": "O5d3_7MFBOy6"
      },
      "source": [
        "6. Create a function that returns the square of a number passed as input."
      ]
    },
    {
      "cell_type": "code",
      "metadata": {
        "id": "WDm_1-L8K2uF",
        "colab": {
          "base_uri": "https://localhost:8080/"
        },
        "outputId": "50c4dd49-9415-42df-d623-baac57333425"
      },
      "source": [
        "def squareFn( num ):\n",
        "  return num**2\n",
        "\n",
        "print(squareFn(4))"
      ],
      "execution_count": null,
      "outputs": [
        {
          "output_type": "stream",
          "name": "stdout",
          "text": [
            "16\n"
          ]
        }
      ]
    },
    {
      "cell_type": "markdown",
      "metadata": {
        "id": "I_oBpccEBOzB"
      },
      "source": [
        "7. Do the previous question by using lambda function instead of a regular one."
      ]
    },
    {
      "cell_type": "code",
      "metadata": {
        "id": "GhOOEDzVK3OQ",
        "colab": {
          "base_uri": "https://localhost:8080/"
        },
        "outputId": "295fe54f-591a-45e4-828d-00f94a01ddc1"
      },
      "source": [
        "sqare = lambda num: num ** 2\n",
        "\n",
        "print (sqare( 4 ))"
      ],
      "execution_count": null,
      "outputs": [
        {
          "output_type": "stream",
          "name": "stdout",
          "text": [
            "16\n"
          ]
        }
      ]
    },
    {
      "cell_type": "markdown",
      "metadata": {
        "id": "yGVqvhVyBOzG"
      },
      "source": [
        "8. Write the factorial function by using recursion."
      ]
    },
    {
      "cell_type": "code",
      "metadata": {
        "id": "FRD8kGxsK3uB",
        "colab": {
          "base_uri": "https://localhost:8080/"
        },
        "outputId": "4419c71b-1b18-43de-cf5a-3f90d22396ec"
      },
      "source": [
        "def factorial(n):  \n",
        "   if n == 1:  \n",
        "       return n  \n",
        "   else:  \n",
        "       return n*factorial(n-1) \n",
        "\n",
        "print( factorial( 5 ))"
      ],
      "execution_count": null,
      "outputs": [
        {
          "output_type": "stream",
          "name": "stdout",
          "text": [
            "120\n"
          ]
        }
      ]
    },
    {
      "cell_type": "markdown",
      "metadata": {
        "id": "wJajriOiBOzN"
      },
      "source": [
        "9. Write a function that returns the unique elements of an array."
      ]
    },
    {
      "cell_type": "code",
      "metadata": {
        "id": "2iXwcj9AK4I2",
        "colab": {
          "base_uri": "https://localhost:8080/"
        },
        "outputId": "9f5a9f68-6181-4c34-c108-b76f6537bada"
      },
      "source": [
        "import numpy as np\n",
        "\n",
        "def unique(listInput):\n",
        "    x = np.array(listInput)\n",
        "    print(np.unique(x))\n",
        "\n",
        "print(unique([1,3,3,6,2,1,55,3,99,22,1]))"
      ],
      "execution_count": null,
      "outputs": [
        {
          "output_type": "stream",
          "name": "stdout",
          "text": [
            "[ 1  2  3  6 22 55 99]\n",
            "None\n"
          ]
        }
      ]
    },
    {
      "cell_type": "markdown",
      "metadata": {
        "id": "x_SZtuEvbNSw"
      },
      "source": [
        "Another way of doing this"
      ]
    },
    {
      "cell_type": "markdown",
      "metadata": {
        "id": "UwJyAQyyFY-w"
      },
      "source": [
        "## Important Distributions \n",
        "The following distributions are frequently encountered in practice and are considered as prerequisite knowledge for our course. You must become familiar with their properties and possible applications including their probability mass or density functions, distribution functions, mathematical expectation, variance, as well as how to compute them manually or in Python. \n",
        "\n",
        "* **Discrete Distributions**\n",
        "  1. Degenerate\n",
        "  2. Uniform \n",
        "  3. Bernoulli\n",
        "  4. Binomial \n",
        "  5. Multinomial\n",
        "  6. Geometric\n",
        "  7. Negative Binomial\n",
        "  8. Hypergeometric\n",
        "  9. Poisson \n",
        "\n",
        "* **Absolutely Continuous**\n",
        "  1. Uniform\n",
        "  2. Gaussian\n",
        "  3. Chi-Squared \n",
        "  4. Exponential\n",
        "  5. Gamma\n",
        "  6. Beta   "
      ]
    },
    {
      "cell_type": "markdown",
      "metadata": {
        "id": "jmbdBxOsBOzT"
      },
      "source": [
        "## Code for Class"
      ]
    },
    {
      "cell_type": "code",
      "metadata": {
        "id": "Nt5mTdvdBOzU"
      },
      "source": [
        "# Import relevant packages.\n",
        "import numpy as np\n",
        "import matplotlib.pyplot as plt\n",
        "import pandas as pd\n",
        "import os"
      ],
      "execution_count": 1,
      "outputs": []
    },
    {
      "cell_type": "markdown",
      "metadata": {
        "id": "DL9HrjJ0BOza"
      },
      "source": [
        "### a) Probability and Statistics\n",
        "\n",
        "`NumPy` package provides a wide variety of built-in functions that may be used immediately with no need of coding them from scratch. However, it could be a useful exercise to rewrite some of these already existing functions from scratch since it helps understand both theory and the Python syntax better. The following simple exercises have been included in this document for this reason."
      ]
    },
    {
      "cell_type": "code",
      "metadata": {
        "id": "v402PvSctwQ0"
      },
      "source": [
        "# The following two lines allow printing multiple outcomes in one cell\n",
        "from IPython.core.interactiveshell import InteractiveShell\n",
        "InteractiveShell.ast_node_interactivity = \"all\""
      ],
      "execution_count": 2,
      "outputs": []
    },
    {
      "cell_type": "markdown",
      "metadata": {
        "id": "4hN2Nq-yvvdT"
      },
      "source": [
        "1. Define a function that compute the range of an array."
      ]
    },
    {
      "cell_type": "code",
      "metadata": {
        "id": "en_lEEYeBOzb"
      },
      "source": [
        "def data_range(x):\n",
        "    \"Returns the range of the array\"\n",
        "    return max(x) - min(x)"
      ],
      "execution_count": 3,
      "outputs": []
    },
    {
      "cell_type": "markdown",
      "metadata": {
        "id": "8JNqIKPDvvdY"
      },
      "source": [
        "2. Define a function that returns the mathematical expectation based on the support of variable $x$ (given as an array) and its probabilities (given as an array)."
      ]
    },
    {
      "cell_type": "code",
      "metadata": {
        "id": "WLFQQ_lPBOzf",
        "colab": {
          "base_uri": "https://localhost:8080/"
        },
        "outputId": "c3815782-65c7-4868-e8b4-08da0be657ba"
      },
      "source": [
        "def expectation(x, px):\n",
        "    \"Computes the expectation of a random variable with its probabilities\"\n",
        "    return sum([x*px for x,px in zip(x,px)])\n",
        "\n",
        "# Example\n",
        "X=[0,1]\n",
        "PX = [.5,.4]     # What is wrong here?.  Should equal 1?  this equals .9\n",
        "rst = expectation(X,PX)\n",
        "print( rst )\n"
      ],
      "execution_count": 4,
      "outputs": [
        {
          "output_type": "stream",
          "name": "stdout",
          "text": [
            "0.4\n"
          ]
        }
      ]
    },
    {
      "cell_type": "markdown",
      "metadata": {
        "id": "DDaQpClLyoiv"
      },
      "source": [
        "<font color=\"red\"> Exercise A.2.1</font> \n",
        "\n",
        "Use the function `expectation` inside another function that calculates $\\mathbb E(X)$, where $X\\sim$ Bernoulli $(p)$. The only input of the function is $p$.  "
      ]
    },
    {
      "cell_type": "code",
      "metadata": {
        "id": "xEDxuK8KKiT5",
        "colab": {
          "base_uri": "https://localhost:8080/"
        },
        "outputId": "1008fb02-cc4b-42bf-b2e5-c3403dec498f"
      },
      "source": [
        "def bernoulli( p ):\n",
        "  X=[0,1]   # Bernoulli is used for Yes or No.--> i.e. 1 or 0\n",
        "  PX=[1-p, p]\n",
        "\n",
        "  return expectation(X, PX)\n",
        "\n",
        "print( bernoulli(0.6))"
      ],
      "execution_count": 5,
      "outputs": [
        {
          "output_type": "stream",
          "name": "stdout",
          "text": [
            "0.6\n"
          ]
        }
      ]
    },
    {
      "cell_type": "markdown",
      "metadata": {
        "id": "trN2gvTUVwdj"
      },
      "source": [
        "<font color=\"red\"> Exercise A.2.2</font> \n",
        "\n",
        "Use the function `bernoulli_expectation` inside another function that calculates $\\mathbb E(X)$, where $X\\sim$ Binomial $(n, p)$. The only input of the function is $n, p$."
      ]
    },
    {
      "cell_type": "code",
      "metadata": {
        "id": "bw98zYToKi_1",
        "colab": {
          "base_uri": "https://localhost:8080/"
        },
        "outputId": "38490d4e-d8ab-4dbc-fcf7-19db443ee389"
      },
      "source": [
        "def binomial_expectation( n, p):\n",
        "  return (n*bernoulli(p))\n",
        "\n",
        "print( binomial_expectation(100, .21))"
      ],
      "execution_count": 7,
      "outputs": [
        {
          "output_type": "stream",
          "name": "stdout",
          "text": [
            "21.0\n"
          ]
        }
      ]
    },
    {
      "cell_type": "markdown",
      "metadata": {
        "id": "WjlELCEKZaJj"
      },
      "source": [
        "Can you explain your result for bernoulli expectation?"
      ]
    },
    {
      "cell_type": "markdown",
      "metadata": {
        "id": "dyXILKW5vvde"
      },
      "source": [
        "3. Define a function that returns a new array of length $n$ such that its elements corresponds to the elements of an array translated by its mean (i.e. $x_{i}^{\\star}\\leftarrow x_{i}-\\bar{x}\\quad\\forall i\\in\\{1,2,\\dots,n\\}$)"
      ]
    },
    {
      "cell_type": "code",
      "metadata": {
        "id": "z9pWCDP_BOzk"
      },
      "source": [
        "def de_mean(x):\n",
        "    \"Translate each element by subtracting its mean\"\n",
        "    x_bar = sum(x)/len(x)\n",
        "    return [x_i - x_bar for x_i in x]\n"
      ],
      "execution_count": 9,
      "outputs": []
    },
    {
      "cell_type": "markdown",
      "metadata": {
        "id": "q77PnWyV2Yr2"
      },
      "source": [
        "<font color=\"red\"> Exercise A.3.1</font> \n",
        "\n",
        "Using an example check the function."
      ]
    },
    {
      "cell_type": "code",
      "metadata": {
        "id": "jnPsM8f8Kkzw",
        "colab": {
          "base_uri": "https://localhost:8080/"
        },
        "outputId": "8dd8fcea-e14f-4401-df1a-10b39f5c2faf"
      },
      "source": [
        "print( de_mean( [1,2,3]))"
      ],
      "execution_count": 10,
      "outputs": [
        {
          "output_type": "stream",
          "name": "stdout",
          "text": [
            "[-1.0, 0.0, 1.0]\n"
          ]
        }
      ]
    },
    {
      "cell_type": "markdown",
      "metadata": {
        "id": "61j6UjcTvvdj"
      },
      "source": [
        "4. Define a function that returns the mode of an array."
      ]
    },
    {
      "cell_type": "code",
      "metadata": {
        "id": "wGrDlJNHKn4o"
      },
      "source": [
        "from collections import Counter\n",
        "\n",
        "def mode(x):\n",
        "    \"Returns a list (because there might be more than one mode)\"\n",
        "    counts = Counter(x)\n",
        "    max_count = max(counts.values())\n",
        "    return [x_i for x_i, count in counts.items() if count == max_count]"
      ],
      "execution_count": 11,
      "outputs": []
    },
    {
      "cell_type": "markdown",
      "metadata": {
        "id": "0mAaGaLYbG3c"
      },
      "source": [
        "<font color=\"red\"> Exercise A.4.1</font> \n",
        "\n",
        "Using an example check the function."
      ]
    },
    {
      "cell_type": "code",
      "metadata": {
        "id": "6akWFrc_LBuq",
        "colab": {
          "base_uri": "https://localhost:8080/"
        },
        "outputId": "a9aa7fa8-189d-4097-b61b-0b0eea80041b"
      },
      "source": [
        "print( [1,1,3,4,5,6,5,1])"
      ],
      "execution_count": 12,
      "outputs": [
        {
          "output_type": "stream",
          "name": "stdout",
          "text": [
            "[1, 1, 3, 4, 5, 6, 5, 1]\n"
          ]
        }
      ]
    },
    {
      "cell_type": "markdown",
      "metadata": {
        "id": "IYlXBMllvvds"
      },
      "source": [
        "5. Define a function that calculates the sum of squares $\\sum_{i=1}^{n}(x_{i}-\\bar{x})^{2}$ where $\\mathbf{x}\\in\\mathbb{R}^{n}$."
      ]
    },
    {
      "cell_type": "code",
      "metadata": {
        "id": "4tOLf-wpBOzt"
      },
      "source": [
        "def sum_of_squares(x):\n",
        "    \"Square elements and sum them\"\n",
        "    translated_elements = de_mean(x)\n",
        "    squared_elements = [translated_element**2 for translated_element in translated_elements]\n",
        "    return sum(squared_elements)"
      ],
      "execution_count": 13,
      "outputs": []
    },
    {
      "cell_type": "markdown",
      "metadata": {
        "id": "JkUYZNxcb6do"
      },
      "source": [
        "<font color=\"red\"> Exercise A.5.1</font> \n",
        "\n",
        "Using an example check the function."
      ]
    },
    {
      "cell_type": "code",
      "metadata": {
        "id": "snlEeTI6LCwx",
        "colab": {
          "base_uri": "https://localhost:8080/"
        },
        "outputId": "d56ca3aa-b589-4076-940f-20091ebf6ad5"
      },
      "source": [
        "print( sum_of_squares([1,1,4,4,5,8,7,1,2,1,1]))"
      ],
      "execution_count": 15,
      "outputs": [
        {
          "output_type": "stream",
          "name": "stdout",
          "text": [
            "67.63636363636364\n"
          ]
        }
      ]
    },
    {
      "cell_type": "markdown",
      "metadata": {
        "id": "N78dSEoa2-AJ"
      },
      "source": [
        "<font color=\"red\"> Exercise A.5.2</font> \n",
        "\n",
        "Extract the source code of the function."
      ]
    },
    {
      "cell_type": "code",
      "metadata": {
        "id": "DZonLI4lKral"
      },
      "source": [
        ""
      ],
      "execution_count": null,
      "outputs": []
    },
    {
      "cell_type": "markdown",
      "metadata": {
        "id": "ov45pvc6vvdy"
      },
      "source": [
        "6. Define a function that estimates the population variance."
      ]
    },
    {
      "cell_type": "code",
      "metadata": {
        "id": "WZnF1pwVvvdz"
      },
      "source": [
        "def variance_(x):\n",
        "    \"This function assumes x has at least two elements\"\n",
        "    n = len(x)\n",
        "    return sum_of_squares(x) / n"
      ],
      "execution_count": 16,
      "outputs": []
    },
    {
      "cell_type": "markdown",
      "metadata": {
        "id": "eBd197cvvvd2"
      },
      "source": [
        "6. Estimating the variance of a sample with the population variance formula leads to a biased estimator. Apply Bessel's correction to obtain an unbiased estimator. "
      ]
    },
    {
      "cell_type": "code",
      "metadata": {
        "id": "BTZNnmMsBOzy"
      },
      "source": [
        "def unbiased_variance(x):\n",
        "    \"This function assumes x has at least two elements\"\n",
        "    n = len(x)\n",
        "    return sum_of_squares(x) / (n - 1)"
      ],
      "execution_count": 17,
      "outputs": []
    },
    {
      "cell_type": "markdown",
      "metadata": {
        "id": "rKL3PXkq3qeB"
      },
      "source": [
        "<font color=\"red\"> Exercise A.6.1 </font> \n",
        "\n",
        "Why should we use $n-1$ instead of $n$ in the denominator? Try to explore the difference between the two by numerical examples."
      ]
    },
    {
      "cell_type": "markdown",
      "metadata": {
        "id": "oE2s05Uvvvd7"
      },
      "source": [
        "7. Consider a set of paired realisations of two random variables $\\{(x_{i},y_{i}):i=1,2,\\dots,n\\}$. Compute the sample covariance."
      ]
    },
    {
      "cell_type": "code",
      "metadata": {
        "id": "_YzOdJ1-KtB1",
        "colab": {
          "base_uri": "https://localhost:8080/"
        },
        "outputId": "412b5b9a-557b-46bf-9280-7861ba46c15c"
      },
      "source": [
        "def dot(x,y):\n",
        "    return sum([x_i*y_i for x_i,y_i in zip(x,y)])\n",
        "\n",
        "def covariance(x, y):\n",
        "    n = len(x)\n",
        "    return dot(de_mean(x), de_mean(y)) / (n - 1)\n",
        "\n",
        "covariance((1,2,3), (1,2,3))"
      ],
      "execution_count": 18,
      "outputs": [
        {
          "output_type": "execute_result",
          "data": {
            "text/plain": [
              "1.0"
            ]
          },
          "metadata": {},
          "execution_count": 18
        }
      ]
    },
    {
      "cell_type": "markdown",
      "metadata": {
        "id": "H7N14ZCRvveA"
      },
      "source": [
        "8. Code a coin toss function."
      ]
    },
    {
      "cell_type": "code",
      "metadata": {
        "id": "iC1OWpM2BOz2",
        "colab": {
          "base_uri": "https://localhost:8080/",
          "height": 35
        },
        "outputId": "6bb74928-4205-4470-a0d2-ebe2f182c296"
      },
      "source": [
        "import random\n",
        "\n",
        "def coin_toss():\n",
        "    return random.choice([\"head\", \"tail\"])\n",
        "\n",
        "coin_toss()"
      ],
      "execution_count": 21,
      "outputs": [
        {
          "output_type": "execute_result",
          "data": {
            "application/vnd.google.colaboratory.intrinsic+json": {
              "type": "string"
            },
            "text/plain": [
              "'head'"
            ]
          },
          "metadata": {},
          "execution_count": 21
        }
      ]
    },
    {
      "cell_type": "markdown",
      "metadata": {
        "id": "ZrHIawpYBqYf"
      },
      "source": [
        "<font color=\"red\"> Exercise A.8.1</font>\n",
        "\n",
        "Modify the above function to take the probability of success as its single input."
      ]
    },
    {
      "cell_type": "code",
      "metadata": {
        "id": "Mu9ajS2EKuB-"
      },
      "source": [
        "from numpy import random\n",
        "\n",
        "def coin_toss_p( prob ):\n",
        "  return random.choice([\"head\",\"tail\"], p=[prob, 1-prob])"
      ],
      "execution_count": 22,
      "outputs": []
    },
    {
      "cell_type": "markdown",
      "metadata": {
        "id": "okTZ4M5DrkQR"
      },
      "source": [
        "<font color=\"red\"> Exercise A.8.2</font>\n",
        "\n",
        "Create a example to call 'coin_toss' for a biased coin with probability for head = 0.9"
      ]
    },
    {
      "cell_type": "code",
      "metadata": {
        "id": "_CN-LCOQprp_",
        "colab": {
          "base_uri": "https://localhost:8080/",
          "height": 35
        },
        "outputId": "b46cddfa-d823-4e85-c1d1-66357d28e5de"
      },
      "source": [
        "coin_toss_p( 0.9 )"
      ],
      "execution_count": 24,
      "outputs": [
        {
          "output_type": "execute_result",
          "data": {
            "application/vnd.google.colaboratory.intrinsic+json": {
              "type": "string"
            },
            "text/plain": [
              "'head'"
            ]
          },
          "metadata": {},
          "execution_count": 24
        }
      ]
    },
    {
      "cell_type": "markdown",
      "metadata": {
        "id": "B2rG7UYvvveM"
      },
      "source": [
        "9. Create the density function of the uniform distribution $\\mathrm U(0,1)$."
      ]
    },
    {
      "cell_type": "code",
      "metadata": {
        "id": "kYaDIHn_BO0C"
      },
      "source": [
        "def uniform_pdf(x):\n",
        "    return 1 if x >= 0 and x < 1 else 0"
      ],
      "execution_count": 25,
      "outputs": []
    },
    {
      "cell_type": "markdown",
      "metadata": {
        "id": "HmYHqEQYvveQ"
      },
      "source": [
        "10. Create the cumulative distribution function of the uniform distribution $\\mathrm U(0,1)$."
      ]
    },
    {
      "cell_type": "code",
      "metadata": {
        "id": "uMdhZkrJBO0I"
      },
      "source": [
        "# Code the cumulative distribution function of a uniform distribution [0,1]\n",
        "def uniform_cdf(x):\n",
        "    \"Returns the probability that a uniform random variable is <= x\"\n",
        "    if x < 0: \n",
        "        return 0 \n",
        "    elif x < 1: \n",
        "        return x \n",
        "    else:\n",
        "        return 1 "
      ],
      "execution_count": 26,
      "outputs": []
    },
    {
      "cell_type": "code",
      "metadata": {
        "id": "48_JTU6XBO0O",
        "colab": {
          "base_uri": "https://localhost:8080/",
          "height": 265
        },
        "outputId": "3fa54304-a148-4927-b079-0f7754ceba58"
      },
      "source": [
        "# Plot the cdf described in the previous block\n",
        "xs = [x/10 for x in range(-10,21,1)]\n",
        "ys = [uniform_cdf(x) for x in xs]\n",
        "plot = plt.plot(xs, ys)\n",
        "#plt.show()"
      ],
      "execution_count": 27,
      "outputs": [
        {
          "output_type": "display_data",
          "data": {
            "image/png": "[encoded data removed]",
            "text/plain": [
              "<Figure size 432x288 with 1 Axes>"
            ]
          },
          "metadata": {
            "needs_background": "light"
          }
        }
      ]
    },
    {
      "cell_type": "markdown",
      "metadata": {
        "id": "72ioud4xBO0g"
      },
      "source": [
        "### b) Synthetic Data Generation\n",
        "\n",
        "The following exercise makes you able to combine functionalities of different packages (numpy, matplotlib and pandas) in a few steps. In particular, you will \n",
        "\n",
        "  1. generate random data according to the normal (Gaussian) distribution,\n",
        "  2. plot them, and \n",
        "  3. finally export them into the csv format."
      ]
    },
    {
      "cell_type": "markdown",
      "metadata": {
        "id": "hd89-NzbvveZ"
      },
      "source": [
        "1. With `seed=1`, generate $1000$ observations according to $\\mathcal{N}(\\mu = 5,\\sigma^2 = 1)$."
      ]
    },
    {
      "cell_type": "code",
      "metadata": {
        "id": "7p8jfbipBO0h"
      },
      "source": [
        "np.random.seed(1)\n",
        "mu, sigma = 5, 1 # mean and standard deviation\n",
        "s = np.random.normal(mu, sigma, 1000)"
      ],
      "execution_count": 28,
      "outputs": []
    },
    {
      "cell_type": "markdown",
      "metadata": {
        "id": "mj4RwQA8Fp1Z"
      },
      "source": [
        "<font color=\"red\"> Exercise B.1.1<font>\n",
        "\n",
        "Compare the average accuracy of `variance_` and `unbiased_variance` applying them to different samples. "
      ]
    },
    {
      "cell_type": "code",
      "metadata": {
        "id": "0Ov64QTdLGbl"
      },
      "source": [
        ""
      ],
      "execution_count": 29,
      "outputs": []
    },
    {
      "cell_type": "markdown",
      "metadata": {
        "id": "rk6W_p5Vvved"
      },
      "source": [
        "2. Plot the histogram of the previous observations with matplotlib's function hist."
      ]
    },
    {
      "cell_type": "code",
      "metadata": {
        "id": "rqTP-T0DBO0l",
        "colab": {
          "base_uri": "https://localhost:8080/",
          "height": 265
        },
        "outputId": "1b9b59d6-ffc9-46d8-c322-b8d38fbb3e6a"
      },
      "source": [
        "import matplotlib.pyplot as plt\n",
        "count, bins, ignored = plt.hist(s, 30, density=True)"
      ],
      "execution_count": 30,
      "outputs": [
        {
          "output_type": "display_data",
          "data": {
            "image/png": "[encoded data removed]",
            "text/plain": [
              "<Figure size 432x288 with 1 Axes>"
            ]
          },
          "metadata": {
            "needs_background": "light"
          }
        }
      ]
    },
    {
      "cell_type": "markdown",
      "metadata": {
        "id": "9Oo8Pi33vvej"
      },
      "source": [
        "3. Plot the normal curve over the histogram"
      ]
    },
    {
      "cell_type": "code",
      "metadata": {
        "id": "GSNfSlJ7BO0p",
        "colab": {
          "base_uri": "https://localhost:8080/",
          "height": 282
        },
        "outputId": "9ba29cdf-5626-426d-c39d-4b322ca147e2"
      },
      "source": [
        "import matplotlib.pyplot as plt\n",
        "count, bins, ignored = plt.hist(s, 30, density=True)\n",
        "plt.plot(bins, 1/(sigma * np.sqrt(2 * np.pi)) * np.exp( - (bins - mu)**2 / (2 * sigma**2) ),linewidth=2, color='r')\n",
        "plt.show()"
      ],
      "execution_count": 31,
      "outputs": [
        {
          "output_type": "execute_result",
          "data": {
            "text/plain": [
              "[<matplotlib.lines.Line2D at 0x7fcdf87de8d0>]"
            ]
          },
          "metadata": {},
          "execution_count": 31
        },
        {
          "output_type": "display_data",
          "data": {
            "image/png": "[encoded data removed]",
            "text/plain": [
              "<Figure size 432x288 with 1 Axes>"
            ]
          },
          "metadata": {
            "needs_background": "light"
          }
        }
      ]
    },
    {
      "cell_type": "markdown",
      "metadata": {
        "id": "p17gyPKuvven"
      },
      "source": [
        "4. Create an array `s_squared` by raising elements of `s` to the power of $2$. Also, generate a vector of noise $\\varepsilon_{i}\\sim\\mathcal{N}(\\mu = 0,\\sigma^2 = 0.04)$, for $i=1,\\dots,1000$."
      ]
    },
    {
      "cell_type": "code",
      "metadata": {
        "id": "ruFoUnMCBO0v"
      },
      "source": [
        "s_squared = np.array([normal_variable**2 for normal_variable in s])\n",
        "noises = np.random.normal(0, 0.2, 1000)"
      ],
      "execution_count": 32,
      "outputs": []
    },
    {
      "cell_type": "markdown",
      "metadata": {
        "id": "8P7cQIVTvveq"
      },
      "source": [
        "5. Create a vector `response_variable` composed of elements $y_{i}=2s_{i}+3s_{i}^{2}+\\epsilon_{i}, \\; i=1,2,\\dots,n$."
      ]
    },
    {
      "cell_type": "code",
      "metadata": {
        "id": "cpY4dMcbBO0z"
      },
      "source": [
        "response_variable = 2*s + 3*s_squared + noises"
      ],
      "execution_count": 33,
      "outputs": []
    },
    {
      "cell_type": "markdown",
      "metadata": {
        "id": "hNK12mpBvvev"
      },
      "source": [
        "6. Create a panda dataframe with the variables `s`, `s_squared` and the `response_variable` and change the columns name for \n",
        "`first variable`, `second variable` and `response variable`."
      ]
    },
    {
      "cell_type": "code",
      "metadata": {
        "id": "oV4kk5VIBO07",
        "colab": {
          "base_uri": "https://localhost:8080/",
          "height": 206
        },
        "outputId": "c4563442-d0f0-45fd-ef3c-cc792d77ef6d"
      },
      "source": [
        " d_ = {'first variable':s, 'second variable':s_squared, 'response variable':response_variable} \n",
        "df = pd.DataFrame(data=d_)\n",
        "df.head()"
      ],
      "execution_count": 34,
      "outputs": [
        {
          "output_type": "execute_result",
          "data": {
            "text/html": [
              "\n",
              "  <div id=\"df-385d49cb-8c0c-4b0b-a7bf-47300c1a9d8b\">\n",
              "    <div class=\"colab-df-container\">\n",
              "      <div>\n",
              "<style scoped>\n",
              "    .dataframe tbody tr th:only-of-type {\n",
              "        vertical-align: middle;\n",
              "    }\n",
              "\n",
              "    .dataframe tbody tr th {\n",
              "        vertical-align: top;\n",
              "    }\n",
              "\n",
              "    .dataframe thead th {\n",
              "        text-align: right;\n",
              "    }\n",
              "</style>\n",
              "<table border=\"1\" class=\"dataframe\">\n",
              "  <thead>\n",
              "    <tr style=\"text-align: right;\">\n",
              "      <th></th>\n",
              "      <th>first variable</th>\n",
              "      <th>second variable</th>\n",
              "      <th>response variable</th>\n",
              "    </tr>\n",
              "  </thead>\n",
              "  <tbody>\n",
              "    <tr>\n",
              "      <th>0</th>\n",
              "      <td>6.624345</td>\n",
              "      <td>43.881951</td>\n",
              "      <td>144.863898</td>\n",
              "    </tr>\n",
              "    <tr>\n",
              "      <th>1</th>\n",
              "      <td>4.388244</td>\n",
              "      <td>19.256682</td>\n",
              "      <td>66.060031</td>\n",
              "    </tr>\n",
              "    <tr>\n",
              "      <th>2</th>\n",
              "      <td>4.471828</td>\n",
              "      <td>19.997248</td>\n",
              "      <td>69.036997</td>\n",
              "    </tr>\n",
              "    <tr>\n",
              "      <th>3</th>\n",
              "      <td>3.927031</td>\n",
              "      <td>15.421575</td>\n",
              "      <td>54.053983</td>\n",
              "    </tr>\n",
              "    <tr>\n",
              "      <th>4</th>\n",
              "      <td>5.865408</td>\n",
              "      <td>34.403007</td>\n",
              "      <td>114.637620</td>\n",
              "    </tr>\n",
              "  </tbody>\n",
              "</table>\n",
              "</div>\n",
              "      <button class=\"colab-df-convert\" onclick=\"convertToInteractive('df-385d49cb-8c0c-4b0b-a7bf-47300c1a9d8b')\"\n",
              "              title=\"Convert this dataframe to an interactive table.\"\n",
              "              style=\"display:none;\">\n",
              "        \n",
              "  <svg xmlns=\"http://www.w3.org/2000/svg\" height=\"24px\"viewBox=\"0 0 24 24\"\n",
              "       width=\"24px\">\n",
              "    <path d=\"M0 0h24v24H0V0z\" fill=\"none\"/>\n",
              "    <path d=\"M18.56 5.44l.94 2.06.94-2.06 2.06-.94-2.06-.94-.94-2.06-.94 2.06-2.06.94zm-11 1L8.5 8.5l.94-2.06 2.06-.94-2.06-.94L8.5 2.5l-.94 2.06-2.06.94zm10 10l.94 2.06.94-2.06 2.06-.94-2.06-.94-.94-2.06-.94 2.06-2.06.94z\"/><path d=\"M17.41 7.96l-1.37-1.37c-.4-.4-.92-.59-1.43-.59-.52 0-1.04.2-1.43.59L10.3 9.45l-7.72 7.72c-.78.78-.78 2.05 0 2.83L4 21.41c.39.39.9.59 1.41.59.51 0 1.02-.2 1.41-.59l7.78-7.78 2.81-2.81c.8-.78.8-2.07 0-2.86zM5.41 20L4 18.59l7.72-7.72 1.47 1.35L5.41 20z\"/>\n",
              "  </svg>\n",
              "      </button>\n",
              "      \n",
              "  <style>\n",
              "    .colab-df-container {\n",
              "      display:flex;\n",
              "      flex-wrap:wrap;\n",
              "      gap: 12px;\n",
              "    }\n",
              "\n",
              "    .colab-df-convert {\n",
              "      background-color: #E8F0FE;\n",
              "      border: none;\n",
              "      border-radius: 50%;\n",
              "      cursor: pointer;\n",
              "      display: none;\n",
              "      fill: #1967D2;\n",
              "      height: 32px;\n",
              "      padding: 0 0 0 0;\n",
              "      width: 32px;\n",
              "    }\n",
              "\n",
              "    .colab-df-convert:hover {\n",
              "      background-color: #E2EBFA;\n",
              "      box-shadow: 0px 1px 2px rgba(60, 64, 67, 0.3), 0px 1px 3px 1px rgba(60, 64, 67, 0.15);\n",
              "      fill: #174EA6;\n",
              "    }\n",
              "\n",
              "    [theme=dark] .colab-df-convert {\n",
              "      background-color: #3B4455;\n",
              "      fill: #D2E3FC;\n",
              "    }\n",
              "\n",
              "    [theme=dark] .colab-df-convert:hover {\n",
              "      background-color: #434B5C;\n",
              "      box-shadow: 0px 1px 3px 1px rgba(0, 0, 0, 0.15);\n",
              "      filter: drop-shadow(0px 1px 2px rgba(0, 0, 0, 0.3));\n",
              "      fill: #FFFFFF;\n",
              "    }\n",
              "  </style>\n",
              "\n",
              "      <script>\n",
              "        const buttonEl =\n",
              "          document.querySelector('#df-385d49cb-8c0c-4b0b-a7bf-47300c1a9d8b button.colab-df-convert');\n",
              "        buttonEl.style.display =\n",
              "          google.colab.kernel.accessAllowed ? 'block' : 'none';\n",
              "\n",
              "        async function convertToInteractive(key) {\n",
              "          const element = document.querySelector('#df-385d49cb-8c0c-4b0b-a7bf-47300c1a9d8b');\n",
              "          const dataTable =\n",
              "            await google.colab.kernel.invokeFunction('convertToInteractive',\n",
              "                                                     [key], {});\n",
              "          if (!dataTable) return;\n",
              "\n",
              "          const docLinkHtml = 'Like what you see? Visit the ' +\n",
              "            '<a target=\"_blank\" href=https://colab.research.google.com/notebooks/data_table.ipynb>data table notebook</a>'\n",
              "            + ' to learn more about interactive tables.';\n",
              "          element.innerHTML = '';\n",
              "          dataTable['output_type'] = 'display_data';\n",
              "          await google.colab.output.renderOutput(dataTable, element);\n",
              "          const docLink = document.createElement('div');\n",
              "          docLink.innerHTML = docLinkHtml;\n",
              "          element.appendChild(docLink);\n",
              "        }\n",
              "      </script>\n",
              "    </div>\n",
              "  </div>\n",
              "  "
            ],
            "text/plain": [
              "   first variable  second variable  response variable\n",
              "0        6.624345        43.881951         144.863898\n",
              "1        4.388244        19.256682          66.060031\n",
              "2        4.471828        19.997248          69.036997\n",
              "3        3.927031        15.421575          54.053983\n",
              "4        5.865408        34.403007         114.637620"
            ]
          },
          "metadata": {},
          "execution_count": 34
        }
      ]
    },
    {
      "cell_type": "code",
      "metadata": {
        "id": "5SWD8XXrBO1A"
      },
      "source": [
        "7. Export your pandas dataframe to your current directory and name it synthetic_data_lr."
      ],
      "execution_count": null,
      "outputs": []
    },
    {
      "cell_type": "code",
      "metadata": {
        "id": "H8HGDJW6vve2"
      },
      "source": [
        "home_path = os.getcwd() \n",
        "file_name = 'synthetic_data_lr.csv'\n",
        "df.to_csv(home_path + r'\\\\' + file_name, index=False, header=True)"
      ],
      "execution_count": null,
      "outputs": []
    },
    {
      "cell_type": "markdown",
      "metadata": {
        "id": "yqbjQ_9rBO1E"
      },
      "source": [
        "### c) Data Visualization"
      ]
    },
    {
      "cell_type": "markdown",
      "metadata": {
        "id": "t7Pblt0uvve6"
      },
      "source": [
        "1. Upload the tips dataset from seaborn."
      ]
    },
    {
      "cell_type": "code",
      "metadata": {
        "id": "5FXtzf0cBO1G"
      },
      "source": [
        "# Inspired from: https://github.com/knathanieltucker/seaborn-weird-parts\n",
        "import seaborn as sns\n",
        "sns.set(font_scale=1)\n",
        "tips = sns.load_dataset(\"tips\")"
      ],
      "execution_count": 35,
      "outputs": []
    },
    {
      "cell_type": "markdown",
      "metadata": {
        "id": "jMJM9oxyvvfD"
      },
      "source": [
        "2. Print the five first rows of the tips dataset."
      ]
    },
    {
      "cell_type": "code",
      "metadata": {
        "id": "n3sw7eTSBO1K",
        "colab": {
          "base_uri": "https://localhost:8080/",
          "height": 206
        },
        "outputId": "0203baf3-3260-4773-d983-a2a883ace172"
      },
      "source": [
        "tips.head()"
      ],
      "execution_count": 36,
      "outputs": [
        {
          "output_type": "execute_result",
          "data": {
            "text/html": [
              "\n",
              "  <div id=\"df-e26ad9ae-f988-44ad-9762-1753d6e8be82\">\n",
              "    <div class=\"colab-df-container\">\n",
              "      <div>\n",
              "<style scoped>\n",
              "    .dataframe tbody tr th:only-of-type {\n",
              "        vertical-align: middle;\n",
              "    }\n",
              "\n",
              "    .dataframe tbody tr th {\n",
              "        vertical-align: top;\n",
              "    }\n",
              "\n",
              "    .dataframe thead th {\n",
              "        text-align: right;\n",
              "    }\n",
              "</style>\n",
              "<table border=\"1\" class=\"dataframe\">\n",
              "  <thead>\n",
              "    <tr style=\"text-align: right;\">\n",
              "      <th></th>\n",
              "      <th>total_bill</th>\n",
              "      <th>tip</th>\n",
              "      <th>sex</th>\n",
              "      <th>smoker</th>\n",
              "      <th>day</th>\n",
              "      <th>time</th>\n",
              "      <th>size</th>\n",
              "    </tr>\n",
              "  </thead>\n",
              "  <tbody>\n",
              "    <tr>\n",
              "      <th>0</th>\n",
              "      <td>16.99</td>\n",
              "      <td>1.01</td>\n",
              "      <td>Female</td>\n",
              "      <td>No</td>\n",
              "      <td>Sun</td>\n",
              "      <td>Dinner</td>\n",
              "      <td>2</td>\n",
              "    </tr>\n",
              "    <tr>\n",
              "      <th>1</th>\n",
              "      <td>10.34</td>\n",
              "      <td>1.66</td>\n",
              "      <td>Male</td>\n",
              "      <td>No</td>\n",
              "      <td>Sun</td>\n",
              "      <td>Dinner</td>\n",
              "      <td>3</td>\n",
              "    </tr>\n",
              "    <tr>\n",
              "      <th>2</th>\n",
              "      <td>21.01</td>\n",
              "      <td>3.50</td>\n",
              "      <td>Male</td>\n",
              "      <td>No</td>\n",
              "      <td>Sun</td>\n",
              "      <td>Dinner</td>\n",
              "      <td>3</td>\n",
              "    </tr>\n",
              "    <tr>\n",
              "      <th>3</th>\n",
              "      <td>23.68</td>\n",
              "      <td>3.31</td>\n",
              "      <td>Male</td>\n",
              "      <td>No</td>\n",
              "      <td>Sun</td>\n",
              "      <td>Dinner</td>\n",
              "      <td>2</td>\n",
              "    </tr>\n",
              "    <tr>\n",
              "      <th>4</th>\n",
              "      <td>24.59</td>\n",
              "      <td>3.61</td>\n",
              "      <td>Female</td>\n",
              "      <td>No</td>\n",
              "      <td>Sun</td>\n",
              "      <td>Dinner</td>\n",
              "      <td>4</td>\n",
              "    </tr>\n",
              "  </tbody>\n",
              "</table>\n",
              "</div>\n",
              "      <button class=\"colab-df-convert\" onclick=\"convertToInteractive('df-e26ad9ae-f988-44ad-9762-1753d6e8be82')\"\n",
              "              title=\"Convert this dataframe to an interactive table.\"\n",
              "              style=\"display:none;\">\n",
              "        \n",
              "  <svg xmlns=\"http://www.w3.org/2000/svg\" height=\"24px\"viewBox=\"0 0 24 24\"\n",
              "       width=\"24px\">\n",
              "    <path d=\"M0 0h24v24H0V0z\" fill=\"none\"/>\n",
              "    <path d=\"M18.56 5.44l.94 2.06.94-2.06 2.06-.94-2.06-.94-.94-2.06-.94 2.06-2.06.94zm-11 1L8.5 8.5l.94-2.06 2.06-.94-2.06-.94L8.5 2.5l-.94 2.06-2.06.94zm10 10l.94 2.06.94-2.06 2.06-.94-2.06-.94-.94-2.06-.94 2.06-2.06.94z\"/><path d=\"M17.41 7.96l-1.37-1.37c-.4-.4-.92-.59-1.43-.59-.52 0-1.04.2-1.43.59L10.3 9.45l-7.72 7.72c-.78.78-.78 2.05 0 2.83L4 21.41c.39.39.9.59 1.41.59.51 0 1.02-.2 1.41-.59l7.78-7.78 2.81-2.81c.8-.78.8-2.07 0-2.86zM5.41 20L4 18.59l7.72-7.72 1.47 1.35L5.41 20z\"/>\n",
              "  </svg>\n",
              "      </button>\n",
              "      \n",
              "  <style>\n",
              "    .colab-df-container {\n",
              "      display:flex;\n",
              "      flex-wrap:wrap;\n",
              "      gap: 12px;\n",
              "    }\n",
              "\n",
              "    .colab-df-convert {\n",
              "      background-color: #E8F0FE;\n",
              "      border: none;\n",
              "      border-radius: 50%;\n",
              "      cursor: pointer;\n",
              "      display: none;\n",
              "      fill: #1967D2;\n",
              "      height: 32px;\n",
              "      padding: 0 0 0 0;\n",
              "      width: 32px;\n",
              "    }\n",
              "\n",
              "    .colab-df-convert:hover {\n",
              "      background-color: #E2EBFA;\n",
              "      box-shadow: 0px 1px 2px rgba(60, 64, 67, 0.3), 0px 1px 3px 1px rgba(60, 64, 67, 0.15);\n",
              "      fill: #174EA6;\n",
              "    }\n",
              "\n",
              "    [theme=dark] .colab-df-convert {\n",
              "      background-color: #3B4455;\n",
              "      fill: #D2E3FC;\n",
              "    }\n",
              "\n",
              "    [theme=dark] .colab-df-convert:hover {\n",
              "      background-color: #434B5C;\n",
              "      box-shadow: 0px 1px 3px 1px rgba(0, 0, 0, 0.15);\n",
              "      filter: drop-shadow(0px 1px 2px rgba(0, 0, 0, 0.3));\n",
              "      fill: #FFFFFF;\n",
              "    }\n",
              "  </style>\n",
              "\n",
              "      <script>\n",
              "        const buttonEl =\n",
              "          document.querySelector('#df-e26ad9ae-f988-44ad-9762-1753d6e8be82 button.colab-df-convert');\n",
              "        buttonEl.style.display =\n",
              "          google.colab.kernel.accessAllowed ? 'block' : 'none';\n",
              "\n",
              "        async function convertToInteractive(key) {\n",
              "          const element = document.querySelector('#df-e26ad9ae-f988-44ad-9762-1753d6e8be82');\n",
              "          const dataTable =\n",
              "            await google.colab.kernel.invokeFunction('convertToInteractive',\n",
              "                                                     [key], {});\n",
              "          if (!dataTable) return;\n",
              "\n",
              "          const docLinkHtml = 'Like what you see? Visit the ' +\n",
              "            '<a target=\"_blank\" href=https://colab.research.google.com/notebooks/data_table.ipynb>data table notebook</a>'\n",
              "            + ' to learn more about interactive tables.';\n",
              "          element.innerHTML = '';\n",
              "          dataTable['output_type'] = 'display_data';\n",
              "          await google.colab.output.renderOutput(dataTable, element);\n",
              "          const docLink = document.createElement('div');\n",
              "          docLink.innerHTML = docLinkHtml;\n",
              "          element.appendChild(docLink);\n",
              "        }\n",
              "      </script>\n",
              "    </div>\n",
              "  </div>\n",
              "  "
            ],
            "text/plain": [
              "   total_bill   tip     sex smoker  day    time  size\n",
              "0       16.99  1.01  Female     No  Sun  Dinner     2\n",
              "1       10.34  1.66    Male     No  Sun  Dinner     3\n",
              "2       21.01  3.50    Male     No  Sun  Dinner     3\n",
              "3       23.68  3.31    Male     No  Sun  Dinner     2\n",
              "4       24.59  3.61  Female     No  Sun  Dinner     4"
            ]
          },
          "metadata": {},
          "execution_count": 36
        }
      ]
    },
    {
      "cell_type": "markdown",
      "metadata": {
        "id": "W4J-HORlvvfK"
      },
      "source": [
        "3. Print the last 5 rows of the tips dataframe"
      ]
    },
    {
      "cell_type": "code",
      "metadata": {
        "id": "qvu8nSGBBO1P",
        "colab": {
          "base_uri": "https://localhost:8080/",
          "height": 206
        },
        "outputId": "0d3680a0-b881-4c59-e65d-74c22904c2c8"
      },
      "source": [
        "tips.tail()"
      ],
      "execution_count": 37,
      "outputs": [
        {
          "output_type": "execute_result",
          "data": {
            "text/html": [
              "\n",
              "  <div id=\"df-a35c58bb-3915-4c5e-b687-d2bc91e1f055\">\n",
              "    <div class=\"colab-df-container\">\n",
              "      <div>\n",
              "<style scoped>\n",
              "    .dataframe tbody tr th:only-of-type {\n",
              "        vertical-align: middle;\n",
              "    }\n",
              "\n",
              "    .dataframe tbody tr th {\n",
              "        vertical-align: top;\n",
              "    }\n",
              "\n",
              "    .dataframe thead th {\n",
              "        text-align: right;\n",
              "    }\n",
              "</style>\n",
              "<table border=\"1\" class=\"dataframe\">\n",
              "  <thead>\n",
              "    <tr style=\"text-align: right;\">\n",
              "      <th></th>\n",
              "      <th>total_bill</th>\n",
              "      <th>tip</th>\n",
              "      <th>sex</th>\n",
              "      <th>smoker</th>\n",
              "      <th>day</th>\n",
              "      <th>time</th>\n",
              "      <th>size</th>\n",
              "    </tr>\n",
              "  </thead>\n",
              "  <tbody>\n",
              "    <tr>\n",
              "      <th>239</th>\n",
              "      <td>29.03</td>\n",
              "      <td>5.92</td>\n",
              "      <td>Male</td>\n",
              "      <td>No</td>\n",
              "      <td>Sat</td>\n",
              "      <td>Dinner</td>\n",
              "      <td>3</td>\n",
              "    </tr>\n",
              "    <tr>\n",
              "      <th>240</th>\n",
              "      <td>27.18</td>\n",
              "      <td>2.00</td>\n",
              "      <td>Female</td>\n",
              "      <td>Yes</td>\n",
              "      <td>Sat</td>\n",
              "      <td>Dinner</td>\n",
              "      <td>2</td>\n",
              "    </tr>\n",
              "    <tr>\n",
              "      <th>241</th>\n",
              "      <td>22.67</td>\n",
              "      <td>2.00</td>\n",
              "      <td>Male</td>\n",
              "      <td>Yes</td>\n",
              "      <td>Sat</td>\n",
              "      <td>Dinner</td>\n",
              "      <td>2</td>\n",
              "    </tr>\n",
              "    <tr>\n",
              "      <th>242</th>\n",
              "      <td>17.82</td>\n",
              "      <td>1.75</td>\n",
              "      <td>Male</td>\n",
              "      <td>No</td>\n",
              "      <td>Sat</td>\n",
              "      <td>Dinner</td>\n",
              "      <td>2</td>\n",
              "    </tr>\n",
              "    <tr>\n",
              "      <th>243</th>\n",
              "      <td>18.78</td>\n",
              "      <td>3.00</td>\n",
              "      <td>Female</td>\n",
              "      <td>No</td>\n",
              "      <td>Thur</td>\n",
              "      <td>Dinner</td>\n",
              "      <td>2</td>\n",
              "    </tr>\n",
              "  </tbody>\n",
              "</table>\n",
              "</div>\n",
              "      <button class=\"colab-df-convert\" onclick=\"convertToInteractive('df-a35c58bb-3915-4c5e-b687-d2bc91e1f055')\"\n",
              "              title=\"Convert this dataframe to an interactive table.\"\n",
              "              style=\"display:none;\">\n",
              "        \n",
              "  <svg xmlns=\"http://www.w3.org/2000/svg\" height=\"24px\"viewBox=\"0 0 24 24\"\n",
              "       width=\"24px\">\n",
              "    <path d=\"M0 0h24v24H0V0z\" fill=\"none\"/>\n",
              "    <path d=\"M18.56 5.44l.94 2.06.94-2.06 2.06-.94-2.06-.94-.94-2.06-.94 2.06-2.06.94zm-11 1L8.5 8.5l.94-2.06 2.06-.94-2.06-.94L8.5 2.5l-.94 2.06-2.06.94zm10 10l.94 2.06.94-2.06 2.06-.94-2.06-.94-.94-2.06-.94 2.06-2.06.94z\"/><path d=\"M17.41 7.96l-1.37-1.37c-.4-.4-.92-.59-1.43-.59-.52 0-1.04.2-1.43.59L10.3 9.45l-7.72 7.72c-.78.78-.78 2.05 0 2.83L4 21.41c.39.39.9.59 1.41.59.51 0 1.02-.2 1.41-.59l7.78-7.78 2.81-2.81c.8-.78.8-2.07 0-2.86zM5.41 20L4 18.59l7.72-7.72 1.47 1.35L5.41 20z\"/>\n",
              "  </svg>\n",
              "      </button>\n",
              "      \n",
              "  <style>\n",
              "    .colab-df-container {\n",
              "      display:flex;\n",
              "      flex-wrap:wrap;\n",
              "      gap: 12px;\n",
              "    }\n",
              "\n",
              "    .colab-df-convert {\n",
              "      background-color: #E8F0FE;\n",
              "      border: none;\n",
              "      border-radius: 50%;\n",
              "      cursor: pointer;\n",
              "      display: none;\n",
              "      fill: #1967D2;\n",
              "      height: 32px;\n",
              "      padding: 0 0 0 0;\n",
              "      width: 32px;\n",
              "    }\n",
              "\n",
              "    .colab-df-convert:hover {\n",
              "      background-color: #E2EBFA;\n",
              "      box-shadow: 0px 1px 2px rgba(60, 64, 67, 0.3), 0px 1px 3px 1px rgba(60, 64, 67, 0.15);\n",
              "      fill: #174EA6;\n",
              "    }\n",
              "\n",
              "    [theme=dark] .colab-df-convert {\n",
              "      background-color: #3B4455;\n",
              "      fill: #D2E3FC;\n",
              "    }\n",
              "\n",
              "    [theme=dark] .colab-df-convert:hover {\n",
              "      background-color: #434B5C;\n",
              "      box-shadow: 0px 1px 3px 1px rgba(0, 0, 0, 0.15);\n",
              "      filter: drop-shadow(0px 1px 2px rgba(0, 0, 0, 0.3));\n",
              "      fill: #FFFFFF;\n",
              "    }\n",
              "  </style>\n",
              "\n",
              "      <script>\n",
              "        const buttonEl =\n",
              "          document.querySelector('#df-a35c58bb-3915-4c5e-b687-d2bc91e1f055 button.colab-df-convert');\n",
              "        buttonEl.style.display =\n",
              "          google.colab.kernel.accessAllowed ? 'block' : 'none';\n",
              "\n",
              "        async function convertToInteractive(key) {\n",
              "          const element = document.querySelector('#df-a35c58bb-3915-4c5e-b687-d2bc91e1f055');\n",
              "          const dataTable =\n",
              "            await google.colab.kernel.invokeFunction('convertToInteractive',\n",
              "                                                     [key], {});\n",
              "          if (!dataTable) return;\n",
              "\n",
              "          const docLinkHtml = 'Like what you see? Visit the ' +\n",
              "            '<a target=\"_blank\" href=https://colab.research.google.com/notebooks/data_table.ipynb>data table notebook</a>'\n",
              "            + ' to learn more about interactive tables.';\n",
              "          element.innerHTML = '';\n",
              "          dataTable['output_type'] = 'display_data';\n",
              "          await google.colab.output.renderOutput(dataTable, element);\n",
              "          const docLink = document.createElement('div');\n",
              "          docLink.innerHTML = docLinkHtml;\n",
              "          element.appendChild(docLink);\n",
              "        }\n",
              "      </script>\n",
              "    </div>\n",
              "  </div>\n",
              "  "
            ],
            "text/plain": [
              "     total_bill   tip     sex smoker   day    time  size\n",
              "239       29.03  5.92    Male     No   Sat  Dinner     3\n",
              "240       27.18  2.00  Female    Yes   Sat  Dinner     2\n",
              "241       22.67  2.00    Male    Yes   Sat  Dinner     2\n",
              "242       17.82  1.75    Male     No   Sat  Dinner     2\n",
              "243       18.78  3.00  Female     No  Thur  Dinner     2"
            ]
          },
          "metadata": {},
          "execution_count": 37
        }
      ]
    },
    {
      "cell_type": "markdown",
      "metadata": {
        "id": "Qd35eCC-vvfO"
      },
      "source": [
        "4. Draw a boxplot for the total bill with time on the x-axis."
      ]
    },
    {
      "cell_type": "code",
      "metadata": {
        "id": "ccCcQWZgBO1T",
        "colab": {
          "base_uri": "https://localhost:8080/",
          "height": 285
        },
        "outputId": "b7079458-5c67-41dd-f385-b8c4293f8932"
      },
      "source": [
        "ax = sns.boxplot(x=\"time\", y=\"tip\", data=tips)"
      ],
      "execution_count": 38,
      "outputs": [
        {
          "output_type": "display_data",
          "data": {
            "image/png": "[encoded data removed]",
            "text/plain": [
              "<Figure size 432x288 with 1 Axes>"
            ]
          },
          "metadata": {}
        }
      ]
    },
    {
      "cell_type": "markdown",
      "metadata": {
        "id": "5c2ugw4mvvfT"
      },
      "source": [
        "5. Pair the box in order to comprare the tip for smoker vs non-smoker"
      ]
    },
    {
      "cell_type": "code",
      "metadata": {
        "id": "7ai7Qe5mBO1a",
        "colab": {
          "base_uri": "https://localhost:8080/",
          "height": 285
        },
        "outputId": "1d83b0e3-c2e0-4876-b75d-f743e5584d60"
      },
      "source": [
        "ax = sns.boxplot(x=\"time\", y=\"tip\", hue=\"smoker\", data=tips)"
      ],
      "execution_count": 39,
      "outputs": [
        {
          "output_type": "display_data",
          "data": {
            "image/png": "[encoded data removed]",
            "text/plain": [
              "<Figure size 432x288 with 1 Axes>"
            ]
          },
          "metadata": {}
        }
      ]
    },
    {
      "cell_type": "markdown",
      "metadata": {
        "id": "nLcYUNNfvvfX"
      },
      "source": [
        "6. Display two plots side by side. The first one should be a scatterplot with tip on the x-axis and Total bill on y-axis. The second one should be a boxplot with day of the week on the x-axis and total bill on the y-axis. Save the combined figure as a png file with dpi quality of 500."
      ]
    },
    {
      "cell_type": "code",
      "metadata": {
        "id": "mEPxvaYZBO1g",
        "colab": {
          "base_uri": "https://localhost:8080/",
          "height": 568
        },
        "outputId": "f7b74fef-dcb0-4efa-acd7-0f881c647d80"
      },
      "source": [
        "fig, ax = plt.subplots(1,2, figsize=(15,7))\n",
        "ax[0].scatter(tips['tip'], tips['total_bill'], color=sns.color_palette('Blues')[-1])\n",
        "ax[0].set(title='Scatter plot of bills and tips', ylabel='Total bill', xlabel='Tip')\n",
        "sns.boxplot(x='day', y='total_bill', data=tips, palette='Blues', ax=ax[1])\n",
        "ax[1].set(title='Total bill', ylabel='Total bill', xlabel='Day of the week')\n",
        "plt.show()\n",
        "fig.savefig('combined_plots.png', format='png', dpi=500)"
      ],
      "execution_count": 40,
      "outputs": [
        {
          "output_type": "execute_result",
          "data": {
            "text/plain": [
              "<matplotlib.collections.PathCollection at 0x7fcde9751810>"
            ]
          },
          "metadata": {},
          "execution_count": 40
        },
        {
          "output_type": "execute_result",
          "data": {
            "text/plain": [
              "[Text(0, 0.5, 'Total bill'),\n",
              " Text(0.5, 0, 'Tip'),\n",
              " Text(0.5, 1.0, 'Scatter plot of bills and tips')]"
            ]
          },
          "metadata": {},
          "execution_count": 40
        },
        {
          "output_type": "execute_result",
          "data": {
            "text/plain": [
              "<matplotlib.axes._subplots.AxesSubplot at 0x7fcde979c0d0>"
            ]
          },
          "metadata": {},
          "execution_count": 40
        },
        {
          "output_type": "execute_result",
          "data": {
            "text/plain": [
              "[Text(0, 0.5, 'Total bill'),\n",
              " Text(0.5, 0, 'Day of the week'),\n",
              " Text(0.5, 1.0, 'Total bill')]"
            ]
          },
          "metadata": {},
          "execution_count": 40
        },
        {
          "output_type": "display_data",
          "data": {
            "image/png": "[encoded data removed]",
            "text/plain": [
              "<Figure size 1080x504 with 2 Axes>"
            ]
          },
          "metadata": {}
        }
      ]
    },
    {
      "cell_type": "markdown",
      "metadata": {
        "id": "4U3yuyOOvvfc"
      },
      "source": [
        "7. Display a bar plot (with error bars) with mean total bill on the y-axis and the day of the week on the x-axis. For each modality of day of week, there should be two bars (one for male and one for female)."
      ]
    },
    {
      "cell_type": "code",
      "metadata": {
        "id": "fVnnQMdNBO1k",
        "colab": {
          "base_uri": "https://localhost:8080/",
          "height": 465
        },
        "outputId": "0b2ce718-f0a7-44d5-9400-96494bb88adc"
      },
      "source": [
        "fig, ax = plt.subplots(1,1, figsize=(12,7))\n",
        "ax = sns.barplot(x=\"day\", y=\"total_bill\", hue=\"sex\", data=tips)\n",
        "ax.set(xlabel='Day of Week', ylabel='Mean Total bill')\n",
        "fig.savefig(\"mean_total_bill.pdf\", bbox_inches='tight')"
      ],
      "execution_count": 41,
      "outputs": [
        {
          "output_type": "execute_result",
          "data": {
            "text/plain": [
              "[Text(0, 0.5, 'Mean Total bill'), Text(0.5, 0, 'Day of Week')]"
            ]
          },
          "metadata": {},
          "execution_count": 41
        },
        {
          "output_type": "display_data",
          "data": {
            "image/png": "[encoded data removed]",
            "text/plain": [
              "<Figure size 864x504 with 1 Axes>"
            ]
          },
          "metadata": {}
        }
      ]
    },
    {
      "cell_type": "code",
      "metadata": {
        "id": "878WROZmBO1p"
      },
      "source": [
        ""
      ],
      "execution_count": null,
      "outputs": []
    }
  ]
}